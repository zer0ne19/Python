{
 "cells": [
  {
   "cell_type": "markdown",
   "metadata": {},
   "source": [
    "## 클래스"
   ]
  },
  {
   "cell_type": "markdown",
   "metadata": {},
   "source": [
    "```java\n",
    "// java 예시\n",
    "class Person {\n",
    "\tString name;\n",
    "\tString region;\n",
    "\n",
    "\tPerson(String name, String region) {\n",
    "\t\tthis.name = name;\n",
    "\t\tthis.region = region;\n",
    "\t}\n",
    "}\n",
    "\n",
    "Person person = new Person(\"Chinseok Lee\", \"Daejeon\");\n",
    "```"
   ]
  },
  {
   "cell_type": "markdown",
   "metadata": {},
   "source": [
    "```python\n",
    "# python 예시\n",
    "class Person:\n",
    "\tdef __init__(self, name, region):\n",
    "\t\tself.name = name\n",
    "\t\tself.region = region\n",
    "\n",
    "person = Person('Chinseok Lee', 'daejeon')\n",
    "```"
   ]
  },
  {
   "cell_type": "code",
   "execution_count": 1,
   "metadata": {},
   "outputs": [],
   "source": [
    "class Dog:\n",
    "    tricks = []  # Class Variables\n",
    "    \n",
    "    def add_trick(self, trick):\n",
    "        self.tricks.append(trick)"
   ]
  },
  {
   "cell_type": "code",
   "execution_count": 2,
   "metadata": {},
   "outputs": [],
   "source": [
    "dog1 = Dog()\n",
    "dog1.add_trick('roll over')\n",
    "\n",
    "dog2 = Dog()\n",
    "dog2.add_trick('play dead')"
   ]
  },
  {
   "cell_type": "code",
   "execution_count": 3,
   "metadata": {},
   "outputs": [
    {
     "name": "stdout",
     "output_type": "stream",
     "text": [
      "['roll over', 'play dead']\n",
      "['roll over', 'play dead']\n"
     ]
    }
   ],
   "source": [
    "print(dog1.tricks)\n",
    "print(dog2.tricks)"
   ]
  },
  {
   "cell_type": "code",
   "execution_count": 4,
   "metadata": {},
   "outputs": [
    {
     "data": {
      "text/plain": [
       "(4415750088, 4415750088)"
      ]
     },
     "execution_count": 4,
     "metadata": {},
     "output_type": "execute_result"
    }
   ],
   "source": [
    "id(dog1.tricks), id(dog2.tricks)"
   ]
  },
  {
   "cell_type": "code",
   "execution_count": 5,
   "metadata": {},
   "outputs": [
    {
     "data": {
      "text/plain": [
       "4415750088"
      ]
     },
     "execution_count": 5,
     "metadata": {},
     "output_type": "execute_result"
    }
   ],
   "source": [
    "id(Dog.tricks)"
   ]
  },
  {
   "cell_type": "markdown",
   "metadata": {},
   "source": [
    "개선"
   ]
  },
  {
   "cell_type": "code",
   "execution_count": 6,
   "metadata": {},
   "outputs": [
    {
     "name": "stdout",
     "output_type": "stream",
     "text": [
      "['roll over']\n",
      "['play dead']\n",
      "4415093320 4415093192\n"
     ]
    }
   ],
   "source": [
    "class Dog:\n",
    "#     tricks = []  # Class Variables\n",
    "    def __init__(self):\n",
    "        self.tricks = []\n",
    "    \n",
    "    def add_trick(self, trick):\n",
    "        self.tricks.append(trick)\n",
    "        \n",
    "dog1 = Dog()\n",
    "dog1.add_trick('roll over')\n",
    "\n",
    "dog2 = Dog()\n",
    "dog2.add_trick('play dead')\n",
    "\n",
    "print(dog1.tricks)\n",
    "print(dog2.tricks)\n",
    "\n",
    "print(id(dog1.tricks), id(dog2.tricks))"
   ]
  },
  {
   "cell_type": "markdown",
   "metadata": {},
   "source": [
    "디폴트 인자에 대한 고찰"
   ]
  },
  {
   "cell_type": "code",
   "execution_count": 8,
   "metadata": {},
   "outputs": [],
   "source": [
    "def add_trick(trick, tricks=[]):  # 디폴트인자는 Immutable한 객체만 쓰셔야합니다.\n",
    "    tricks.append(trick)\n",
    "    return tricks"
   ]
  },
  {
   "cell_type": "code",
   "execution_count": 9,
   "metadata": {},
   "outputs": [
    {
     "data": {
      "text/plain": [
       "['play dead']"
      ]
     },
     "execution_count": 9,
     "metadata": {},
     "output_type": "execute_result"
    }
   ],
   "source": [
    "add_trick('play dead')"
   ]
  },
  {
   "cell_type": "code",
   "execution_count": 10,
   "metadata": {},
   "outputs": [
    {
     "data": {
      "text/plain": [
       "['play dead', 'roll over']"
      ]
     },
     "execution_count": 10,
     "metadata": {},
     "output_type": "execute_result"
    }
   ],
   "source": [
    "add_trick('roll over')"
   ]
  },
  {
   "cell_type": "markdown",
   "metadata": {},
   "source": [
    "해결책"
   ]
  },
  {
   "cell_type": "code",
   "execution_count": 11,
   "metadata": {},
   "outputs": [],
   "source": [
    "def add_trick(trick, tricks=None):\n",
    "    if tricks is None:\n",
    "        tricks = []\n",
    "    tricks.append(trick)\n",
    "    return tricks"
   ]
  },
  {
   "cell_type": "code",
   "execution_count": 12,
   "metadata": {},
   "outputs": [
    {
     "data": {
      "text/plain": [
       "['play dead']"
      ]
     },
     "execution_count": 12,
     "metadata": {},
     "output_type": "execute_result"
    }
   ],
   "source": [
    "add_trick('play dead')"
   ]
  },
  {
   "cell_type": "code",
   "execution_count": 13,
   "metadata": {},
   "outputs": [
    {
     "data": {
      "text/plain": [
       "['roll over']"
      ]
     },
     "execution_count": 13,
     "metadata": {},
     "output_type": "execute_result"
    }
   ],
   "source": [
    "add_trick('roll over')"
   ]
  },
  {
   "cell_type": "code",
   "execution_count": null,
   "metadata": {},
   "outputs": [],
   "source": []
  },
  {
   "cell_type": "code",
   "execution_count": 14,
   "metadata": {},
   "outputs": [],
   "source": [
    "import pandas as pd"
   ]
  },
  {
   "cell_type": "code",
   "execution_count": null,
   "metadata": {},
   "outputs": [],
   "source": [
    "pd.DataFrame"
   ]
  },
  {
   "cell_type": "markdown",
   "metadata": {},
   "source": [
    "## Overloading"
   ]
  },
  {
   "cell_type": "code",
   "execution_count": 22,
   "metadata": {},
   "outputs": [],
   "source": [
    "class Person:\n",
    "    def __init__(self, name, age):\n",
    "        self.name = name\n",
    "        self.age = age\n",
    "    \n",
    "    def __str__(self):\n",
    "        return self.name"
   ]
  },
  {
   "cell_type": "code",
   "execution_count": 23,
   "metadata": {},
   "outputs": [],
   "source": [
    "tom = Person('Tom', 10)"
   ]
  },
  {
   "cell_type": "code",
   "execution_count": 24,
   "metadata": {},
   "outputs": [
    {
     "name": "stdout",
     "output_type": "stream",
     "text": [
      "Person('Tom', 10)\n"
     ]
    }
   ],
   "source": [
    "repr(tom)  # 그 문자열 출력으로, 원래 객체를 만들 수 있는.\n",
    "\n",
    "print(\"Person('Tom', 10)\")"
   ]
  },
  {
   "cell_type": "code",
   "execution_count": 25,
   "metadata": {},
   "outputs": [
    {
     "data": {
      "text/plain": [
       "'Tom'"
      ]
     },
     "execution_count": 25,
     "metadata": {},
     "output_type": "execute_result"
    }
   ],
   "source": [
    "str(tom)  # tom.__str__()"
   ]
  },
  {
   "cell_type": "code",
   "execution_count": 26,
   "metadata": {},
   "outputs": [
    {
     "name": "stdout",
     "output_type": "stream",
     "text": [
      "Tom\n"
     ]
    }
   ],
   "source": [
    "print(tom)  # 내부적으로 str이 호출됨."
   ]
  },
  {
   "cell_type": "markdown",
   "metadata": {},
   "source": [
    "`Django`에서의 `Model` ORM\n",
    "\n",
    "```python\n",
    "class Post(models.Model):\n",
    "    title = models.CharField(max_length=100)\n",
    "    content = models.TextField()\n",
    "    \n",
    "    def __str__(self):\n",
    "        return self.title\n",
    "\n",
    "post = Post.objects.first()\n",
    "print(post)  # post.__str__()\n",
    "```"
   ]
  },
  {
   "cell_type": "markdown",
   "metadata": {},
   "source": [
    "## ex) 파일 I/O"
   ]
  },
  {
   "cell_type": "code",
   "execution_count": 27,
   "metadata": {},
   "outputs": [],
   "source": [
    "f = open(\"로그.log\", \"at\", encoding=\"utf8\")\n",
    "try:\n",
    "    f.write(\"line1\\n\")\n",
    "    f.write(\"line2\\n\")\n",
    "    f.write(\"line3\\n\")\n",
    "    1/0\n",
    "finally:\n",
    "    f.close()"
   ]
  },
  {
   "cell_type": "code",
   "execution_count": null,
   "metadata": {},
   "outputs": [],
   "source": [
    "with open(\"로그.log\", \"at\", encoding=\"utf8\") as f:\n",
    "    f.write(\"line1\\n\")\n",
    "    f.write(\"line2\\n\")\n",
    "    f.write(\"line3\\n\")\n",
    "    1/0"
   ]
  },
  {
   "cell_type": "markdown",
   "metadata": {},
   "source": [
    "Overloading에서 부모 멤버함수 호출"
   ]
  },
  {
   "cell_type": "code",
   "execution_count": 45,
   "metadata": {},
   "outputs": [],
   "source": [
    "class Person:\n",
    "    def __init__(self, name, region):\n",
    "        self.name = name\n",
    "        self.region = region\n",
    "    \n",
    "    def walk(self, direction):\n",
    "        print(\"{}이 {}로 걸어갑니다.\".format(self.name, direction))\n",
    "        \n",
    "class Developer(Person):\n",
    "    def walk(self, direction, drink):\n",
    "        ret = super().walk(direction)\n",
    "        print('{}이 헤드셋을 끼고 음악을 듣습니다.'.format(self.name))\n",
    "        print('{}를 마십니다.'.format(drink))\n",
    "        return ret"
   ]
  },
  {
   "cell_type": "code",
   "execution_count": 46,
   "metadata": {},
   "outputs": [
    {
     "name": "stdout",
     "output_type": "stream",
     "text": [
      "Tom이 부산대학교로 걸어갑니다.\n",
      "Steve이 부산대학교로 걸어갑니다.\n",
      "Steve이 헤드셋을 끼고 음악을 듣습니다.\n",
      "커피를 마십니다.\n"
     ]
    }
   ],
   "source": [
    "tom = Person('Tom', 10)\n",
    "tom.walk('부산대학교')\n",
    "\n",
    "steve = Developer('Steve', 25)\n",
    "steve.walk('부산대학교', '커피')"
   ]
  },
  {
   "cell_type": "markdown",
   "metadata": {},
   "source": [
    "## 장식자 (Decorators)"
   ]
  },
  {
   "cell_type": "code",
   "execution_count": 52,
   "metadata": {},
   "outputs": [
    {
     "name": "stdout",
     "output_type": "stream",
     "text": [
      "13\n",
      "14\n",
      "23\n",
      "24\n"
     ]
    }
   ],
   "source": [
    "def myfn(base_number):\n",
    "#     fn = lambda x, y: x + y + base_number\n",
    "    def fn(x, y):\n",
    "        return x + y + base_number\n",
    "    return fn\n",
    "\n",
    "base_10 = myfn(10)\n",
    "base_20 = myfn(20)\n",
    "\n",
    "print(base_10(1, 2))\n",
    "print(base_10(1, 3))\n",
    "\n",
    "print(base_20(1, 2))\n",
    "print(base_20(1, 3))"
   ]
  },
  {
   "cell_type": "markdown",
   "metadata": {},
   "source": [
    "### memoize 패턴을 장식자로 구현"
   ]
  },
  {
   "cell_type": "code",
   "execution_count": 57,
   "metadata": {},
   "outputs": [
    {
     "name": "stdout",
     "output_type": "stream",
     "text": [
      "13\n",
      "13\n",
      "13\n",
      "14\n",
      "2\n",
      "2\n",
      "2\n"
     ]
    }
   ],
   "source": [
    "import time\n",
    "\n",
    "cached = {}\n",
    "\n",
    "def mysum(x, y):\n",
    "    key = (x, y)\n",
    "    if key not in cached:\n",
    "        time.sleep(1)\n",
    "        cached[key] = x + y + 10\n",
    "    return cached[key]\n",
    "\n",
    "cached2 = {}\n",
    "\n",
    "def mymultiply(x, y):\n",
    "    key = (x, y)\n",
    "    if key not in cached2:\n",
    "        time.sleep(1)\n",
    "        cached2[key] = x * y\n",
    "    return cached2[key]\n",
    "\n",
    "print(mysum(1, 2))\n",
    "print(mysum(1, 2))\n",
    "print(mysum(1, 2))\n",
    "\n",
    "print(mysum(1, 3))\n",
    "\n",
    "print(mymultiply(1, 2))\n",
    "print(mymultiply(1, 2))\n",
    "print(mymultiply(1, 2))"
   ]
  },
  {
   "cell_type": "markdown",
   "metadata": {},
   "source": [
    "장식자 적용"
   ]
  },
  {
   "cell_type": "code",
   "execution_count": 62,
   "metadata": {},
   "outputs": [
    {
     "name": "stdout",
     "output_type": "stream",
     "text": [
      "13\n",
      "13\n",
      "13\n",
      "14\n",
      "2\n",
      "2\n",
      "2\n"
     ]
    }
   ],
   "source": [
    "def memoize(fn):\n",
    "    cached = {}\n",
    "    def wrap(x, y):\n",
    "        key = (x, y)\n",
    "        if key not in cached:\n",
    "            cached[key] = fn(x, y)\n",
    "        return cached[key]\n",
    "    return wrap\n",
    "\n",
    "\n",
    "@memoize\n",
    "def mysum(x, y):\n",
    "    time.sleep(1)\n",
    "    return x + y + 10\n",
    "\n",
    "# mysum = memoize(mysum)\n",
    "\n",
    "\n",
    "@memoize\n",
    "def mymultiply(x, y):\n",
    "    time.sleep(1)\n",
    "    return x * y\n",
    "\n",
    "# mymultiply = memoize(mymultiply)\n",
    "\n",
    "\n",
    "print(mysum(1, 2))\n",
    "print(mysum(1, 2))\n",
    "print(mysum(1, 2))\n",
    "\n",
    "print(mysum(1, 3))\n",
    "\n",
    "print(mymultiply(1, 2))\n",
    "print(mymultiply(1, 2))\n",
    "print(mymultiply(1, 2))\n"
   ]
  },
  {
   "cell_type": "markdown",
   "metadata": {},
   "source": [
    "캐시 서버를 활용토록 해볼 수 있습니다.\n",
    "\n",
    "+ memcached\n",
    "+ redis"
   ]
  },
  {
   "cell_type": "code",
   "execution_count": null,
   "metadata": {},
   "outputs": [],
   "source": [
    "from django.contrib.auth.decorators import login_required\n",
    "\n",
    "@login_required\n",
    "@gold_membership_required\n",
    "@교수님_권한_required\n",
    "def post_new(request):\n",
    "    # ..."
   ]
  },
  {
   "cell_type": "markdown",
   "metadata": {},
   "source": [
    "인자를 받는 장식자"
   ]
  },
  {
   "cell_type": "code",
   "execution_count": 64,
   "metadata": {},
   "outputs": [
    {
     "name": "stdout",
     "output_type": "stream",
     "text": [
      "13\n",
      "23\n"
     ]
    }
   ],
   "source": [
    "def myfn(base_number):\n",
    "    def fn(x, y):\n",
    "        return x + y + base_number\n",
    "    return fn\n",
    "\n",
    "base_10 = myfn(10)\n",
    "base_20 = myfn(20)\n",
    "\n",
    "print(base_10(1, 2))\n",
    "print(base_20(1, 2))"
   ]
  },
  {
   "cell_type": "code",
   "execution_count": 68,
   "metadata": {},
   "outputs": [
    {
     "data": {
      "text/plain": [
       "63"
      ]
     },
     "execution_count": 68,
     "metadata": {},
     "output_type": "execute_result"
    }
   ],
   "source": [
    "def base_10(fn):\n",
    "    def wrap(x, y):\n",
    "        return fn(x, y) + 10\n",
    "    return wrap\n",
    "\n",
    "def base_20(fn):\n",
    "    def wrap(x, y):\n",
    "        return fn(x, y) + 20\n",
    "    return wrap\n",
    "\n",
    "def base_30(fn):\n",
    "    def wrap(x, y):\n",
    "        return fn(x, y) + 30\n",
    "    return wrap\n",
    "\n",
    "@base_10\n",
    "@base_20\n",
    "@base_30\n",
    "def mysum(x, y):\n",
    "    return x + y\n",
    "\n",
    "mysum(1, 2)"
   ]
  },
  {
   "cell_type": "code",
   "execution_count": 71,
   "metadata": {},
   "outputs": [
    {
     "data": {
      "text/plain": [
       "63"
      ]
     },
     "execution_count": 71,
     "metadata": {},
     "output_type": "execute_result"
    }
   ],
   "source": [
    "def base(base_number):\n",
    "    def wrap(fn):\n",
    "        def inner(x, y):\n",
    "            return fn(x, y) + base_number\n",
    "        return inner\n",
    "    return wrap\n",
    "\n",
    "# base_10 = base(10)\n",
    "# base_20 = base(20)\n",
    "# base_30 = base(30)\n",
    "\n",
    "# @base_10\n",
    "@base(10)\n",
    "@base(20)\n",
    "@base(30)\n",
    "def mysum(x, y):\n",
    "    return x + y\n",
    "\n",
    "mysum(1, 2)"
   ]
  },
  {
   "cell_type": "markdown",
   "metadata": {},
   "source": [
    "## 호출가능한 객체"
   ]
  },
  {
   "cell_type": "code",
   "execution_count": 72,
   "metadata": {},
   "outputs": [],
   "source": [
    "class Calculator:\n",
    "    def __init__(self, base):\n",
    "        self.base = base\n",
    "        \n",
    "    \n",
    "    def __call__(self, x, y):\n",
    "        return self.base + x + y"
   ]
  },
  {
   "cell_type": "code",
   "execution_count": 73,
   "metadata": {},
   "outputs": [
    {
     "data": {
      "text/plain": [
       "13"
      ]
     },
     "execution_count": 73,
     "metadata": {},
     "output_type": "execute_result"
    }
   ],
   "source": [
    "calc_10 = Calculator(10)\n",
    "calc_10.__call__(1, 2)"
   ]
  },
  {
   "cell_type": "code",
   "execution_count": 74,
   "metadata": {},
   "outputs": [
    {
     "data": {
      "text/plain": [
       "13"
      ]
     },
     "execution_count": 74,
     "metadata": {},
     "output_type": "execute_result"
    }
   ],
   "source": [
    "calc_10(1, 2)  # 내부적으로 __call__ 함수를 호출"
   ]
  },
  {
   "cell_type": "code",
   "execution_count": 75,
   "metadata": {},
   "outputs": [
    {
     "name": "stdout",
     "output_type": "stream",
     "text": [
      "13\n",
      "13\n",
      "13\n"
     ]
    }
   ],
   "source": [
    "print(calc_10(1, 2))\n",
    "print(calc_10(1, 2))\n",
    "print(calc_10(1, 2))"
   ]
  },
  {
   "cell_type": "markdown",
   "metadata": {},
   "source": [
    "상태를 가지도록 개선"
   ]
  },
  {
   "cell_type": "code",
   "execution_count": 76,
   "metadata": {},
   "outputs": [],
   "source": [
    "class Calculator2:\n",
    "    def __init__(self, base):\n",
    "        self.base = base\n",
    "        \n",
    "    \n",
    "    def __call__(self, x, y):\n",
    "        self.base += (x + y)\n",
    "        return self.base\n",
    "    \n",
    "calc2_10 = Calculator2(10)"
   ]
  },
  {
   "cell_type": "code",
   "execution_count": 77,
   "metadata": {},
   "outputs": [
    {
     "name": "stdout",
     "output_type": "stream",
     "text": [
      "13\n",
      "16\n",
      "19\n"
     ]
    }
   ],
   "source": [
    "print(calc2_10(1, 2))\n",
    "print(calc2_10(1, 2))\n",
    "print(calc2_10(1, 2))"
   ]
  },
  {
   "cell_type": "markdown",
   "metadata": {},
   "source": [
    "## Generator"
   ]
  },
  {
   "cell_type": "code",
   "execution_count": 80,
   "metadata": {},
   "outputs": [],
   "source": [
    "def myfn():\n",
    "    yield 1\n",
    "    yield 2\n",
    "    yield 3"
   ]
  },
  {
   "cell_type": "code",
   "execution_count": 82,
   "metadata": {},
   "outputs": [],
   "source": [
    "gen1 = myfn()\n",
    "gen2 = myfn()"
   ]
  },
  {
   "cell_type": "code",
   "execution_count": 83,
   "metadata": {},
   "outputs": [
    {
     "data": {
      "text/plain": [
       "1"
      ]
     },
     "execution_count": 83,
     "metadata": {},
     "output_type": "execute_result"
    }
   ],
   "source": [
    "next(gen1)"
   ]
  },
  {
   "cell_type": "code",
   "execution_count": 84,
   "metadata": {},
   "outputs": [
    {
     "data": {
      "text/plain": [
       "2"
      ]
     },
     "execution_count": 84,
     "metadata": {},
     "output_type": "execute_result"
    }
   ],
   "source": [
    "next(gen1)"
   ]
  },
  {
   "cell_type": "code",
   "execution_count": 85,
   "metadata": {},
   "outputs": [
    {
     "data": {
      "text/plain": [
       "3"
      ]
     },
     "execution_count": 85,
     "metadata": {},
     "output_type": "execute_result"
    }
   ],
   "source": [
    "next(gen1)"
   ]
  },
  {
   "cell_type": "code",
   "execution_count": 86,
   "metadata": {},
   "outputs": [
    {
     "ename": "StopIteration",
     "evalue": "",
     "output_type": "error",
     "traceback": [
      "\u001b[0;31m---------------------------------------------------------------------------\u001b[0m",
      "\u001b[0;31mStopIteration\u001b[0m                             Traceback (most recent call last)",
      "\u001b[0;32m<ipython-input-86-9e978521053e>\u001b[0m in \u001b[0;36m<module>\u001b[0;34m()\u001b[0m\n\u001b[0;32m----> 1\u001b[0;31m \u001b[0mnext\u001b[0m\u001b[0;34m(\u001b[0m\u001b[0mgen1\u001b[0m\u001b[0;34m)\u001b[0m\u001b[0;34m\u001b[0m\u001b[0m\n\u001b[0m",
      "\u001b[0;31mStopIteration\u001b[0m: "
     ]
    }
   ],
   "source": [
    "next(gen1)"
   ]
  },
  {
   "cell_type": "code",
   "execution_count": 87,
   "metadata": {},
   "outputs": [
    {
     "data": {
      "text/plain": [
       "1"
      ]
     },
     "execution_count": 87,
     "metadata": {},
     "output_type": "execute_result"
    }
   ],
   "source": [
    "next(gen2)"
   ]
  },
  {
   "cell_type": "code",
   "execution_count": 88,
   "metadata": {},
   "outputs": [
    {
     "name": "stdout",
     "output_type": "stream",
     "text": [
      "2\n",
      "3\n"
     ]
    }
   ],
   "source": [
    "for i in gen2:\n",
    "    print(i)"
   ]
  },
  {
   "cell_type": "code",
   "execution_count": null,
   "metadata": {},
   "outputs": [],
   "source": []
  },
  {
   "cell_type": "code",
   "execution_count": 90,
   "metadata": {},
   "outputs": [],
   "source": [
    "def 무한_자연수():\n",
    "    i = 0\n",
    "    while True:\n",
    "        yield i\n",
    "        i += 1"
   ]
  },
  {
   "cell_type": "code",
   "execution_count": 92,
   "metadata": {},
   "outputs": [
    {
     "data": {
      "text/plain": [
       "0"
      ]
     },
     "execution_count": 92,
     "metadata": {},
     "output_type": "execute_result"
    }
   ],
   "source": [
    "gen3 = 무한_자연수()\n",
    "next(gen3)"
   ]
  },
  {
   "cell_type": "code",
   "execution_count": 102,
   "metadata": {},
   "outputs": [
    {
     "data": {
      "text/plain": [
       "10"
      ]
     },
     "execution_count": 102,
     "metadata": {},
     "output_type": "execute_result"
    }
   ],
   "source": [
    "next(gen3)"
   ]
  },
  {
   "cell_type": "code",
   "execution_count": null,
   "metadata": {},
   "outputs": [],
   "source": []
  },
  {
   "cell_type": "code",
   "execution_count": 103,
   "metadata": {},
   "outputs": [
    {
     "data": {
      "text/plain": [
       "[0, 1, 4, 9, 16, 25, 36, 49, 64, 81]"
      ]
     },
     "execution_count": 103,
     "metadata": {},
     "output_type": "execute_result"
    }
   ],
   "source": [
    "[i**2 for i in range(10)]  # list comprehension"
   ]
  },
  {
   "cell_type": "code",
   "execution_count": 105,
   "metadata": {},
   "outputs": [
    {
     "data": {
      "text/plain": [
       "{0, 1, 2}"
      ]
     },
     "execution_count": 105,
     "metadata": {},
     "output_type": "execute_result"
    }
   ],
   "source": [
    "{i%3 for i in range(10)}  # set comprehension"
   ]
  },
  {
   "cell_type": "code",
   "execution_count": 106,
   "metadata": {},
   "outputs": [
    {
     "data": {
      "text/plain": [
       "{0: 0, 1: 1, 2: 2, 3: 0, 4: 1, 5: 2, 6: 0, 7: 1, 8: 2, 9: 0}"
      ]
     },
     "execution_count": 106,
     "metadata": {},
     "output_type": "execute_result"
    }
   ],
   "source": [
    "{i: i%3 for i in range(10)}  # dict comprehension"
   ]
  },
  {
   "cell_type": "code",
   "execution_count": 107,
   "metadata": {},
   "outputs": [
    {
     "data": {
      "text/plain": [
       "<generator object <genexpr> at 0x116b46390>"
      ]
     },
     "execution_count": 107,
     "metadata": {},
     "output_type": "execute_result"
    }
   ],
   "source": [
    "(i**2 for i in range(10))  # generator expression"
   ]
  },
  {
   "cell_type": "code",
   "execution_count": 108,
   "metadata": {},
   "outputs": [],
   "source": [
    "gen4 = (i**2 for i in range(10))"
   ]
  },
  {
   "cell_type": "code",
   "execution_count": 112,
   "metadata": {},
   "outputs": [
    {
     "data": {
      "text/plain": [
       "9"
      ]
     },
     "execution_count": 112,
     "metadata": {},
     "output_type": "execute_result"
    }
   ],
   "source": [
    "next(gen4)"
   ]
  },
  {
   "cell_type": "code",
   "execution_count": 113,
   "metadata": {},
   "outputs": [],
   "source": [
    "# (i**2 for i in range(10)) 의 함수 버전\n",
    "\n",
    "def myfn():\n",
    "    for i in range(10):\n",
    "        yield i ** 2\n",
    "    # return ..."
   ]
  },
  {
   "cell_type": "markdown",
   "metadata": {},
   "source": [
    "중첩된 Generator는 Pipeline"
   ]
  },
  {
   "cell_type": "code",
   "execution_count": 114,
   "metadata": {},
   "outputs": [
    {
     "data": {
      "text/plain": [
       "<generator object <genexpr> at 0x116b46408>"
      ]
     },
     "execution_count": 114,
     "metadata": {},
     "output_type": "execute_result"
    }
   ],
   "source": [
    "gen1 = (i**2 for i in range(10))\n",
    "gen2 = (j+10 for j in gen1)\n",
    "gen3 = (k*10 for k in gen2)\n",
    "\n",
    "gen3"
   ]
  },
  {
   "cell_type": "code",
   "execution_count": 115,
   "metadata": {},
   "outputs": [
    {
     "data": {
      "text/plain": [
       "100"
      ]
     },
     "execution_count": 115,
     "metadata": {},
     "output_type": "execute_result"
    }
   ],
   "source": [
    "next(gen3)"
   ]
  },
  {
   "cell_type": "code",
   "execution_count": 116,
   "metadata": {},
   "outputs": [
    {
     "data": {
      "text/plain": [
       "110"
      ]
     },
     "execution_count": 116,
     "metadata": {},
     "output_type": "execute_result"
    }
   ],
   "source": [
    "next(gen3)"
   ]
  },
  {
   "cell_type": "markdown",
   "metadata": {},
   "source": [
    "## 문자열 인코딩"
   ]
  },
  {
   "cell_type": "code",
   "execution_count": 118,
   "metadata": {},
   "outputs": [
    {
     "data": {
      "text/plain": [
       "str"
      ]
     },
     "execution_count": 118,
     "metadata": {},
     "output_type": "execute_result"
    }
   ],
   "source": [
    "type(\"안녕하세요\")"
   ]
  },
  {
   "cell_type": "code",
   "execution_count": 117,
   "metadata": {},
   "outputs": [
    {
     "data": {
      "text/plain": [
       "5"
      ]
     },
     "execution_count": 117,
     "metadata": {},
     "output_type": "execute_result"
    }
   ],
   "source": [
    "len(\"안녕하세요\")"
   ]
  },
  {
   "cell_type": "code",
   "execution_count": 119,
   "metadata": {},
   "outputs": [
    {
     "data": {
      "text/plain": [
       "'녕하세'"
      ]
     },
     "execution_count": 119,
     "metadata": {},
     "output_type": "execute_result"
    }
   ],
   "source": [
    "\"안녕하세요\"[1:-1]"
   ]
  },
  {
   "cell_type": "code",
   "execution_count": 120,
   "metadata": {},
   "outputs": [
    {
     "data": {
      "text/plain": [
       "b'\\xec\\x95\\x88\\xeb\\x85\\x95\\xed\\x95\\x98\\xec\\x84\\xb8\\xec\\x9a\\x94'"
      ]
     },
     "execution_count": 120,
     "metadata": {},
     "output_type": "execute_result"
    }
   ],
   "source": [
    "\"안녕하세요\".encode(\"utf8\")  # str -> bytes"
   ]
  },
  {
   "cell_type": "code",
   "execution_count": 121,
   "metadata": {},
   "outputs": [
    {
     "data": {
      "text/plain": [
       "15"
      ]
     },
     "execution_count": 121,
     "metadata": {},
     "output_type": "execute_result"
    }
   ],
   "source": [
    "len(\"안녕하세요\".encode(\"utf8\"))"
   ]
  },
  {
   "cell_type": "code",
   "execution_count": 122,
   "metadata": {},
   "outputs": [
    {
     "data": {
      "text/plain": [
       "10"
      ]
     },
     "execution_count": 122,
     "metadata": {},
     "output_type": "execute_result"
    }
   ],
   "source": [
    "len(\"안녕하세요\".encode(\"cp949\"))"
   ]
  },
  {
   "cell_type": "code",
   "execution_count": 125,
   "metadata": {},
   "outputs": [
    {
     "ename": "UnicodeDecodeError",
     "evalue": "'cp949' codec can't decode byte 0xec in position 0: illegal multibyte sequence",
     "output_type": "error",
     "traceback": [
      "\u001b[0;31m---------------------------------------------------------------------------\u001b[0m",
      "\u001b[0;31mUnicodeDecodeError\u001b[0m                        Traceback (most recent call last)",
      "\u001b[0;32m<ipython-input-125-1578408cbf38>\u001b[0m in \u001b[0;36m<module>\u001b[0;34m()\u001b[0m\n\u001b[0;32m----> 1\u001b[0;31m \u001b[0;34m\"안녕하세요\"\u001b[0m\u001b[0;34m.\u001b[0m\u001b[0mencode\u001b[0m\u001b[0;34m(\u001b[0m\u001b[0;34m\"utf8\"\u001b[0m\u001b[0;34m)\u001b[0m\u001b[0;34m.\u001b[0m\u001b[0mdecode\u001b[0m\u001b[0;34m(\u001b[0m\u001b[0;34m\"cp949\"\u001b[0m\u001b[0;34m)\u001b[0m\u001b[0;34m\u001b[0m\u001b[0m\n\u001b[0m",
      "\u001b[0;31mUnicodeDecodeError\u001b[0m: 'cp949' codec can't decode byte 0xec in position 0: illegal multibyte sequence"
     ]
    }
   ],
   "source": [
    "\"안녕하세요\".encode(\"utf8\").decode(\"cp949\")"
   ]
  },
  {
   "cell_type": "code",
   "execution_count": null,
   "metadata": {},
   "outputs": [],
   "source": []
  },
  {
   "cell_type": "code",
   "execution_count": 126,
   "metadata": {},
   "outputs": [
    {
     "data": {
      "text/plain": [
       "65"
      ]
     },
     "execution_count": 126,
     "metadata": {},
     "output_type": "execute_result"
    }
   ],
   "source": [
    "ord('A')"
   ]
  },
  {
   "cell_type": "code",
   "execution_count": 128,
   "metadata": {},
   "outputs": [
    {
     "data": {
      "text/plain": [
       "'D55C'"
      ]
     },
     "execution_count": 128,
     "metadata": {},
     "output_type": "execute_result"
    }
   ],
   "source": [
    "'%X' % ord('한')"
   ]
  },
  {
   "cell_type": "markdown",
   "metadata": {},
   "source": [
    "## 파일 I/O"
   ]
  },
  {
   "cell_type": "code",
   "execution_count": 133,
   "metadata": {},
   "outputs": [],
   "source": [
    "with open(\"파일경로.txt\", \"at\", encoding=\"utf8\") as f:\n",
    "    print(\"hello\", file=f)\n",
    "    f.write(\"hello\\n\")\n",
    "    f.write(\"월드\\n\")\n",
    "    f.write(\"파이썬\\n\")\n",
    "    \n",
    "with open(\"파일경로.txt\", \"ab\") as f:\n",
    "    f.write(\"hello\".encode(\"utf8\"))\n",
    "    f.write(\"월드\".encode(\"utf8\"))\n",
    "    f.write(\"파이썬\".encode(\"utf8\"))"
   ]
  },
  {
   "cell_type": "code",
   "execution_count": 130,
   "metadata": {},
   "outputs": [
    {
     "name": "stdout",
     "output_type": "stream",
     "text": [
      "hello world\n"
     ]
    }
   ],
   "source": [
    "print(\"hello world\")"
   ]
  },
  {
   "cell_type": "markdown",
   "metadata": {},
   "source": [
    "## 네이버 웹툰 크롤링"
   ]
  },
  {
   "cell_type": "code",
   "execution_count": 146,
   "metadata": {},
   "outputs": [],
   "source": [
    "episode_url = \"https://comic.naver.com/webtoon/detail.nhn?titleId=20853&no=1163&weekday=tue\"\n",
    "\n",
    "import os\n",
    "import requests\n",
    "from bs4 import BeautifulSoup"
   ]
  },
  {
   "cell_type": "code",
   "execution_count": 136,
   "metadata": {},
   "outputs": [
    {
     "data": {
      "text/plain": [
       "100905"
      ]
     },
     "execution_count": 136,
     "metadata": {},
     "output_type": "execute_result"
    }
   ],
   "source": [
    "res = requests.get(episode_url)\n",
    "# res.content  # bytes\n",
    "# text = res.content.decode('utf8')\n",
    "html = res.text  # str\n",
    "len(html)"
   ]
  },
  {
   "cell_type": "code",
   "execution_count": 137,
   "metadata": {},
   "outputs": [
    {
     "data": {
      "text/plain": [
       "{'Date': 'Tue, 26 Feb 2019 05:28:21 GMT', 'Set-Cookie': 'JSESSIONID=0C229DE121A212486BEBDDCDE348625F; Path=/; HttpOnly, increase=\"\"; Domain=comic.naver.com; Path=/', 'Cache-Control': 'no-cache', 'Expires': 'Thu, 01 Jan 1970 00:00:00 GMT', 'Content-Language': 'ko', 'Vary': 'Accept-Encoding', 'Content-Encoding': 'gzip', 'Transfer-Encoding': 'chunked', 'Content-Type': 'text/html;charset=UTF-8', 'Referrer-Policy': 'unsafe-url', 'Server': 'nfront'}"
      ]
     },
     "execution_count": 137,
     "metadata": {},
     "output_type": "execute_result"
    }
   ],
   "source": [
    "res.headers"
   ]
  },
  {
   "cell_type": "code",
   "execution_count": 138,
   "metadata": {},
   "outputs": [],
   "source": [
    "soup = BeautifulSoup(html, 'html.parser')"
   ]
  },
  {
   "cell_type": "code",
   "execution_count": 148,
   "metadata": {},
   "outputs": [
    {
     "name": "stdout",
     "output_type": "stream",
     "text": [
      "https://image-comic.pstatic.net/webtoon/20853/1163/20190225205243_a71d3510b497959c631538f7e0d8c2e7_IMAG01_1.jpg\n",
      "마음의소리/1159. 방송장비/20190225205243_a71d3510b497959c631538f7e0d8c2e7_IMAG01_1.jpg\n",
      "https://image-comic.pstatic.net/webtoon/20853/1163/20190225205243_a71d3510b497959c631538f7e0d8c2e7_IMAG01_2.jpg\n",
      "마음의소리/1159. 방송장비/20190225205243_a71d3510b497959c631538f7e0d8c2e7_IMAG01_2.jpg\n",
      "https://image-comic.pstatic.net/webtoon/20853/1163/20190225205243_a71d3510b497959c631538f7e0d8c2e7_IMAG01_3.jpg\n",
      "마음의소리/1159. 방송장비/20190225205243_a71d3510b497959c631538f7e0d8c2e7_IMAG01_3.jpg\n",
      "https://image-comic.pstatic.net/webtoon/20853/1163/20190225205243_a71d3510b497959c631538f7e0d8c2e7_IMAG01_4.jpg\n",
      "마음의소리/1159. 방송장비/20190225205243_a71d3510b497959c631538f7e0d8c2e7_IMAG01_4.jpg\n",
      "https://image-comic.pstatic.net/webtoon/20853/1163/20190225205243_a71d3510b497959c631538f7e0d8c2e7_IMAG01_5.jpg\n",
      "마음의소리/1159. 방송장비/20190225205243_a71d3510b497959c631538f7e0d8c2e7_IMAG01_5.jpg\n",
      "https://image-comic.pstatic.net/webtoon/20853/1163/20190225205243_a71d3510b497959c631538f7e0d8c2e7_IMAG01_6.jpg\n",
      "마음의소리/1159. 방송장비/20190225205243_a71d3510b497959c631538f7e0d8c2e7_IMAG01_6.jpg\n",
      "https://image-comic.pstatic.net/webtoon/20853/1163/20190225205243_a71d3510b497959c631538f7e0d8c2e7_IMAG01_7.jpg\n",
      "마음의소리/1159. 방송장비/20190225205243_a71d3510b497959c631538f7e0d8c2e7_IMAG01_7.jpg\n",
      "https://image-comic.pstatic.net/webtoon/20853/1163/20190225205243_a71d3510b497959c631538f7e0d8c2e7_IMAG01_8.jpg\n",
      "마음의소리/1159. 방송장비/20190225205243_a71d3510b497959c631538f7e0d8c2e7_IMAG01_8.jpg\n",
      "https://image-comic.pstatic.net/webtoon/20853/1163/20190225205243_a71d3510b497959c631538f7e0d8c2e7_IMAG01_9.jpg\n",
      "마음의소리/1159. 방송장비/20190225205243_a71d3510b497959c631538f7e0d8c2e7_IMAG01_9.jpg\n",
      "https://image-comic.pstatic.net/webtoon/20853/1163/20190225205243_a71d3510b497959c631538f7e0d8c2e7_IMAG01_10.jpg\n",
      "마음의소리/1159. 방송장비/20190225205243_a71d3510b497959c631538f7e0d8c2e7_IMAG01_10.jpg\n",
      "https://image-comic.pstatic.net/webtoon/20853/1163/20190225205243_a71d3510b497959c631538f7e0d8c2e7_IMAG01_11.jpg\n",
      "마음의소리/1159. 방송장비/20190225205243_a71d3510b497959c631538f7e0d8c2e7_IMAG01_11.jpg\n",
      "https://image-comic.pstatic.net/webtoon/20853/1163/20190225205243_a71d3510b497959c631538f7e0d8c2e7_IMAG01_12.jpg\n",
      "마음의소리/1159. 방송장비/20190225205243_a71d3510b497959c631538f7e0d8c2e7_IMAG01_12.jpg\n",
      "https://image-comic.pstatic.net/webtoon/20853/1163/20190225205243_a71d3510b497959c631538f7e0d8c2e7_IMAG01_13.jpg\n",
      "마음의소리/1159. 방송장비/20190225205243_a71d3510b497959c631538f7e0d8c2e7_IMAG01_13.jpg\n",
      "https://image-comic.pstatic.net/webtoon/20853/1163/20190225205243_a71d3510b497959c631538f7e0d8c2e7_IMAG01_14.jpg\n",
      "마음의소리/1159. 방송장비/20190225205243_a71d3510b497959c631538f7e0d8c2e7_IMAG01_14.jpg\n",
      "https://image-comic.pstatic.net/webtoon/20853/1163/20190225205243_a71d3510b497959c631538f7e0d8c2e7_IMAG01_15.jpg\n",
      "마음의소리/1159. 방송장비/20190225205243_a71d3510b497959c631538f7e0d8c2e7_IMAG01_15.jpg\n",
      "https://image-comic.pstatic.net/webtoon/20853/1163/20190225205243_a71d3510b497959c631538f7e0d8c2e7_IMAG01_16.jpg\n",
      "마음의소리/1159. 방송장비/20190225205243_a71d3510b497959c631538f7e0d8c2e7_IMAG01_16.jpg\n",
      "https://image-comic.pstatic.net/webtoon/20853/1163/20190225205243_a71d3510b497959c631538f7e0d8c2e7_IMAG01_17.jpg\n",
      "마음의소리/1159. 방송장비/20190225205243_a71d3510b497959c631538f7e0d8c2e7_IMAG01_17.jpg\n",
      "https://image-comic.pstatic.net/webtoon/20853/1163/20190225205243_a71d3510b497959c631538f7e0d8c2e7_IMAG01_18.jpg\n",
      "마음의소리/1159. 방송장비/20190225205243_a71d3510b497959c631538f7e0d8c2e7_IMAG01_18.jpg\n",
      "https://image-comic.pstatic.net/webtoon/20853/1163/20190225205243_a71d3510b497959c631538f7e0d8c2e7_IMAG01_19.jpg\n",
      "마음의소리/1159. 방송장비/20190225205243_a71d3510b497959c631538f7e0d8c2e7_IMAG01_19.jpg\n",
      "https://image-comic.pstatic.net/webtoon/20853/1163/20190225205243_a71d3510b497959c631538f7e0d8c2e7_IMAG01_20.jpg\n",
      "마음의소리/1159. 방송장비/20190225205243_a71d3510b497959c631538f7e0d8c2e7_IMAG01_20.jpg\n",
      "https://image-comic.pstatic.net/webtoon/20853/1163/20190225205243_a71d3510b497959c631538f7e0d8c2e7_IMAG01_21.jpg\n",
      "마음의소리/1159. 방송장비/20190225205243_a71d3510b497959c631538f7e0d8c2e7_IMAG01_21.jpg\n",
      "https://image-comic.pstatic.net/webtoon/20853/1163/20190225205243_a71d3510b497959c631538f7e0d8c2e7_IMAG01_22.jpg\n",
      "마음의소리/1159. 방송장비/20190225205243_a71d3510b497959c631538f7e0d8c2e7_IMAG01_22.jpg\n",
      "https://image-comic.pstatic.net/webtoon/20853/1163/20190225205243_a71d3510b497959c631538f7e0d8c2e7_IMAG01_23.jpg\n",
      "마음의소리/1159. 방송장비/20190225205243_a71d3510b497959c631538f7e0d8c2e7_IMAG01_23.jpg\n",
      "https://image-comic.pstatic.net/webtoon/20853/1163/20190225205243_a71d3510b497959c631538f7e0d8c2e7_IMAG01_24.jpg\n",
      "마음의소리/1159. 방송장비/20190225205243_a71d3510b497959c631538f7e0d8c2e7_IMAG01_24.jpg\n",
      "https://image-comic.pstatic.net/webtoon/20853/1163/20190225205243_a71d3510b497959c631538f7e0d8c2e7_IMAG01_25.jpg\n",
      "마음의소리/1159. 방송장비/20190225205243_a71d3510b497959c631538f7e0d8c2e7_IMAG01_25.jpg\n",
      "https://image-comic.pstatic.net/webtoon/20853/1163/20190225205243_a71d3510b497959c631538f7e0d8c2e7_IMAG01_26.jpg\n",
      "마음의소리/1159. 방송장비/20190225205243_a71d3510b497959c631538f7e0d8c2e7_IMAG01_26.jpg\n",
      "https://image-comic.pstatic.net/webtoon/20853/1163/20190225205243_a71d3510b497959c631538f7e0d8c2e7_IMAG01_27.jpg\n",
      "마음의소리/1159. 방송장비/20190225205243_a71d3510b497959c631538f7e0d8c2e7_IMAG01_27.jpg\n",
      "https://image-comic.pstatic.net/webtoon/20853/1163/20190225205243_a71d3510b497959c631538f7e0d8c2e7_IMAG01_28.jpg\n",
      "마음의소리/1159. 방송장비/20190225205243_a71d3510b497959c631538f7e0d8c2e7_IMAG01_28.jpg\n",
      "https://image-comic.pstatic.net/webtoon/20853/1163/20190225205243_a71d3510b497959c631538f7e0d8c2e7_IMAG01_29.jpg\n",
      "마음의소리/1159. 방송장비/20190225205243_a71d3510b497959c631538f7e0d8c2e7_IMAG01_29.jpg\n",
      "https://image-comic.pstatic.net/webtoon/20853/1163/20190225205243_a71d3510b497959c631538f7e0d8c2e7_IMAG01_30.jpg\n",
      "마음의소리/1159. 방송장비/20190225205243_a71d3510b497959c631538f7e0d8c2e7_IMAG01_30.jpg\n"
     ]
    }
   ],
   "source": [
    "tag_list = soup.select('.wt_viewer img')\n",
    "\n",
    "for tag in tag_list:\n",
    "    img_url = tag['src']\n",
    "    print(img_url)\n",
    "    \n",
    "    headers = {\n",
    "        'Referer': episode_url,\n",
    "#         'User-Agent': '...',\n",
    "    }\n",
    "    \n",
    "    res = requests.get(img_url, headers=headers)\n",
    "    img_data = res.content\n",
    "    \n",
    "    filename = os.path.basename(img_url)\n",
    "    filepath = os.path.join('마음의소리', '1159. 방송장비', filename)\n",
    "    print(filepath)\n",
    "    \n",
    "    dirpath = os.path.dirname(filepath)\n",
    "    if not os.path.exists(dirpath):\n",
    "        os.makedirs(dirpath)  # 재귀적으로 디렉토리를 생성\n",
    "    \n",
    "    with open(filepath, \"wb\") as f:\n",
    "        f.write(img_data)"
   ]
  },
  {
   "cell_type": "code",
   "execution_count": null,
   "metadata": {},
   "outputs": [],
   "source": []
  },
  {
   "cell_type": "code",
   "execution_count": null,
   "metadata": {},
   "outputs": [],
   "source": []
  }
 ],
 "metadata": {
  "kernelspec": {
   "display_name": "Python 3",
   "language": "python",
   "name": "python3"
  },
  "language_info": {
   "codemirror_mode": {
    "name": "ipython",
    "version": 3
   },
   "file_extension": ".py",
   "mimetype": "text/x-python",
   "name": "python",
   "nbconvert_exporter": "python",
   "pygments_lexer": "ipython3",
   "version": "3.7.0"
  }
 },
 "nbformat": 4,
 "nbformat_minor": 2
}
