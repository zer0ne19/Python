{
 "cells": [
  {
   "cell_type": "markdown",
   "metadata": {},
   "source": [
    "## 정규 표현식\n",
    "\n",
    "+ `re.match`\n",
    "+ `re.findall`"
   ]
  },
  {
   "cell_type": "code",
   "execution_count": 10,
   "metadata": {},
   "outputs": [
    {
     "data": {
      "text/plain": [
       "'\\\\d'"
      ]
     },
     "execution_count": 10,
     "metadata": {},
     "output_type": "execute_result"
    }
   ],
   "source": [
    "\"\\\\d\""
   ]
  },
  {
   "cell_type": "code",
   "execution_count": 11,
   "metadata": {},
   "outputs": [
    {
     "data": {
      "text/plain": [
       "'\\\\d'"
      ]
     },
     "execution_count": 11,
     "metadata": {},
     "output_type": "execute_result"
    }
   ],
   "source": [
    "r\"\\d\""
   ]
  },
  {
   "cell_type": "code",
   "execution_count": 12,
   "metadata": {},
   "outputs": [
    {
     "data": {
      "text/plain": [
       "'\\\\d'"
      ]
     },
     "execution_count": 12,
     "metadata": {},
     "output_type": "execute_result"
    }
   ],
   "source": [
    "\"\\d\""
   ]
  },
  {
   "cell_type": "code",
   "execution_count": null,
   "metadata": {},
   "outputs": [],
   "source": []
  },
  {
   "cell_type": "code",
   "execution_count": 8,
   "metadata": {},
   "outputs": [
    {
     "data": {
      "text/plain": [
       "<re.Match object; span=(0, 11), match='01012341234'>"
      ]
     },
     "execution_count": 8,
     "metadata": {},
     "output_type": "execute_result"
    }
   ],
   "source": [
    "휴대폰번호_패턴 = r\"^010[1-9]\\d{7}$\"\n",
    "\n",
    "import re\n",
    "\n",
    "re.match(휴대폰번호_패턴, '01012341234')"
   ]
  },
  {
   "cell_type": "code",
   "execution_count": null,
   "metadata": {},
   "outputs": [],
   "source": []
  },
  {
   "cell_type": "code",
   "execution_count": 9,
   "metadata": {},
   "outputs": [],
   "source": [
    "import requests\n",
    "\n",
    "res = requests.get(\"http://naver.com\")\n",
    "html = res.text"
   ]
  },
  {
   "cell_type": "code",
   "execution_count": 15,
   "metadata": {},
   "outputs": [
    {
     "data": {
      "text/plain": [
       "['최근검', '최근검', '최근검', '최근검', '최저생', '최저금', '최강희']"
      ]
     },
     "execution_count": 15,
     "metadata": {},
     "output_type": "execute_result"
    }
   ],
   "source": [
    "re.findall(r'최[ㄱ-힣]{2}', html)"
   ]
  },
  {
   "cell_type": "code",
   "execution_count": null,
   "metadata": {},
   "outputs": [],
   "source": []
  },
  {
   "cell_type": "code",
   "execution_count": null,
   "metadata": {},
   "outputs": [],
   "source": [
    "\"네이버에서 부산대학교 검색해줘\"\n",
    "\"네이버에서 부산대학교 검색\"\n",
    "\"네이버에서 부산대학교 검색해줄래?\"\n",
    "\"네이버에서 부산대학교 검색해주지 않으련?\"\n",
    "\"네이버 부산대학교 검색해주지 않으련?\""
   ]
  },
  {
   "cell_type": "code",
   "execution_count": 24,
   "metadata": {},
   "outputs": [],
   "source": [
    "네이버_검색_패턴 = r\"네이버에?서?\\s*(.+)\\s*검색\""
   ]
  },
  {
   "cell_type": "code",
   "execution_count": 26,
   "metadata": {},
   "outputs": [
    {
     "name": "stdout",
     "output_type": "stream",
     "text": [
      "검색 키워드 : 부산대학교 \n"
     ]
    }
   ],
   "source": [
    "받은_텍스트_메세지 = \"네이버 부산대학교 검색 고고\"\n",
    "\n",
    "matched = re.match(네이버_검색_패턴, 받은_텍스트_메세지)\n",
    "if matched:\n",
    "    검색_키워드 = matched.groups()[0]\n",
    "    print(\"검색 키워드 :\", 검색_키워드)\n",
    "else:\n",
    "    print('매칭 실패')"
   ]
  },
  {
   "cell_type": "markdown",
   "metadata": {},
   "source": [
    "네이버 블로그 검색"
   ]
  },
  {
   "cell_type": "code",
   "execution_count": 41,
   "metadata": {},
   "outputs": [],
   "source": [
    "import requests\n",
    "from bs4 import BeautifulSoup\n",
    "\n",
    "def naver_blog_search(keyword):\n",
    "    search_url = \"https://search.naver.com/search.naver\"\n",
    "    params = {\n",
    "        'where': 'post',\n",
    "        'query': keyword,\n",
    "    }\n",
    "\n",
    "    res = requests.get(search_url, params=params)\n",
    "    html = res.text\n",
    "    soup = BeautifulSoup(html, 'html.parser')\n",
    "\n",
    "    tag_list = soup.select('.sh_blog_title')\n",
    "    \n",
    "    for tag in tag_list:\n",
    "        post_url = tag['href']\n",
    "        post_title = tag['title']\n",
    "        post = {\n",
    "            'title': post_title,\n",
    "            'url': post_url,\n",
    "        }\n",
    "        yield post"
   ]
  },
  {
   "cell_type": "code",
   "execution_count": 44,
   "metadata": {},
   "outputs": [
    {
     "data": {
      "text/plain": [
       "[{'title': '부산대학교 맛집 멘야산다이메에서 데이트♥',\n",
       "  'url': 'https://blog.naver.com/jinizi76?Redirect=Log&logNo=221139532943'},\n",
       " {'title': '부산대학교맛집 일본라멘 먹으러 멘야산다이메 GO',\n",
       "  'url': 'https://blog.naver.com/sejinhee?Redirect=Log&logNo=221111695972'},\n",
       " {'title': '부산대 무한리필/ 부산대학교 맛집 개성상인 최고',\n",
       "  'url': 'https://blog.naver.com/nes_0?Redirect=Log&logNo=221351105668'},\n",
       " {'title': '부산대학교맛집 멘야산다이메 오픈 소식에 모녀는 휘리릭',\n",
       "  'url': 'https://blog.naver.com/0813dcba?Redirect=Log&logNo=221104950318'},\n",
       " {'title': '일상포스팅 / 부산대학교 근처 애견미용 / 티앤북스 부산대점 / 금정구 맛집 락앤웍',\n",
       "  'url': 'https://blog.naver.com/pom_pomm?Redirect=Log&logNo=221379571543'},\n",
       " {'title': '부산대학교 맛집은 인도요리 맛집 인디키친',\n",
       "  'url': 'https://blog.naver.com/zionsung?Redirect=Log&logNo=221312271048'},\n",
       " {'title': '｜ 부산대학교 맛집 ｜ 대박횟집 (부산대 맛집, 부산대 횟집, 부산대 술집, 부산대 연어)',\n",
       "  'url': 'https://blog.naver.com/mhkk94?Redirect=Log&logNo=221436950700'},\n",
       " {'title': '부산대학교 맛집정보 - 아 카 렌 (탄탄멘과 새우튀김)',\n",
       "  'url': 'https://blog.naver.com/abelskin1?Redirect=Log&logNo=221337550756'},\n",
       " {'title': '부산대학교 맛집 쫄깃탱글한 막창',\n",
       "  'url': 'https://blog.naver.com/hau6fd?Redirect=Log&logNo=221193017859'},\n",
       " {'title': '부산대학교맛집 돈코츠라멘의 진수를 알려주는 사사야키',\n",
       "  'url': 'https://blog.naver.com/stella63?Redirect=Log&logNo=221395997902'}]"
      ]
     },
     "execution_count": 44,
     "metadata": {},
     "output_type": "execute_result"
    }
   ],
   "source": [
    "list(naver_blog_search(\"부산대학교 맛집\"))"
   ]
  },
  {
   "cell_type": "markdown",
   "metadata": {},
   "source": [
    "## dict"
   ]
  },
  {
   "cell_type": "code",
   "execution_count": 47,
   "metadata": {},
   "outputs": [
    {
     "name": "stdout",
     "output_type": "stream",
     "text": [
      "10\n"
     ]
    },
    {
     "ename": "KeyError",
     "evalue": "'name'",
     "output_type": "error",
     "traceback": [
      "\u001b[0;31m---------------------------------------------------------------------------\u001b[0m",
      "\u001b[0;31mKeyError\u001b[0m                                  Traceback (most recent call last)",
      "\u001b[0;32m<ipython-input-47-4c616aa181c1>\u001b[0m in \u001b[0;36m<module>\u001b[0;34m()\u001b[0m\n\u001b[1;32m      1\u001b[0m \u001b[0md\u001b[0m \u001b[0;34m=\u001b[0m \u001b[0;34m{\u001b[0m\u001b[0;34m'age'\u001b[0m\u001b[0;34m:\u001b[0m \u001b[0;36m10\u001b[0m\u001b[0;34m}\u001b[0m\u001b[0;34m\u001b[0m\u001b[0m\n\u001b[1;32m      2\u001b[0m \u001b[0mprint\u001b[0m\u001b[0;34m(\u001b[0m\u001b[0md\u001b[0m\u001b[0;34m[\u001b[0m\u001b[0;34m'age'\u001b[0m\u001b[0;34m]\u001b[0m\u001b[0;34m)\u001b[0m\u001b[0;34m\u001b[0m\u001b[0m\n\u001b[0;32m----> 3\u001b[0;31m \u001b[0md\u001b[0m\u001b[0;34m[\u001b[0m\u001b[0;34m'name'\u001b[0m\u001b[0;34m]\u001b[0m\u001b[0;34m\u001b[0m\u001b[0m\n\u001b[0m",
      "\u001b[0;31mKeyError\u001b[0m: 'name'"
     ]
    }
   ],
   "source": [
    "d = {'age': 10}\n",
    "print(d['age'])\n",
    "d['name']"
   ]
  },
  {
   "cell_type": "code",
   "execution_count": 49,
   "metadata": {},
   "outputs": [
    {
     "name": "stdout",
     "output_type": "stream",
     "text": [
      "10\n",
      "None\n"
     ]
    }
   ],
   "source": [
    "d = {'age': 10}\n",
    "print(d.get('age'))\n",
    "print(d.get('name'))"
   ]
  },
  {
   "cell_type": "code",
   "execution_count": null,
   "metadata": {},
   "outputs": [],
   "source": []
  },
  {
   "cell_type": "markdown",
   "metadata": {},
   "source": [
    "## import"
   ]
  },
  {
   "cell_type": "code",
   "execution_count": 50,
   "metadata": {},
   "outputs": [
    {
     "data": {
      "text/plain": [
       "['',\n",
       " '/Users/allieus/Dev/demo-pusan-201902-python',\n",
       " '/Users/allieus/anaconda3/lib/python37.zip',\n",
       " '/Users/allieus/anaconda3/lib/python3.7',\n",
       " '/Users/allieus/anaconda3/lib/python3.7/lib-dynload',\n",
       " '/Users/allieus/anaconda3/lib/python3.7/site-packages',\n",
       " '/Users/allieus/anaconda3/lib/python3.7/site-packages/aeosa',\n",
       " '/Users/allieus/anaconda3/lib/python3.7/site-packages/IPython/extensions',\n",
       " '/Users/allieus/.ipython']"
      ]
     },
     "execution_count": 50,
     "metadata": {},
     "output_type": "execute_result"
    }
   ],
   "source": [
    "import sys\n",
    "\n",
    "sys.path"
   ]
  },
  {
   "cell_type": "code",
   "execution_count": 51,
   "metadata": {},
   "outputs": [
    {
     "data": {
      "text/plain": [
       "3.141592653589793"
      ]
     },
     "execution_count": 51,
     "metadata": {},
     "output_type": "execute_result"
    }
   ],
   "source": [
    "import math\n",
    "\n",
    "math.pi"
   ]
  },
  {
   "cell_type": "code",
   "execution_count": 52,
   "metadata": {},
   "outputs": [
    {
     "name": "stdout",
     "output_type": "stream",
     "text": [
      "3.141592653589793\n"
     ]
    }
   ],
   "source": [
    "from mylib import math"
   ]
  },
  {
   "cell_type": "code",
   "execution_count": null,
   "metadata": {},
   "outputs": [],
   "source": []
  },
  {
   "cell_type": "code",
   "execution_count": null,
   "metadata": {},
   "outputs": [],
   "source": []
  },
  {
   "cell_type": "code",
   "execution_count": null,
   "metadata": {},
   "outputs": [],
   "source": []
  },
  {
   "cell_type": "code",
   "execution_count": null,
   "metadata": {},
   "outputs": [],
   "source": []
  },
  {
   "cell_type": "code",
   "execution_count": null,
   "metadata": {},
   "outputs": [],
   "source": []
  }
 ],
 "metadata": {
  "kernelspec": {
   "display_name": "Python 3",
   "language": "python",
   "name": "python3"
  },
  "language_info": {
   "codemirror_mode": {
    "name": "ipython",
    "version": 3
   },
   "file_extension": ".py",
   "mimetype": "text/x-python",
   "name": "python",
   "nbconvert_exporter": "python",
   "pygments_lexer": "ipython3",
   "version": "3.7.0"
  }
 },
 "nbformat": 4,
 "nbformat_minor": 2
}
