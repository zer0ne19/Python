{
 "cells": [
  {
   "cell_type": "markdown",
   "metadata": {},
   "source": [
    "## 기본 자료형"
   ]
  },
  {
   "cell_type": "code",
   "execution_count": 8,
   "metadata": {},
   "outputs": [
    {
     "data": {
      "text/plain": [
       "'부산대학교'"
      ]
     },
     "execution_count": 8,
     "metadata": {},
     "output_type": "execute_result"
    }
   ],
   "source": [
    "\"부산대학교\""
   ]
  },
  {
   "cell_type": "code",
   "execution_count": 9,
   "metadata": {},
   "outputs": [
    {
     "data": {
      "text/plain": [
       "'부산대학교'"
      ]
     },
     "execution_count": 9,
     "metadata": {},
     "output_type": "execute_result"
    }
   ],
   "source": [
    "'부산대학교'"
   ]
  },
  {
   "cell_type": "code",
   "execution_count": 10,
   "metadata": {},
   "outputs": [
    {
     "data": {
      "text/plain": [
       "\"Tom's House\""
      ]
     },
     "execution_count": 10,
     "metadata": {},
     "output_type": "execute_result"
    }
   ],
   "source": [
    "'Tom\\'s House'"
   ]
  },
  {
   "cell_type": "code",
   "execution_count": 11,
   "metadata": {},
   "outputs": [
    {
     "data": {
      "text/plain": [
       "\"Tom's House\""
      ]
     },
     "execution_count": 11,
     "metadata": {},
     "output_type": "execute_result"
    }
   ],
   "source": [
    "\"Tom's House\""
   ]
  },
  {
   "cell_type": "code",
   "execution_count": 12,
   "metadata": {},
   "outputs": [
    {
     "data": {
      "text/plain": [
       "'탐이 말했다. \"나는 배고파\"'"
      ]
     },
     "execution_count": 12,
     "metadata": {},
     "output_type": "execute_result"
    }
   ],
   "source": [
    "\"탐이 말했다. \\\"나는 배고파\\\"\""
   ]
  },
  {
   "cell_type": "code",
   "execution_count": 13,
   "metadata": {},
   "outputs": [
    {
     "data": {
      "text/plain": [
       "'탐이 말했다. \"나는 배고파\"'"
      ]
     },
     "execution_count": 13,
     "metadata": {},
     "output_type": "execute_result"
    }
   ],
   "source": [
    "'탐이 말했다. \"나는 배고파\"'"
   ]
  },
  {
   "cell_type": "code",
   "execution_count": 15,
   "metadata": {},
   "outputs": [
    {
     "name": "stdout",
     "output_type": "stream",
     "text": [
      "여러 줄 문자열\n",
      "라인 2\n",
      "라인 3\n",
      "라인 4\n"
     ]
    }
   ],
   "source": [
    "문자열 = \"\"\"여러 줄 문자열\n",
    "라인 2\n",
    "라인 3\n",
    "라인 4\"\"\"\n",
    "\n",
    "print(문자열)"
   ]
  },
  {
   "cell_type": "markdown",
   "metadata": {},
   "source": [
    "## 변수"
   ]
  },
  {
   "cell_type": "code",
   "execution_count": 16,
   "metadata": {},
   "outputs": [],
   "source": [
    "# java\n",
    "# int age = 20;"
   ]
  },
  {
   "cell_type": "code",
   "execution_count": 20,
   "metadata": {},
   "outputs": [],
   "source": [
    "age = 20\n",
    "age = \"부산\""
   ]
  },
  {
   "cell_type": "code",
   "execution_count": 18,
   "metadata": {},
   "outputs": [],
   "source": [
    "# Type Hinting\n",
    "age: int = 20"
   ]
  },
  {
   "cell_type": "code",
   "execution_count": 19,
   "metadata": {},
   "outputs": [],
   "source": [
    "age = \"부산\""
   ]
  },
  {
   "cell_type": "markdown",
   "metadata": {},
   "source": [
    "## 기본 연산자"
   ]
  },
  {
   "cell_type": "code",
   "execution_count": 22,
   "metadata": {},
   "outputs": [
    {
     "data": {
      "text/plain": [
       "3.3333333333333335"
      ]
     },
     "execution_count": 22,
     "metadata": {},
     "output_type": "execute_result"
    }
   ],
   "source": [
    "10 / 3  # / 의 결과는 항상 실수"
   ]
  },
  {
   "cell_type": "code",
   "execution_count": 23,
   "metadata": {},
   "outputs": [
    {
     "data": {
      "text/plain": [
       "3"
      ]
     },
     "execution_count": 23,
     "metadata": {},
     "output_type": "execute_result"
    }
   ],
   "source": [
    "10 // 3 # 몫"
   ]
  },
  {
   "cell_type": "code",
   "execution_count": 24,
   "metadata": {},
   "outputs": [
    {
     "data": {
      "text/plain": [
       "1"
      ]
     },
     "execution_count": 24,
     "metadata": {},
     "output_type": "execute_result"
    }
   ],
   "source": [
    "10 % 3"
   ]
  },
  {
   "cell_type": "code",
   "execution_count": 25,
   "metadata": {},
   "outputs": [
    {
     "data": {
      "text/plain": [
       "5.0"
      ]
     },
     "execution_count": 25,
     "metadata": {},
     "output_type": "execute_result"
    }
   ],
   "source": [
    "10 / 2"
   ]
  },
  {
   "cell_type": "code",
   "execution_count": 27,
   "metadata": {},
   "outputs": [
    {
     "data": {
      "text/plain": [
       "(3, 1)"
      ]
     },
     "execution_count": 27,
     "metadata": {},
     "output_type": "execute_result"
    }
   ],
   "source": [
    "divmod(10, 3)  # 몫과 나머지를 한 번에 계산 => tuple 타입"
   ]
  },
  {
   "cell_type": "markdown",
   "metadata": {},
   "source": [
    "## 문자열 포맷팅"
   ]
  },
  {
   "cell_type": "code",
   "execution_count": 29,
   "metadata": {},
   "outputs": [
    {
     "data": {
      "text/plain": [
       "'이름 : 이진석, 지역 : 대전'"
      ]
     },
     "execution_count": 29,
     "metadata": {},
     "output_type": "execute_result"
    }
   ],
   "source": [
    "\"이름 : %s, 지역 : %s\" % (\"이진석\", \"대전\")  # 파이썬 2"
   ]
  },
  {
   "cell_type": "code",
   "execution_count": 30,
   "metadata": {},
   "outputs": [
    {
     "data": {
      "text/plain": [
       "'이름 : 이진석, 지역 : 대전'"
      ]
     },
     "execution_count": 30,
     "metadata": {},
     "output_type": "execute_result"
    }
   ],
   "source": [
    "\"이름 : {}, 지역 : {}\".format(\"이진석\", \"대전\")"
   ]
  },
  {
   "cell_type": "code",
   "execution_count": 31,
   "metadata": {},
   "outputs": [
    {
     "data": {
      "text/plain": [
       "'이름 : 이진석, 지역 : 대전'"
      ]
     },
     "execution_count": 31,
     "metadata": {},
     "output_type": "execute_result"
    }
   ],
   "source": [
    "\"이름 : {0}, 지역 : {1}\".format(\"이진석\", \"대전\")"
   ]
  },
  {
   "cell_type": "code",
   "execution_count": 32,
   "metadata": {},
   "outputs": [
    {
     "data": {
      "text/plain": [
       "'이름 : 대전, 지역 : 이진석'"
      ]
     },
     "execution_count": 32,
     "metadata": {},
     "output_type": "execute_result"
    }
   ],
   "source": [
    "\"이름 : {1}, 지역 : {0}\".format(\"이진석\", \"대전\")"
   ]
  },
  {
   "cell_type": "code",
   "execution_count": 33,
   "metadata": {},
   "outputs": [
    {
     "data": {
      "text/plain": [
       "'이름 : 이진석, 지역 : 대전, 이진석'"
      ]
     },
     "execution_count": 33,
     "metadata": {},
     "output_type": "execute_result"
    }
   ],
   "source": [
    "\"이름 : {}, 지역 : {}, {}\".format(\"이진석\", \"대전\", \"이진석\")"
   ]
  },
  {
   "cell_type": "code",
   "execution_count": 35,
   "metadata": {},
   "outputs": [
    {
     "data": {
      "text/plain": [
       "'이름 : 이진석, 지역 : 대전, 이진석'"
      ]
     },
     "execution_count": 35,
     "metadata": {},
     "output_type": "execute_result"
    }
   ],
   "source": [
    "# 함수 : 위치 인자 (Positional Arguments)\n",
    "\"이름 : {0}, 지역 : {1}, {0}\".format(\"이진석\", \"대전\")"
   ]
  },
  {
   "cell_type": "code",
   "execution_count": 36,
   "metadata": {},
   "outputs": [
    {
     "data": {
      "text/plain": [
       "'이름 : 이진석, 지역 : 대전, 이진석'"
      ]
     },
     "execution_count": 36,
     "metadata": {},
     "output_type": "execute_result"
    }
   ],
   "source": [
    "# 함수 : 키워드 인자 (Keyword Arguments)\n",
    "\"이름 : {name}, 지역 : {region}, {name}\".format(name=\"이진석\", region=\"대전\")"
   ]
  },
  {
   "cell_type": "markdown",
   "metadata": {},
   "source": [
    "## 비교 연산"
   ]
  },
  {
   "cell_type": "code",
   "execution_count": 37,
   "metadata": {},
   "outputs": [
    {
     "data": {
      "text/plain": [
       "True"
      ]
     },
     "execution_count": 37,
     "metadata": {},
     "output_type": "execute_result"
    }
   ],
   "source": [
    "1 == 1"
   ]
  },
  {
   "cell_type": "code",
   "execution_count": 38,
   "metadata": {},
   "outputs": [],
   "source": [
    "list1 = [1, 2, 3]\n",
    "list2 = [1, 2, 3]"
   ]
  },
  {
   "cell_type": "code",
   "execution_count": 39,
   "metadata": {},
   "outputs": [
    {
     "data": {
      "text/plain": [
       "(4560358216, 4558800840)"
      ]
     },
     "execution_count": 39,
     "metadata": {},
     "output_type": "execute_result"
    }
   ],
   "source": [
    "id(list1), id(list2)"
   ]
  },
  {
   "cell_type": "code",
   "execution_count": 40,
   "metadata": {},
   "outputs": [
    {
     "data": {
      "text/plain": [
       "True"
      ]
     },
     "execution_count": 40,
     "metadata": {},
     "output_type": "execute_result"
    }
   ],
   "source": [
    "list1 == list2"
   ]
  },
  {
   "cell_type": "code",
   "execution_count": 41,
   "metadata": {},
   "outputs": [
    {
     "data": {
      "text/plain": [
       "False"
      ]
     },
     "execution_count": 41,
     "metadata": {},
     "output_type": "execute_result"
    }
   ],
   "source": [
    "list1 is list2"
   ]
  },
  {
   "cell_type": "code",
   "execution_count": 42,
   "metadata": {},
   "outputs": [
    {
     "data": {
      "text/plain": [
       "True"
      ]
     },
     "execution_count": 42,
     "metadata": {},
     "output_type": "execute_result"
    }
   ],
   "source": [
    "100 > 99"
   ]
  },
  {
   "cell_type": "code",
   "execution_count": 43,
   "metadata": {},
   "outputs": [
    {
     "data": {
      "text/plain": [
       "False"
      ]
     },
     "execution_count": 43,
     "metadata": {},
     "output_type": "execute_result"
    }
   ],
   "source": [
    "\"100\" > \"99\""
   ]
  },
  {
   "cell_type": "code",
   "execution_count": 44,
   "metadata": {},
   "outputs": [
    {
     "data": {
      "text/plain": [
       "False"
      ]
     },
     "execution_count": 44,
     "metadata": {},
     "output_type": "execute_result"
    }
   ],
   "source": [
    "[\"1\", \"0\", \"0\"] > [\"9\", \"9\"]"
   ]
  },
  {
   "cell_type": "markdown",
   "metadata": {},
   "source": [
    "`bool`이 아닌 값들에 대한 판정은?"
   ]
  },
  {
   "cell_type": "code",
   "execution_count": 45,
   "metadata": {},
   "outputs": [
    {
     "data": {
      "text/plain": [
       "(True, False)"
      ]
     },
     "execution_count": 45,
     "metadata": {},
     "output_type": "execute_result"
    }
   ],
   "source": [
    "True, False"
   ]
  },
  {
   "cell_type": "code",
   "execution_count": 48,
   "metadata": {},
   "outputs": [
    {
     "data": {
      "text/plain": [
       "(False, True)"
      ]
     },
     "execution_count": 48,
     "metadata": {},
     "output_type": "execute_result"
    }
   ],
   "source": [
    "bool(0), bool(1)"
   ]
  },
  {
   "cell_type": "code",
   "execution_count": 50,
   "metadata": {},
   "outputs": [
    {
     "data": {
      "text/plain": [
       "(False, True)"
      ]
     },
     "execution_count": 50,
     "metadata": {},
     "output_type": "execute_result"
    }
   ],
   "source": [
    "bool([]), bool([''])"
   ]
  },
  {
   "cell_type": "code",
   "execution_count": 51,
   "metadata": {},
   "outputs": [
    {
     "data": {
      "text/plain": [
       "False"
      ]
     },
     "execution_count": 51,
     "metadata": {},
     "output_type": "execute_result"
    }
   ],
   "source": [
    "bool(None)"
   ]
  },
  {
   "cell_type": "code",
   "execution_count": null,
   "metadata": {},
   "outputs": [],
   "source": []
  },
  {
   "cell_type": "code",
   "execution_count": null,
   "metadata": {},
   "outputs": [],
   "source": [
    "name = \"이진석\""
   ]
  },
  {
   "cell_type": "code",
   "execution_count": 52,
   "metadata": {},
   "outputs": [
    {
     "ename": "NameError",
     "evalue": "name 'name' is not defined",
     "output_type": "error",
     "traceback": [
      "\u001b[0;31m---------------------------------------------------------------------------\u001b[0m",
      "\u001b[0;31mNameError\u001b[0m                                 Traceback (most recent call last)",
      "\u001b[0;32m<ipython-input-52-9bc0cb2ed6de>\u001b[0m in \u001b[0;36m<module>\u001b[0;34m()\u001b[0m\n\u001b[0;32m----> 1\u001b[0;31m \u001b[0mname\u001b[0m\u001b[0;34m\u001b[0m\u001b[0m\n\u001b[0m",
      "\u001b[0;31mNameError\u001b[0m: name 'name' is not defined"
     ]
    }
   ],
   "source": [
    "name"
   ]
  },
  {
   "cell_type": "markdown",
   "metadata": {},
   "source": [
    "## 기본 자료구조"
   ]
  },
  {
   "cell_type": "code",
   "execution_count": 53,
   "metadata": {},
   "outputs": [],
   "source": [
    "list1 = [\"hello\", 1, 2, [\"world\", \"python\"]]"
   ]
  },
  {
   "cell_type": "markdown",
   "metadata": {},
   "source": [
    "### list, tuple, set, dict"
   ]
  },
  {
   "cell_type": "code",
   "execution_count": 57,
   "metadata": {},
   "outputs": [
    {
     "data": {
      "text/plain": [
       "[1, 2, 3, 1, 2, 3]"
      ]
     },
     "execution_count": 57,
     "metadata": {},
     "output_type": "execute_result"
    }
   ],
   "source": [
    "# list\n",
    "mylist1 = list()\n",
    "mylist1 = []\n",
    "mylist2 = [1, 2, 3, 1, 2, 3]\n",
    "mylist2"
   ]
  },
  {
   "cell_type": "code",
   "execution_count": 62,
   "metadata": {},
   "outputs": [
    {
     "data": {
      "text/plain": [
       "(1, 2, 3, 1, 2, 3)"
      ]
     },
     "execution_count": 62,
     "metadata": {},
     "output_type": "execute_result"
    }
   ],
   "source": [
    "# tuple : 변경불가능 (Immutable)\n",
    "mytuple1 = tuple()\n",
    "mytuple1 = ()\n",
    "mytuple2 = (1, 2, 3, 1, 2, 3)\n",
    "mytuple2"
   ]
  },
  {
   "cell_type": "code",
   "execution_count": 60,
   "metadata": {},
   "outputs": [
    {
     "data": {
      "text/plain": [
       "{1, 2, 3}"
      ]
     },
     "execution_count": 60,
     "metadata": {},
     "output_type": "execute_result"
    }
   ],
   "source": [
    "# set : 중복 배제, 순서를 보장하지 않음.\n",
    "myset1 = set()\n",
    "myset2 = {1, 2, 3, 1, 2, 3}\n",
    "myset2"
   ]
  },
  {
   "cell_type": "code",
   "execution_count": 63,
   "metadata": {},
   "outputs": [
    {
     "data": {
      "text/plain": [
       "[1, 2, 3]"
      ]
     },
     "execution_count": 63,
     "metadata": {},
     "output_type": "execute_result"
    }
   ],
   "source": [
    "# 만약 정렬이 필요하면, 직접 정렬을 하는 것이 필요\n",
    "sorted(myset2)"
   ]
  },
  {
   "cell_type": "code",
   "execution_count": 61,
   "metadata": {},
   "outputs": [
    {
     "data": {
      "text/plain": [
       "{'a': 4, 'b': 5, 'c': 3}"
      ]
     },
     "execution_count": 61,
     "metadata": {},
     "output_type": "execute_result"
    }
   ],
   "source": [
    "# dict\n",
    "mydict1 = dict()\n",
    "mydict1 = {}\n",
    "mydict2 = {'a': 1, 'b': 2, 'c': 3, 'a': 4, 'b': 5}\n",
    "mydict2"
   ]
  },
  {
   "cell_type": "code",
   "execution_count": 64,
   "metadata": {},
   "outputs": [
    {
     "ename": "TypeError",
     "evalue": "'str' object does not support item assignment",
     "output_type": "error",
     "traceback": [
      "\u001b[0;31m---------------------------------------------------------------------------\u001b[0m",
      "\u001b[0;31mTypeError\u001b[0m                                 Traceback (most recent call last)",
      "\u001b[0;32m<ipython-input-64-a6eaca5fe1d1>\u001b[0m in \u001b[0;36m<module>\u001b[0;34m()\u001b[0m\n\u001b[1;32m      1\u001b[0m \u001b[0mname\u001b[0m \u001b[0;34m=\u001b[0m \u001b[0;34m\"이진석\"\u001b[0m\u001b[0;34m\u001b[0m\u001b[0m\n\u001b[0;32m----> 2\u001b[0;31m \u001b[0mname\u001b[0m\u001b[0;34m[\u001b[0m\u001b[0;36m0\u001b[0m\u001b[0;34m]\u001b[0m \u001b[0;34m=\u001b[0m \u001b[0;34m\"김\"\u001b[0m\u001b[0;34m\u001b[0m\u001b[0m\n\u001b[0m",
      "\u001b[0;31mTypeError\u001b[0m: 'str' object does not support item assignment"
     ]
    }
   ],
   "source": [
    "name = \"이진석\"\n",
    "name[0] = \"김\""
   ]
  },
  {
   "cell_type": "code",
   "execution_count": 65,
   "metadata": {},
   "outputs": [
    {
     "name": "stdout",
     "output_type": "stream",
     "text": [
      "['이', '진', '석']\n"
     ]
    },
    {
     "data": {
      "text/plain": [
       "['김', '진', '석']"
      ]
     },
     "execution_count": 65,
     "metadata": {},
     "output_type": "execute_result"
    }
   ],
   "source": [
    "name = list(\"이진석\")  # str -> list\n",
    "print(name)\n",
    "name[0] = \"김\"\n",
    "name"
   ]
  },
  {
   "cell_type": "code",
   "execution_count": null,
   "metadata": {},
   "outputs": [],
   "source": []
  },
  {
   "cell_type": "code",
   "execution_count": 67,
   "metadata": {},
   "outputs": [],
   "source": [
    "val = [1, 2, 3, 1, 2, 3]"
   ]
  },
  {
   "cell_type": "code",
   "execution_count": 68,
   "metadata": {},
   "outputs": [
    {
     "data": {
      "text/plain": [
       "list"
      ]
     },
     "execution_count": 68,
     "metadata": {},
     "output_type": "execute_result"
    }
   ],
   "source": [
    "type(val)"
   ]
  },
  {
   "cell_type": "code",
   "execution_count": 69,
   "metadata": {},
   "outputs": [
    {
     "data": {
      "text/plain": [
       "(1, 2, 3, 1, 2, 3)"
      ]
     },
     "execution_count": 69,
     "metadata": {},
     "output_type": "execute_result"
    }
   ],
   "source": [
    "tuple(val)"
   ]
  },
  {
   "cell_type": "code",
   "execution_count": 70,
   "metadata": {},
   "outputs": [
    {
     "data": {
      "text/plain": [
       "{1, 2, 3}"
      ]
     },
     "execution_count": 70,
     "metadata": {},
     "output_type": "execute_result"
    }
   ],
   "source": [
    "set(val)"
   ]
  },
  {
   "cell_type": "code",
   "execution_count": 71,
   "metadata": {},
   "outputs": [
    {
     "data": {
      "text/plain": [
       "[1, 2, 3]"
      ]
     },
     "execution_count": 71,
     "metadata": {},
     "output_type": "execute_result"
    }
   ],
   "source": [
    "list(set(val))"
   ]
  },
  {
   "cell_type": "code",
   "execution_count": null,
   "metadata": {},
   "outputs": [],
   "source": []
  },
  {
   "cell_type": "code",
   "execution_count": 80,
   "metadata": {},
   "outputs": [
    {
     "data": {
      "text/plain": [
       "['김치찌개', '볶음밥', '라면']"
      ]
     },
     "execution_count": 80,
     "metadata": {},
     "output_type": "execute_result"
    }
   ],
   "source": [
    "음식_메뉴_리스트 = ['김치찌개', '볶음밥', '라면']\n",
    "음식_메뉴_리스트"
   ]
  },
  {
   "cell_type": "code",
   "execution_count": 81,
   "metadata": {},
   "outputs": [
    {
     "data": {
      "text/plain": [
       "['김치찌개', '볶음밥', '라면', '수박']"
      ]
     },
     "execution_count": 81,
     "metadata": {},
     "output_type": "execute_result"
    }
   ],
   "source": [
    "음식_메뉴_리스트.append('수박')\n",
    "음식_메뉴_리스트"
   ]
  },
  {
   "cell_type": "code",
   "execution_count": 82,
   "metadata": {},
   "outputs": [
    {
     "data": {
      "text/plain": [
       "['김치찌개', '수박', '볶음밥', '라면', '수박']"
      ]
     },
     "execution_count": 82,
     "metadata": {},
     "output_type": "execute_result"
    }
   ],
   "source": [
    "음식_메뉴_리스트.insert(1, '수박')\n",
    "음식_메뉴_리스트"
   ]
  },
  {
   "cell_type": "code",
   "execution_count": 83,
   "metadata": {},
   "outputs": [
    {
     "data": {
      "text/plain": [
       "['김치찌개', '수박', '볶음밥', '라면', '수박', '순대국밥', '비냉', '물냉']"
      ]
     },
     "execution_count": 83,
     "metadata": {},
     "output_type": "execute_result"
    }
   ],
   "source": [
    "음식_메뉴_리스트.extend([\n",
    "    '순대국밥', '비냉', '물냉'\n",
    "])\n",
    "음식_메뉴_리스트"
   ]
  },
  {
   "cell_type": "code",
   "execution_count": 84,
   "metadata": {},
   "outputs": [
    {
     "data": {
      "text/plain": [
       "['김치찌개', '수박', '볶음밥', '라면', '수박', '순대국밥', '비냉', '물냉', '햄', '버', '거']"
      ]
     },
     "execution_count": 84,
     "metadata": {},
     "output_type": "execute_result"
    }
   ],
   "source": [
    "# 실수 포인트\n",
    "음식_메뉴_리스트.extend('햄버거')\n",
    "음식_메뉴_리스트"
   ]
  },
  {
   "cell_type": "code",
   "execution_count": 85,
   "metadata": {},
   "outputs": [
    {
     "data": {
      "text/plain": [
       "['김치찌개',\n",
       " '수박',\n",
       " '볶음밥',\n",
       " '라면',\n",
       " '수박',\n",
       " '순대국밥',\n",
       " '비냉',\n",
       " '물냉',\n",
       " '햄',\n",
       " '버',\n",
       " '거',\n",
       " '김치찌개',\n",
       " '김치찌개']"
      ]
     },
     "execution_count": 85,
     "metadata": {},
     "output_type": "execute_result"
    }
   ],
   "source": [
    "음식_메뉴_리스트.extend(['김치찌개', '김치찌개'])\n",
    "음식_메뉴_리스트"
   ]
  },
  {
   "cell_type": "code",
   "execution_count": 86,
   "metadata": {},
   "outputs": [
    {
     "data": {
      "text/plain": [
       "['수박', '볶음밥', '라면', '수박', '순대국밥', '비냉', '물냉', '햄', '버', '거', '김치찌개', '김치찌개']"
      ]
     },
     "execution_count": 86,
     "metadata": {},
     "output_type": "execute_result"
    }
   ],
   "source": [
    "음식_메뉴_리스트.remove('김치찌개')  # 반환값이 없어요.\n",
    "음식_메뉴_리스트"
   ]
  },
  {
   "cell_type": "code",
   "execution_count": 87,
   "metadata": {},
   "outputs": [
    {
     "data": {
      "text/plain": [
       "'수박'"
      ]
     },
     "execution_count": 87,
     "metadata": {},
     "output_type": "execute_result"
    }
   ],
   "source": [
    "음식_메뉴_리스트.pop(0)  # 삭제한 대상을 반환해줍니다."
   ]
  },
  {
   "cell_type": "markdown",
   "metadata": {},
   "source": [
    "### 인덱스 (index)\n",
    "\n",
    "list, tuple, str 은 모두 index를 지원 => 순서를 보장"
   ]
  },
  {
   "cell_type": "code",
   "execution_count": 89,
   "metadata": {},
   "outputs": [
    {
     "data": {
      "text/plain": [
       "[64, 6, 94, 24, 21, 57]"
      ]
     },
     "execution_count": 89,
     "metadata": {},
     "output_type": "execute_result"
    }
   ],
   "source": [
    "import random\n",
    "\n",
    "숫자_리스트 = random.sample(range(100), 6)\n",
    "숫자_리스트"
   ]
  },
  {
   "cell_type": "code",
   "execution_count": 90,
   "metadata": {},
   "outputs": [
    {
     "data": {
      "text/plain": [
       "[64, 6, 94, 24, 21, 57]"
      ]
     },
     "execution_count": 90,
     "metadata": {},
     "output_type": "execute_result"
    }
   ],
   "source": [
    "숫자_리스트"
   ]
  },
  {
   "cell_type": "code",
   "execution_count": 91,
   "metadata": {},
   "outputs": [
    {
     "data": {
      "text/plain": [
       "'안녕, 세상아'"
      ]
     },
     "execution_count": 91,
     "metadata": {},
     "output_type": "execute_result"
    }
   ],
   "source": [
    "\"안녕, 세상아\""
   ]
  },
  {
   "cell_type": "code",
   "execution_count": 93,
   "metadata": {},
   "outputs": [
    {
     "data": {
      "text/plain": [
       "57"
      ]
     },
     "execution_count": 93,
     "metadata": {},
     "output_type": "execute_result"
    }
   ],
   "source": [
    "last_idx = len(숫자_리스트) - 1\n",
    "숫자_리스트[last_idx]"
   ]
  },
  {
   "cell_type": "code",
   "execution_count": 94,
   "metadata": {},
   "outputs": [
    {
     "data": {
      "text/plain": [
       "57"
      ]
     },
     "execution_count": 94,
     "metadata": {},
     "output_type": "execute_result"
    }
   ],
   "source": [
    "숫자_리스트[-1]"
   ]
  },
  {
   "cell_type": "code",
   "execution_count": 95,
   "metadata": {},
   "outputs": [],
   "source": [
    "알파벳 = \"abcdefghijklmnopqrstuvwxyz\""
   ]
  },
  {
   "cell_type": "code",
   "execution_count": 98,
   "metadata": {},
   "outputs": [
    {
     "ename": "IndexError",
     "evalue": "string index out of range",
     "output_type": "error",
     "traceback": [
      "\u001b[0;31m---------------------------------------------------------------------------\u001b[0m",
      "\u001b[0;31mIndexError\u001b[0m                                Traceback (most recent call last)",
      "\u001b[0;32m<ipython-input-98-37d68460a9b4>\u001b[0m in \u001b[0;36m<module>\u001b[0;34m()\u001b[0m\n\u001b[0;32m----> 1\u001b[0;31m \u001b[0m알파벳\u001b[0m\u001b[0;34m[\u001b[0m\u001b[0;36m30\u001b[0m\u001b[0;34m]\u001b[0m\u001b[0;34m\u001b[0m\u001b[0m\n\u001b[0m",
      "\u001b[0;31mIndexError\u001b[0m: string index out of range"
     ]
    }
   ],
   "source": [
    "알파벳[30]"
   ]
  },
  {
   "cell_type": "markdown",
   "metadata": {},
   "source": [
    "슬라이싱"
   ]
  },
  {
   "cell_type": "code",
   "execution_count": 99,
   "metadata": {},
   "outputs": [
    {
     "data": {
      "text/plain": [
       "'b'"
      ]
     },
     "execution_count": 99,
     "metadata": {},
     "output_type": "execute_result"
    }
   ],
   "source": [
    "알파벳[1]"
   ]
  },
  {
   "cell_type": "code",
   "execution_count": 100,
   "metadata": {},
   "outputs": [
    {
     "data": {
      "text/plain": [
       "'bcdefghijklmnopqrstuvwxyz'"
      ]
     },
     "execution_count": 100,
     "metadata": {},
     "output_type": "execute_result"
    }
   ],
   "source": [
    "알파벳[1:]"
   ]
  },
  {
   "cell_type": "code",
   "execution_count": 101,
   "metadata": {},
   "outputs": [
    {
     "data": {
      "text/plain": [
       "'bdfhjlnprtvxz'"
      ]
     },
     "execution_count": 101,
     "metadata": {},
     "output_type": "execute_result"
    }
   ],
   "source": [
    "알파벳[1::2]"
   ]
  },
  {
   "cell_type": "code",
   "execution_count": 102,
   "metadata": {},
   "outputs": [
    {
     "data": {
      "text/plain": [
       "'cdefghijklmnopqrstuvwx'"
      ]
     },
     "execution_count": 102,
     "metadata": {},
     "output_type": "execute_result"
    }
   ],
   "source": [
    "알파벳[2:-2]"
   ]
  },
  {
   "cell_type": "code",
   "execution_count": 103,
   "metadata": {},
   "outputs": [
    {
     "data": {
      "text/plain": [
       "'zyxwvutsrqponmlkjihgfedcba'"
      ]
     },
     "execution_count": 103,
     "metadata": {},
     "output_type": "execute_result"
    }
   ],
   "source": [
    "알파벳[::-1]"
   ]
  },
  {
   "cell_type": "code",
   "execution_count": null,
   "metadata": {},
   "outputs": [],
   "source": []
  },
  {
   "cell_type": "markdown",
   "metadata": {},
   "source": [
    "### 튜플"
   ]
  },
  {
   "cell_type": "code",
   "execution_count": 104,
   "metadata": {},
   "outputs": [
    {
     "data": {
      "text/plain": [
       "14"
      ]
     },
     "execution_count": 104,
     "metadata": {},
     "output_type": "execute_result"
    }
   ],
   "source": [
    "2 + 3 * 4"
   ]
  },
  {
   "cell_type": "code",
   "execution_count": 105,
   "metadata": {},
   "outputs": [
    {
     "data": {
      "text/plain": [
       "20"
      ]
     },
     "execution_count": 105,
     "metadata": {},
     "output_type": "execute_result"
    }
   ],
   "source": [
    "(2 + 3) * 4"
   ]
  },
  {
   "cell_type": "code",
   "execution_count": 106,
   "metadata": {},
   "outputs": [
    {
     "data": {
      "text/plain": [
       "(1, 2)"
      ]
     },
     "execution_count": 106,
     "metadata": {},
     "output_type": "execute_result"
    }
   ],
   "source": [
    "(1, 2)"
   ]
  },
  {
   "cell_type": "code",
   "execution_count": 107,
   "metadata": {},
   "outputs": [
    {
     "data": {
      "text/plain": [
       "(1, 2)"
      ]
     },
     "execution_count": 107,
     "metadata": {},
     "output_type": "execute_result"
    }
   ],
   "source": [
    "1, 2"
   ]
  },
  {
   "cell_type": "code",
   "execution_count": 112,
   "metadata": {},
   "outputs": [
    {
     "name": "stdout",
     "output_type": "stream",
     "text": [
      "1\n"
     ]
    }
   ],
   "source": [
    "숫자_튜플 = 1,\n",
    "\n",
    "for number in 숫자_튜플:\n",
    "    print(number)"
   ]
  },
  {
   "cell_type": "code",
   "execution_count": null,
   "metadata": {},
   "outputs": [],
   "source": []
  },
  {
   "cell_type": "markdown",
   "metadata": {},
   "source": [
    "`seaborn` 시각화 라이브러리"
   ]
  },
  {
   "cell_type": "code",
   "execution_count": 113,
   "metadata": {},
   "outputs": [],
   "source": [
    "import seaborn as sns"
   ]
  },
  {
   "cell_type": "code",
   "execution_count": 115,
   "metadata": {},
   "outputs": [
    {
     "name": "stdout",
     "output_type": "stream",
     "text": [
      "(891, 15)\n"
     ]
    },
    {
     "data": {
      "text/html": [
       "<div>\n",
       "<style scoped>\n",
       "    .dataframe tbody tr th:only-of-type {\n",
       "        vertical-align: middle;\n",
       "    }\n",
       "\n",
       "    .dataframe tbody tr th {\n",
       "        vertical-align: top;\n",
       "    }\n",
       "\n",
       "    .dataframe thead th {\n",
       "        text-align: right;\n",
       "    }\n",
       "</style>\n",
       "<table border=\"1\" class=\"dataframe\">\n",
       "  <thead>\n",
       "    <tr style=\"text-align: right;\">\n",
       "      <th></th>\n",
       "      <th>survived</th>\n",
       "      <th>pclass</th>\n",
       "      <th>sex</th>\n",
       "      <th>age</th>\n",
       "      <th>sibsp</th>\n",
       "      <th>parch</th>\n",
       "      <th>fare</th>\n",
       "      <th>embarked</th>\n",
       "      <th>class</th>\n",
       "      <th>who</th>\n",
       "      <th>adult_male</th>\n",
       "      <th>deck</th>\n",
       "      <th>embark_town</th>\n",
       "      <th>alive</th>\n",
       "      <th>alone</th>\n",
       "    </tr>\n",
       "  </thead>\n",
       "  <tbody>\n",
       "    <tr>\n",
       "      <th>0</th>\n",
       "      <td>0</td>\n",
       "      <td>3</td>\n",
       "      <td>male</td>\n",
       "      <td>22.0</td>\n",
       "      <td>1</td>\n",
       "      <td>0</td>\n",
       "      <td>7.2500</td>\n",
       "      <td>S</td>\n",
       "      <td>Third</td>\n",
       "      <td>man</td>\n",
       "      <td>True</td>\n",
       "      <td>NaN</td>\n",
       "      <td>Southampton</td>\n",
       "      <td>no</td>\n",
       "      <td>False</td>\n",
       "    </tr>\n",
       "    <tr>\n",
       "      <th>1</th>\n",
       "      <td>1</td>\n",
       "      <td>1</td>\n",
       "      <td>female</td>\n",
       "      <td>38.0</td>\n",
       "      <td>1</td>\n",
       "      <td>0</td>\n",
       "      <td>71.2833</td>\n",
       "      <td>C</td>\n",
       "      <td>First</td>\n",
       "      <td>woman</td>\n",
       "      <td>False</td>\n",
       "      <td>C</td>\n",
       "      <td>Cherbourg</td>\n",
       "      <td>yes</td>\n",
       "      <td>False</td>\n",
       "    </tr>\n",
       "    <tr>\n",
       "      <th>2</th>\n",
       "      <td>1</td>\n",
       "      <td>3</td>\n",
       "      <td>female</td>\n",
       "      <td>26.0</td>\n",
       "      <td>0</td>\n",
       "      <td>0</td>\n",
       "      <td>7.9250</td>\n",
       "      <td>S</td>\n",
       "      <td>Third</td>\n",
       "      <td>woman</td>\n",
       "      <td>False</td>\n",
       "      <td>NaN</td>\n",
       "      <td>Southampton</td>\n",
       "      <td>yes</td>\n",
       "      <td>True</td>\n",
       "    </tr>\n",
       "    <tr>\n",
       "      <th>3</th>\n",
       "      <td>1</td>\n",
       "      <td>1</td>\n",
       "      <td>female</td>\n",
       "      <td>35.0</td>\n",
       "      <td>1</td>\n",
       "      <td>0</td>\n",
       "      <td>53.1000</td>\n",
       "      <td>S</td>\n",
       "      <td>First</td>\n",
       "      <td>woman</td>\n",
       "      <td>False</td>\n",
       "      <td>C</td>\n",
       "      <td>Southampton</td>\n",
       "      <td>yes</td>\n",
       "      <td>False</td>\n",
       "    </tr>\n",
       "    <tr>\n",
       "      <th>4</th>\n",
       "      <td>0</td>\n",
       "      <td>3</td>\n",
       "      <td>male</td>\n",
       "      <td>35.0</td>\n",
       "      <td>0</td>\n",
       "      <td>0</td>\n",
       "      <td>8.0500</td>\n",
       "      <td>S</td>\n",
       "      <td>Third</td>\n",
       "      <td>man</td>\n",
       "      <td>True</td>\n",
       "      <td>NaN</td>\n",
       "      <td>Southampton</td>\n",
       "      <td>no</td>\n",
       "      <td>True</td>\n",
       "    </tr>\n",
       "  </tbody>\n",
       "</table>\n",
       "</div>"
      ],
      "text/plain": [
       "   survived  pclass     sex   age  sibsp  parch     fare embarked  class  \\\n",
       "0         0       3    male  22.0      1      0   7.2500        S  Third   \n",
       "1         1       1  female  38.0      1      0  71.2833        C  First   \n",
       "2         1       3  female  26.0      0      0   7.9250        S  Third   \n",
       "3         1       1  female  35.0      1      0  53.1000        S  First   \n",
       "4         0       3    male  35.0      0      0   8.0500        S  Third   \n",
       "\n",
       "     who  adult_male deck  embark_town alive  alone  \n",
       "0    man        True  NaN  Southampton    no  False  \n",
       "1  woman       False    C    Cherbourg   yes  False  \n",
       "2  woman       False  NaN  Southampton   yes   True  \n",
       "3  woman       False    C  Southampton   yes  False  \n",
       "4    man        True  NaN  Southampton    no   True  "
      ]
     },
     "execution_count": 115,
     "metadata": {},
     "output_type": "execute_result"
    }
   ],
   "source": [
    "df = sns.load_dataset('titanic')\n",
    "print(df.shape)\n",
    "df.head()  # 처음 5행만 출력"
   ]
  },
  {
   "cell_type": "code",
   "execution_count": 119,
   "metadata": {},
   "outputs": [
    {
     "data": {
      "text/html": [
       "<div>\n",
       "<style scoped>\n",
       "    .dataframe tbody tr th:only-of-type {\n",
       "        vertical-align: middle;\n",
       "    }\n",
       "\n",
       "    .dataframe tbody tr th {\n",
       "        vertical-align: top;\n",
       "    }\n",
       "\n",
       "    .dataframe thead th {\n",
       "        text-align: right;\n",
       "    }\n",
       "</style>\n",
       "<table border=\"1\" class=\"dataframe\">\n",
       "  <thead>\n",
       "    <tr style=\"text-align: right;\">\n",
       "      <th></th>\n",
       "      <th>survived</th>\n",
       "      <th>pclass</th>\n",
       "      <th>sex</th>\n",
       "      <th>age</th>\n",
       "      <th>sibsp</th>\n",
       "      <th>parch</th>\n",
       "      <th>fare</th>\n",
       "      <th>embarked</th>\n",
       "      <th>class</th>\n",
       "      <th>who</th>\n",
       "      <th>adult_male</th>\n",
       "      <th>deck</th>\n",
       "      <th>embark_town</th>\n",
       "      <th>alive</th>\n",
       "      <th>alone</th>\n",
       "    </tr>\n",
       "  </thead>\n",
       "  <tbody>\n",
       "    <tr>\n",
       "      <th>886</th>\n",
       "      <td>0</td>\n",
       "      <td>2</td>\n",
       "      <td>male</td>\n",
       "      <td>27.0</td>\n",
       "      <td>0</td>\n",
       "      <td>0</td>\n",
       "      <td>13.00</td>\n",
       "      <td>S</td>\n",
       "      <td>Second</td>\n",
       "      <td>man</td>\n",
       "      <td>True</td>\n",
       "      <td>NaN</td>\n",
       "      <td>Southampton</td>\n",
       "      <td>no</td>\n",
       "      <td>True</td>\n",
       "    </tr>\n",
       "    <tr>\n",
       "      <th>887</th>\n",
       "      <td>1</td>\n",
       "      <td>1</td>\n",
       "      <td>female</td>\n",
       "      <td>19.0</td>\n",
       "      <td>0</td>\n",
       "      <td>0</td>\n",
       "      <td>30.00</td>\n",
       "      <td>S</td>\n",
       "      <td>First</td>\n",
       "      <td>woman</td>\n",
       "      <td>False</td>\n",
       "      <td>B</td>\n",
       "      <td>Southampton</td>\n",
       "      <td>yes</td>\n",
       "      <td>True</td>\n",
       "    </tr>\n",
       "    <tr>\n",
       "      <th>888</th>\n",
       "      <td>0</td>\n",
       "      <td>3</td>\n",
       "      <td>female</td>\n",
       "      <td>NaN</td>\n",
       "      <td>1</td>\n",
       "      <td>2</td>\n",
       "      <td>23.45</td>\n",
       "      <td>S</td>\n",
       "      <td>Third</td>\n",
       "      <td>woman</td>\n",
       "      <td>False</td>\n",
       "      <td>NaN</td>\n",
       "      <td>Southampton</td>\n",
       "      <td>no</td>\n",
       "      <td>False</td>\n",
       "    </tr>\n",
       "    <tr>\n",
       "      <th>889</th>\n",
       "      <td>1</td>\n",
       "      <td>1</td>\n",
       "      <td>male</td>\n",
       "      <td>26.0</td>\n",
       "      <td>0</td>\n",
       "      <td>0</td>\n",
       "      <td>30.00</td>\n",
       "      <td>C</td>\n",
       "      <td>First</td>\n",
       "      <td>man</td>\n",
       "      <td>True</td>\n",
       "      <td>C</td>\n",
       "      <td>Cherbourg</td>\n",
       "      <td>yes</td>\n",
       "      <td>True</td>\n",
       "    </tr>\n",
       "    <tr>\n",
       "      <th>890</th>\n",
       "      <td>0</td>\n",
       "      <td>3</td>\n",
       "      <td>male</td>\n",
       "      <td>32.0</td>\n",
       "      <td>0</td>\n",
       "      <td>0</td>\n",
       "      <td>7.75</td>\n",
       "      <td>Q</td>\n",
       "      <td>Third</td>\n",
       "      <td>man</td>\n",
       "      <td>True</td>\n",
       "      <td>NaN</td>\n",
       "      <td>Queenstown</td>\n",
       "      <td>no</td>\n",
       "      <td>True</td>\n",
       "    </tr>\n",
       "  </tbody>\n",
       "</table>\n",
       "</div>"
      ],
      "text/plain": [
       "     survived  pclass     sex   age  sibsp  parch   fare embarked   class  \\\n",
       "886         0       2    male  27.0      0      0  13.00        S  Second   \n",
       "887         1       1  female  19.0      0      0  30.00        S   First   \n",
       "888         0       3  female   NaN      1      2  23.45        S   Third   \n",
       "889         1       1    male  26.0      0      0  30.00        C   First   \n",
       "890         0       3    male  32.0      0      0   7.75        Q   Third   \n",
       "\n",
       "       who  adult_male deck  embark_town alive  alone  \n",
       "886    man        True  NaN  Southampton    no   True  \n",
       "887  woman       False    B  Southampton   yes   True  \n",
       "888  woman       False  NaN  Southampton    no  False  \n",
       "889    man        True    C    Cherbourg   yes   True  \n",
       "890    man        True  NaN   Queenstown    no   True  "
      ]
     },
     "execution_count": 119,
     "metadata": {},
     "output_type": "execute_result"
    }
   ],
   "source": [
    "df.iloc[-5:]"
   ]
  },
  {
   "cell_type": "code",
   "execution_count": null,
   "metadata": {},
   "outputs": [],
   "source": []
  },
  {
   "cell_type": "code",
   "execution_count": 120,
   "metadata": {},
   "outputs": [],
   "source": [
    "i = 10\n",
    "j = 20"
   ]
  },
  {
   "cell_type": "code",
   "execution_count": 121,
   "metadata": {},
   "outputs": [],
   "source": [
    "i, j = 10, 20"
   ]
  },
  {
   "cell_type": "code",
   "execution_count": 122,
   "metadata": {},
   "outputs": [],
   "source": [
    "i, j = j, i"
   ]
  },
  {
   "cell_type": "code",
   "execution_count": 123,
   "metadata": {},
   "outputs": [
    {
     "data": {
      "text/plain": [
       "20"
      ]
     },
     "execution_count": 123,
     "metadata": {},
     "output_type": "execute_result"
    }
   ],
   "source": [
    "i"
   ]
  },
  {
   "cell_type": "code",
   "execution_count": 124,
   "metadata": {},
   "outputs": [
    {
     "data": {
      "text/plain": [
       "10"
      ]
     },
     "execution_count": 124,
     "metadata": {},
     "output_type": "execute_result"
    }
   ],
   "source": [
    "j"
   ]
  },
  {
   "cell_type": "code",
   "execution_count": null,
   "metadata": {},
   "outputs": [],
   "source": []
  },
  {
   "cell_type": "code",
   "execution_count": 2,
   "metadata": {},
   "outputs": [],
   "source": [
    "음식_메뉴_리스트 = ['김치찌개', '볶음밥', '라면']"
   ]
  },
  {
   "cell_type": "code",
   "execution_count": 4,
   "metadata": {},
   "outputs": [],
   "source": [
    "# 메뉴1 = 음식_메뉴_리스트[0]\n",
    "# 메뉴2 = 음식_메뉴_리스트[1]\n",
    "# 메뉴3 = 음식_메뉴_리스트[2]\n",
    "\n",
    "메뉴1, 메뉴2, 메뉴3 = 음식_메뉴_리스트"
   ]
  },
  {
   "cell_type": "code",
   "execution_count": 8,
   "metadata": {},
   "outputs": [],
   "source": [
    "x, y, z = (1, 2, 3)  # unpack"
   ]
  },
  {
   "cell_type": "code",
   "execution_count": 20,
   "metadata": {},
   "outputs": [],
   "source": [
    "# range(0, 100, 1)\n",
    "\n",
    "number_list = list(range(20))  # Generator => List"
   ]
  },
  {
   "cell_type": "code",
   "execution_count": 21,
   "metadata": {},
   "outputs": [],
   "source": [
    "x, y, z = number_list[:3]"
   ]
  },
  {
   "cell_type": "code",
   "execution_count": 22,
   "metadata": {},
   "outputs": [],
   "source": [
    "x, y, z = number_list[-3:]"
   ]
  },
  {
   "cell_type": "code",
   "execution_count": 23,
   "metadata": {},
   "outputs": [],
   "source": [
    "a, b, c, *nums, x, y, z = number_list"
   ]
  },
  {
   "cell_type": "code",
   "execution_count": 24,
   "metadata": {},
   "outputs": [
    {
     "data": {
      "text/plain": [
       "(0, 1, 2)"
      ]
     },
     "execution_count": 24,
     "metadata": {},
     "output_type": "execute_result"
    }
   ],
   "source": [
    "a, b, c"
   ]
  },
  {
   "cell_type": "code",
   "execution_count": 25,
   "metadata": {},
   "outputs": [
    {
     "data": {
      "text/plain": [
       "(17, 18, 19)"
      ]
     },
     "execution_count": 25,
     "metadata": {},
     "output_type": "execute_result"
    }
   ],
   "source": [
    "x, y, z"
   ]
  },
  {
   "cell_type": "code",
   "execution_count": 26,
   "metadata": {},
   "outputs": [
    {
     "data": {
      "text/plain": [
       "[3, 4, 5, 6, 7, 8, 9, 10, 11, 12, 13, 14, 15, 16]"
      ]
     },
     "execution_count": 26,
     "metadata": {},
     "output_type": "execute_result"
    }
   ],
   "source": [
    "nums"
   ]
  },
  {
   "cell_type": "markdown",
   "metadata": {},
   "source": [
    "## tuple"
   ]
  },
  {
   "cell_type": "code",
   "execution_count": 27,
   "metadata": {},
   "outputs": [
    {
     "data": {
      "text/plain": [
       "(1, 2, 3, 4, 5)"
      ]
     },
     "execution_count": 27,
     "metadata": {},
     "output_type": "execute_result"
    }
   ],
   "source": [
    "numbers = 1, 2, 3, 4, 5\n",
    "numbers"
   ]
  },
  {
   "cell_type": "code",
   "execution_count": 28,
   "metadata": {},
   "outputs": [
    {
     "data": {
      "text/plain": [
       "(1, 2, 3, 4, 5)"
      ]
     },
     "execution_count": 28,
     "metadata": {},
     "output_type": "execute_result"
    }
   ],
   "source": [
    "numbers = (1, 2, 3, 4, 5)\n",
    "numbers"
   ]
  },
  {
   "cell_type": "code",
   "execution_count": null,
   "metadata": {},
   "outputs": [],
   "source": []
  },
  {
   "cell_type": "code",
   "execution_count": null,
   "metadata": {},
   "outputs": [],
   "source": [
    "True and True  # &&\n",
    "True or False  # ||"
   ]
  },
  {
   "cell_type": "code",
   "execution_count": null,
   "metadata": {},
   "outputs": [],
   "source": []
  },
  {
   "cell_type": "markdown",
   "metadata": {},
   "source": [
    "## dict"
   ]
  },
  {
   "cell_type": "code",
   "execution_count": 29,
   "metadata": {},
   "outputs": [
    {
     "data": {
      "text/plain": [
       "{'국어': 100, '영어': 90, '수학': 80}"
      ]
     },
     "execution_count": 29,
     "metadata": {},
     "output_type": "execute_result"
    }
   ],
   "source": [
    "철수_성적 = {\n",
    "    '국어': 100,\n",
    "    '영어': 90,\n",
    "    '수학': 80,\n",
    "}\n",
    "철수_성적"
   ]
  },
  {
   "cell_type": "code",
   "execution_count": 37,
   "metadata": {},
   "outputs": [
    {
     "ename": "KeyError",
     "evalue": "'사회'",
     "output_type": "error",
     "traceback": [
      "\u001b[0;31m---------------------------------------------------------------------------\u001b[0m",
      "\u001b[0;31mKeyError\u001b[0m                                  Traceback (most recent call last)",
      "\u001b[0;32m<ipython-input-37-cd9f50e023af>\u001b[0m in \u001b[0;36m<module>\u001b[0;34m()\u001b[0m\n\u001b[0;32m----> 1\u001b[0;31m \u001b[0m철수_성적\u001b[0m\u001b[0;34m[\u001b[0m\u001b[0;34m'사회'\u001b[0m\u001b[0;34m]\u001b[0m\u001b[0;34m\u001b[0m\u001b[0m\n\u001b[0m",
      "\u001b[0;31mKeyError\u001b[0m: '사회'"
     ]
    }
   ],
   "source": [
    "철수_성적['사회']"
   ]
  },
  {
   "cell_type": "code",
   "execution_count": 38,
   "metadata": {},
   "outputs": [
    {
     "data": {
      "text/plain": [
       "{'국어': 100, '영어': 90, '수학': 80, '사회': 70}"
      ]
     },
     "execution_count": 38,
     "metadata": {},
     "output_type": "execute_result"
    }
   ],
   "source": [
    "철수_성적['사회'] = 70\n",
    "철수_성적"
   ]
  },
  {
   "cell_type": "code",
   "execution_count": 39,
   "metadata": {},
   "outputs": [
    {
     "data": {
      "text/plain": [
       "{'국어': 100, '영어': 90, '수학': 80, '사회': 80, '과학': 90, '음악': 100}"
      ]
     },
     "execution_count": 39,
     "metadata": {},
     "output_type": "execute_result"
    }
   ],
   "source": [
    "철수_성적.update({\n",
    "    '사회': 80,\n",
    "    '과학': 90,\n",
    "    '음악': 100,\n",
    "})\n",
    "철수_성적"
   ]
  },
  {
   "cell_type": "code",
   "execution_count": 41,
   "metadata": {},
   "outputs": [
    {
     "data": {
      "text/plain": [
       "{'국어': 100, '영어': 90, '수학': 90, '사회': 80, '과학': 90, '음악': 100}"
      ]
     },
     "execution_count": 41,
     "metadata": {},
     "output_type": "execute_result"
    }
   ],
   "source": [
    "철수_성적['수학'] += 10\n",
    "철수_성적"
   ]
  },
  {
   "cell_type": "code",
   "execution_count": 43,
   "metadata": {},
   "outputs": [
    {
     "ename": "KeyError",
     "evalue": "'지리'",
     "output_type": "error",
     "traceback": [
      "\u001b[0;31m---------------------------------------------------------------------------\u001b[0m",
      "\u001b[0;31mKeyError\u001b[0m                                  Traceback (most recent call last)",
      "\u001b[0;32m<ipython-input-43-a5c4d43b36b5>\u001b[0m in \u001b[0;36m<module>\u001b[0;34m()\u001b[0m\n\u001b[1;32m      1\u001b[0m \u001b[0;31m# 철수_성적['지리'] = 철수_성적['지리'] + 10\u001b[0m\u001b[0;34m\u001b[0m\u001b[0;34m\u001b[0m\u001b[0m\n\u001b[0;32m----> 2\u001b[0;31m \u001b[0m철수_성적\u001b[0m\u001b[0;34m[\u001b[0m\u001b[0;34m'지리'\u001b[0m\u001b[0;34m]\u001b[0m \u001b[0;34m+=\u001b[0m \u001b[0;36m10\u001b[0m\u001b[0;34m\u001b[0m\u001b[0m\n\u001b[0m",
      "\u001b[0;31mKeyError\u001b[0m: '지리'"
     ]
    }
   ],
   "source": [
    "# 철수_성적['지리'] = 철수_성적['지리'] + 10\n",
    "철수_성적['지리'] += 10"
   ]
  },
  {
   "cell_type": "code",
   "execution_count": null,
   "metadata": {},
   "outputs": [],
   "source": []
  },
  {
   "cell_type": "code",
   "execution_count": 30,
   "metadata": {},
   "outputs": [
    {
     "data": {
      "text/plain": [
       "[{'이름': '철수', '국어': 100, '영어': 90, '수학': 80},\n",
       " {'이름': '영희', '국어': 100, '영어': 90, '수학': 80},\n",
       " {'이름': '사람1', '국어': 100, '영어': 90, '수학': 80},\n",
       " {'이름': '사람2', '국어': 100, '영어': 90, '수학': 80},\n",
       " {'이름': '사람3', '국어': 100, '영어': 90, '수학': 80}]"
      ]
     },
     "execution_count": 30,
     "metadata": {},
     "output_type": "execute_result"
    }
   ],
   "source": [
    "학생_성적_리스트 = [\n",
    "    {'이름': '철수', '국어': 100, '영어': 90, '수학': 80},\n",
    "    {'이름': '영희', '국어': 100, '영어': 90, '수학': 80},\n",
    "    {'이름': '사람1', '국어': 100, '영어': 90, '수학': 80},\n",
    "    {'이름': '사람2', '국어': 100, '영어': 90, '수학': 80},\n",
    "    {'이름': '사람3', '국어': 100, '영어': 90, '수학': 80},\n",
    "]\n",
    "학생_성적_리스트"
   ]
  },
  {
   "cell_type": "code",
   "execution_count": 33,
   "metadata": {},
   "outputs": [
    {
     "data": {
      "text/html": [
       "<div>\n",
       "<style scoped>\n",
       "    .dataframe tbody tr th:only-of-type {\n",
       "        vertical-align: middle;\n",
       "    }\n",
       "\n",
       "    .dataframe tbody tr th {\n",
       "        vertical-align: top;\n",
       "    }\n",
       "\n",
       "    .dataframe thead th {\n",
       "        text-align: right;\n",
       "    }\n",
       "</style>\n",
       "<table border=\"1\" class=\"dataframe\">\n",
       "  <thead>\n",
       "    <tr style=\"text-align: right;\">\n",
       "      <th></th>\n",
       "      <th>국어</th>\n",
       "      <th>수학</th>\n",
       "      <th>영어</th>\n",
       "    </tr>\n",
       "    <tr>\n",
       "      <th>이름</th>\n",
       "      <th></th>\n",
       "      <th></th>\n",
       "      <th></th>\n",
       "    </tr>\n",
       "  </thead>\n",
       "  <tbody>\n",
       "    <tr>\n",
       "      <th>철수</th>\n",
       "      <td>100</td>\n",
       "      <td>80</td>\n",
       "      <td>90</td>\n",
       "    </tr>\n",
       "    <tr>\n",
       "      <th>영희</th>\n",
       "      <td>100</td>\n",
       "      <td>80</td>\n",
       "      <td>90</td>\n",
       "    </tr>\n",
       "    <tr>\n",
       "      <th>사람1</th>\n",
       "      <td>100</td>\n",
       "      <td>80</td>\n",
       "      <td>90</td>\n",
       "    </tr>\n",
       "    <tr>\n",
       "      <th>사람2</th>\n",
       "      <td>100</td>\n",
       "      <td>80</td>\n",
       "      <td>90</td>\n",
       "    </tr>\n",
       "    <tr>\n",
       "      <th>사람3</th>\n",
       "      <td>100</td>\n",
       "      <td>80</td>\n",
       "      <td>90</td>\n",
       "    </tr>\n",
       "  </tbody>\n",
       "</table>\n",
       "</div>"
      ],
      "text/plain": [
       "      국어  수학  영어\n",
       "이름              \n",
       "철수   100  80  90\n",
       "영희   100  80  90\n",
       "사람1  100  80  90\n",
       "사람2  100  80  90\n",
       "사람3  100  80  90"
      ]
     },
     "execution_count": 33,
     "metadata": {},
     "output_type": "execute_result"
    }
   ],
   "source": [
    "import pandas as pd\n",
    "\n",
    "df = pd.DataFrame(학생_성적_리스트).set_index('이름')\n",
    "df"
   ]
  },
  {
   "cell_type": "code",
   "execution_count": 36,
   "metadata": {},
   "outputs": [
    {
     "data": {
      "text/html": [
       "<div>\n",
       "<style scoped>\n",
       "    .dataframe tbody tr th:only-of-type {\n",
       "        vertical-align: middle;\n",
       "    }\n",
       "\n",
       "    .dataframe tbody tr th {\n",
       "        vertical-align: top;\n",
       "    }\n",
       "\n",
       "    .dataframe thead th {\n",
       "        text-align: right;\n",
       "    }\n",
       "</style>\n",
       "<table border=\"1\" class=\"dataframe\">\n",
       "  <thead>\n",
       "    <tr style=\"text-align: right;\">\n",
       "      <th></th>\n",
       "      <th>국어</th>\n",
       "      <th>수학</th>\n",
       "      <th>영어</th>\n",
       "      <th>총점</th>\n",
       "      <th>평균</th>\n",
       "    </tr>\n",
       "    <tr>\n",
       "      <th>이름</th>\n",
       "      <th></th>\n",
       "      <th></th>\n",
       "      <th></th>\n",
       "      <th></th>\n",
       "      <th></th>\n",
       "    </tr>\n",
       "  </thead>\n",
       "  <tbody>\n",
       "    <tr>\n",
       "      <th>철수</th>\n",
       "      <td>100</td>\n",
       "      <td>80</td>\n",
       "      <td>90</td>\n",
       "      <td>270</td>\n",
       "      <td>90</td>\n",
       "    </tr>\n",
       "    <tr>\n",
       "      <th>영희</th>\n",
       "      <td>100</td>\n",
       "      <td>80</td>\n",
       "      <td>90</td>\n",
       "      <td>270</td>\n",
       "      <td>90</td>\n",
       "    </tr>\n",
       "    <tr>\n",
       "      <th>사람1</th>\n",
       "      <td>100</td>\n",
       "      <td>80</td>\n",
       "      <td>90</td>\n",
       "      <td>270</td>\n",
       "      <td>90</td>\n",
       "    </tr>\n",
       "    <tr>\n",
       "      <th>사람2</th>\n",
       "      <td>100</td>\n",
       "      <td>80</td>\n",
       "      <td>90</td>\n",
       "      <td>270</td>\n",
       "      <td>90</td>\n",
       "    </tr>\n",
       "    <tr>\n",
       "      <th>사람3</th>\n",
       "      <td>100</td>\n",
       "      <td>80</td>\n",
       "      <td>90</td>\n",
       "      <td>270</td>\n",
       "      <td>90</td>\n",
       "    </tr>\n",
       "  </tbody>\n",
       "</table>\n",
       "</div>"
      ],
      "text/plain": [
       "      국어  수학  영어   총점  평균\n",
       "이름                       \n",
       "철수   100  80  90  270  90\n",
       "영희   100  80  90  270  90\n",
       "사람1  100  80  90  270  90\n",
       "사람2  100  80  90  270  90\n",
       "사람3  100  80  90  270  90"
      ]
     },
     "execution_count": 36,
     "metadata": {},
     "output_type": "execute_result"
    }
   ],
   "source": [
    "df['총점'] = df['국어'] + df['영어'] + df['수학']\n",
    "df['평균'] = df['총점'] // 3\n",
    "df"
   ]
  },
  {
   "cell_type": "code",
   "execution_count": null,
   "metadata": {},
   "outputs": [],
   "source": []
  },
  {
   "cell_type": "markdown",
   "metadata": {},
   "source": [
    "## 멜론 데이터 샘플"
   ]
  },
  {
   "cell_type": "code",
   "execution_count": 44,
   "metadata": {},
   "outputs": [],
   "source": [
    "csv_url = \"https://goo.gl/iDUKrL\""
   ]
  },
  {
   "cell_type": "code",
   "execution_count": 46,
   "metadata": {},
   "outputs": [],
   "source": [
    "import requests\n",
    "\n",
    "res = requests.get(csv_url)\n",
    "csv_string = res.text\n",
    "\n",
    "with open(\"멜론TOP100.csv\", \"wt\", encoding=\"utf8\") as f:\n",
    "    f.write(csv_string)"
   ]
  },
  {
   "cell_type": "code",
   "execution_count": 50,
   "metadata": {},
   "outputs": [
    {
     "data": {
      "text/plain": [
       "[OrderedDict([('곡일련번호', '31346009'),\n",
       "              ('순위', '1'),\n",
       "              ('앨범', '삐삐'),\n",
       "              ('곡명', '삐삐'),\n",
       "              ('가수', '아이유'),\n",
       "              ('커버이미지_주소',\n",
       "               'https://cdnimg.melon.co.kr/cm/album/images/102/10/535/10210535_500.jpg/melon/resize/120/quality/80/optimize'),\n",
       "              ('좋아요', '61528')]),\n",
       " OrderedDict([('곡일련번호', '31344113'),\n",
       "              ('순위', '2'),\n",
       "              ('앨범', '시간이 들겠지'),\n",
       "              ('곡명', '시간이 들겠지 (Feat. Colde)'),\n",
       "              ('가수', '로꼬'),\n",
       "              ('커버이미지_주소',\n",
       "               'https://cdnimg.melon.co.kr/cm/album/images/102/10/198/10210198_500.jpg/melon/resize/120/quality/80/optimize'),\n",
       "              ('좋아요', '48331')]),\n",
       " OrderedDict([('곡일련번호', '31340985'),\n",
       "              ('순위', '3'),\n",
       "              ('앨범', '쇼미더머니 777 Episode 1'),\n",
       "              ('곡명', 'Good Day (Feat. 팔로알토) (Prod. 코드 쿤스트)'),\n",
       "              ('가수', 'pH-1'),\n",
       "              ('커버이미지_주소',\n",
       "               'https://cdnimg.melon.co.kr/cm/album/images/102/09/647/10209647_500.jpg/melon/resize/120/quality/80/optimize'),\n",
       "              ('좋아요', '54022')]),\n",
       " OrderedDict([('곡일련번호', '31316695'),\n",
       "              ('순위', '4'),\n",
       "              ('앨범', '하루도 그대를 사랑하지 않은 적이 없었다'),\n",
       "              ('곡명', '하루도 그대를 사랑하지 않은 적이 없었다'),\n",
       "              ('가수', '임창정'),\n",
       "              ('커버이미지_주소',\n",
       "               'https://cdnimg.melon.co.kr/cm/album/images/102/05/805/10205805_500.jpg/melon/resize/120/quality/80/optimize'),\n",
       "              ('좋아요', '97984')]),\n",
       " OrderedDict([('곡일련번호', '31266290'),\n",
       "              ('순위', '5'),\n",
       "              ('앨범', 'LOVE YOURSELF 結 `Answer`'),\n",
       "              ('곡명', 'IDOL'),\n",
       "              ('가수', '방탄소년단'),\n",
       "              ('커버이미지_주소',\n",
       "               'https://cdnimg.melon.co.kr/cm/album/images/101/97/480/10197480_500.jpg/melon/resize/120/quality/80/optimize'),\n",
       "              ('좋아요', '173279')]),\n",
       " OrderedDict([('곡일련번호', '31331745'),\n",
       "              ('순위', '6'),\n",
       "              ('앨범', 'NEW KIDS : THE FINAL'),\n",
       "              ('곡명', '이별길 (GOODBYE ROAD)'),\n",
       "              ('가수', 'iKON'),\n",
       "              ('커버이미지_주소',\n",
       "               'https://cdnimg.melon.co.kr/cm/album/images/102/08/358/10208358_500.jpg/melon/resize/120/quality/80/optimize'),\n",
       "              ('좋아요', '55396')]),\n",
       " OrderedDict([('곡일련번호', '31340982'),\n",
       "              ('순위', '7'),\n",
       "              ('앨범', '쇼미더머니 777 Episode 1'),\n",
       "              ('곡명', '사임사임 (Feat. CHANGMO)'),\n",
       "              ('가수', 'Coogie'),\n",
       "              ('커버이미지_주소',\n",
       "               'https://cdnimg.melon.co.kr/cm/album/images/102/09/647/10209647_500.jpg/melon/resize/120/quality/80/optimize'),\n",
       "              ('좋아요', '27564')]),\n",
       " OrderedDict([('곡일련번호', '31266289'),\n",
       "              ('순위', '8'),\n",
       "              ('앨범', 'LOVE YOURSELF 結 `Answer`'),\n",
       "              ('곡명', 'I`m Fine'),\n",
       "              ('가수', '방탄소년단'),\n",
       "              ('커버이미지_주소',\n",
       "               'https://cdnimg.melon.co.kr/cm/album/images/101/97/480/10197480_500.jpg/melon/resize/120/quality/80/optimize'),\n",
       "              ('좋아요', '132847')]),\n",
       " OrderedDict([('곡일련번호', '31314142'),\n",
       "              ('순위', '9'),\n",
       "              ('앨범', '우리 그만하자'),\n",
       "              ('곡명', '우리 그만하자'),\n",
       "              ('가수', '로이킴'),\n",
       "              ('커버이미지_주소',\n",
       "               'https://cdnimg.melon.co.kr/cm/album/images/102/05/438/10205438_500.jpg/melon/resize/120/quality/80/optimize'),\n",
       "              ('좋아요', '95771')]),\n",
       " OrderedDict([('곡일련번호', '31085237'),\n",
       "              ('순위', '10'),\n",
       "              ('앨범', 'LOVE YOURSELF 轉 `Tear`'),\n",
       "              ('곡명', 'FAKE LOVE'),\n",
       "              ('가수', '방탄소년단'),\n",
       "              ('커버이미지_주소',\n",
       "               'https://cdnimg.melon.co.kr/cm/album/images/101/68/559/10168559_500.jpg/melon/resize/120/quality/80/optimize'),\n",
       "              ('좋아요', '253847')]),\n",
       " OrderedDict([('곡일련번호', '31314144'),\n",
       "              ('순위', '11'),\n",
       "              ('앨범', '가을 타나 봐'),\n",
       "              ('곡명', '가을 타나 봐'),\n",
       "              ('가수', '바이브'),\n",
       "              ('커버이미지_주소',\n",
       "               'https://cdnimg.melon.co.kr/cm/album/images/102/05/439/10205439_500.jpg/melon/resize/120/quality/80/optimize'),\n",
       "              ('좋아요', '28056')]),\n",
       " OrderedDict([('곡일련번호', '31266282'),\n",
       "              ('순위', '12'),\n",
       "              ('앨범', 'LOVE YOURSELF 結 `Answer`'),\n",
       "              ('곡명', 'Euphoria'),\n",
       "              ('가수', '방탄소년단'),\n",
       "              ('커버이미지_주소',\n",
       "               'https://cdnimg.melon.co.kr/cm/album/images/101/97/480/10197480_500.jpg/melon/resize/120/quality/80/optimize'),\n",
       "              ('좋아요', '129017')]),\n",
       " OrderedDict([('곡일련번호', '31302310'),\n",
       "              ('순위', '13'),\n",
       "              ('앨범', '헤어지는 중'),\n",
       "              ('곡명', '헤어지는 중'),\n",
       "              ('가수', '펀치 (Punch)'),\n",
       "              ('커버이미지_주소',\n",
       "               'https://cdnimg.melon.co.kr/cm/album/images/102/03/500/10203500_500.jpg/melon/resize/120/quality/80/optimize'),\n",
       "              ('좋아요', '77050')]),\n",
       " OrderedDict([('곡일련번호', '31266291'),\n",
       "              ('순위', '14'),\n",
       "              ('앨범', 'LOVE YOURSELF 結 `Answer`'),\n",
       "              ('곡명', 'Answer : Love Myself'),\n",
       "              ('가수', '방탄소년단'),\n",
       "              ('커버이미지_주소',\n",
       "               'https://cdnimg.melon.co.kr/cm/album/images/101/97/480/10197480_500.jpg/melon/resize/120/quality/80/optimize'),\n",
       "              ('좋아요', '108151')]),\n",
       " OrderedDict([('곡일련번호', '31085238'),\n",
       "              ('순위', '15'),\n",
       "              ('앨범', 'LOVE YOURSELF 轉 `Tear`'),\n",
       "              ('곡명', '전하지 못한 진심 (Feat. Steve Aoki)'),\n",
       "              ('가수', '방탄소년단'),\n",
       "              ('커버이미지_주소',\n",
       "               'https://cdnimg.melon.co.kr/cm/album/images/101/68/559/10168559_500.jpg/melon/resize/120/quality/80/optimize'),\n",
       "              ('좋아요', '176653')]),\n",
       " OrderedDict([('곡일련번호', '31266288'),\n",
       "              ('순위', '16'),\n",
       "              ('앨범', 'LOVE YOURSELF 結 `Answer`'),\n",
       "              ('곡명', 'Epiphany'),\n",
       "              ('가수', '방탄소년단'),\n",
       "              ('커버이미지_주소',\n",
       "               'https://cdnimg.melon.co.kr/cm/album/images/101/97/480/10197480_500.jpg/melon/resize/120/quality/80/optimize'),\n",
       "              ('좋아요', '101011')]),\n",
       " OrderedDict([('곡일련번호', '31266286'),\n",
       "              ('순위', '17'),\n",
       "              ('앨범', 'LOVE YOURSELF 結 `Answer`'),\n",
       "              ('곡명', 'Trivia 轉 : Seesaw'),\n",
       "              ('가수', '방탄소년단'),\n",
       "              ('커버이미지_주소',\n",
       "               'https://cdnimg.melon.co.kr/cm/album/images/101/97/480/10197480_500.jpg/melon/resize/120/quality/80/optimize'),\n",
       "              ('좋아요', '98436')]),\n",
       " OrderedDict([('곡일련번호', '30962526'),\n",
       "              ('순위', '18'),\n",
       "              ('앨범', '`키스 먼저 할까요?` OST Part.3'),\n",
       "              ('곡명', '모든 날, 모든 순간 (Every day, Every Moment)'),\n",
       "              ('가수', '폴킴'),\n",
       "              ('커버이미지_주소',\n",
       "               'https://cdnimg.melon.co.kr/cm/album/images/101/49/492/10149492_500.jpg/melon/resize/120/quality/80/optimize'),\n",
       "              ('좋아요', '185706')]),\n",
       " OrderedDict([('곡일련번호', '31280273'),\n",
       "              ('순위', '19'),\n",
       "              ('앨범', 'YOUNG'),\n",
       "              ('곡명', 'YOUNG'),\n",
       "              ('가수', '백현 (BAEKHYUN)'),\n",
       "              ('커버이미지_주소',\n",
       "               'https://cdnimg.melon.co.kr/cm/album/images/101/99/959/10199959_500.jpg/melon/resize/120/quality/80/optimize'),\n",
       "              ('좋아요', '91106')]),\n",
       " OrderedDict([('곡일련번호', '31266292'),\n",
       "              ('순위', '20'),\n",
       "              ('앨범', 'LOVE YOURSELF 結 `Answer`'),\n",
       "              ('곡명', 'Trivia 起 : Just Dance'),\n",
       "              ('가수', '방탄소년단'),\n",
       "              ('커버이미지_주소',\n",
       "               'https://cdnimg.melon.co.kr/cm/album/images/101/97/480/10197480_500.jpg/melon/resize/120/quality/80/optimize'),\n",
       "              ('좋아요', '88970')]),\n",
       " OrderedDict([('곡일련번호', '31286161'),\n",
       "              ('순위', '21'),\n",
       "              ('앨범', 'WARNING'),\n",
       "              ('곡명', '사이렌 (Siren)'),\n",
       "              ('가수', '선미'),\n",
       "              ('커버이미지_주소',\n",
       "               'https://cdnimg.melon.co.kr/cm/album/images/102/00/838/10200838_500.jpg/melon/resize/120/quality/80/optimize'),\n",
       "              ('좋아요', '91516')]),\n",
       " OrderedDict([('곡일련번호', '31266300'),\n",
       "              ('순위', '22'),\n",
       "              ('앨범', 'LOVE YOURSELF 結 `Answer`'),\n",
       "              ('곡명', 'Trivia 承 : Love'),\n",
       "              ('가수', '방탄소년단'),\n",
       "              ('커버이미지_주소',\n",
       "               'https://cdnimg.melon.co.kr/cm/album/images/101/97/480/10197480_500.jpg/melon/resize/120/quality/80/optimize'),\n",
       "              ('좋아요', '83610')]),\n",
       " OrderedDict([('곡일련번호', '31062863'),\n",
       "              ('순위', '23'),\n",
       "              ('앨범', 'RECIPE'),\n",
       "              ('곡명', '열애중'),\n",
       "              ('가수', '벤'),\n",
       "              ('커버이미지_주소',\n",
       "               'https://cdnimg.melon.co.kr/cm/album/images/101/64/839/10164839_500.jpg/melon/resize/120/quality/80/optimize'),\n",
       "              ('좋아요', '115805')]),\n",
       " OrderedDict([('곡일련번호', '31151836'),\n",
       "              ('순위', '24'),\n",
       "              ('앨범', 'Take'),\n",
       "              ('곡명', 'Way Back Home'),\n",
       "              ('가수', '숀 (SHAUN)'),\n",
       "              ('커버이미지_주소',\n",
       "               'https://cdnimg.melon.co.kr/cm/album/images/101/79/508/10179508_500.jpg/melon/resize/120/quality/80/optimize'),\n",
       "              ('좋아요', '225308')]),\n",
       " OrderedDict([('곡일련번호', '31085244'),\n",
       "              ('순위', '25'),\n",
       "              ('앨범', 'LOVE YOURSELF 轉 `Tear`'),\n",
       "              ('곡명', 'Anpanman'),\n",
       "              ('가수', '방탄소년단'),\n",
       "              ('커버이미지_주소',\n",
       "               'https://cdnimg.melon.co.kr/cm/album/images/101/68/559/10168559_500.jpg/melon/resize/120/quality/80/optimize'),\n",
       "              ('좋아요', '138694')]),\n",
       " OrderedDict([('곡일련번호', '30244931'),\n",
       "              ('순위', '26'),\n",
       "              ('앨범', 'YOU NEVER WALK ALONE'),\n",
       "              ('곡명', '봄날'),\n",
       "              ('가수', '방탄소년단'),\n",
       "              ('커버이미지_주소',\n",
       "               'https://cdnimg.melon.co.kr/cm/album/images/100/37/969/10037969_500.jpg/melon/resize/120/quality/80/optimize'),\n",
       "              ('좋아요', '359130')]),\n",
       " OrderedDict([('곡일련번호', '30637982'),\n",
       "              ('순위', '27'),\n",
       "              ('앨범', 'LOVE YOURSELF 承 `Her`'),\n",
       "              ('곡명', 'DNA'),\n",
       "              ('가수', '방탄소년단'),\n",
       "              ('커버이미지_주소',\n",
       "               'https://cdnimg.melon.co.kr/cm/album/images/100/97/112/10097112_500.jpg/melon/resize/120/quality/80/optimize'),\n",
       "              ('좋아요', '323911')]),\n",
       " OrderedDict([('곡일련번호', '31085243'),\n",
       "              ('순위', '28'),\n",
       "              ('앨범', 'LOVE YOURSELF 轉 `Tear`'),\n",
       "              ('곡명', 'Airplane pt.2'),\n",
       "              ('가수', '방탄소년단'),\n",
       "              ('커버이미지_주소',\n",
       "               'https://cdnimg.melon.co.kr/cm/album/images/101/68/559/10168559_500.jpg/melon/resize/120/quality/80/optimize'),\n",
       "              ('좋아요', '127355')]),\n",
       " OrderedDict([('곡일련번호', '30806536'),\n",
       "              ('순위', '29'),\n",
       "              ('앨범', 'Universe - 겨울 스페셜 앨범, 2017'),\n",
       "              ('곡명', 'Universe'),\n",
       "              ('가수', 'EXO'),\n",
       "              ('커버이미지_주소',\n",
       "               'https://cdnimg.melon.co.kr/cm/album/images/101/22/917/10122917_500.jpg/melon/resize/120/quality/80/optimize'),\n",
       "              ('좋아요', '155809')]),\n",
       " OrderedDict([('곡일련번호', '31309079'),\n",
       "              ('순위', '30'),\n",
       "              ('앨범', 'We Young'),\n",
       "              ('곡명', 'We Young'),\n",
       "              ('가수', '찬열'),\n",
       "              ('커버이미지_주소',\n",
       "               'https://cdnimg.melon.co.kr/cm/album/images/102/04/604/10204604_500.jpg/melon/resize/120/quality/80/optimize'),\n",
       "              ('좋아요', '53852')]),\n",
       " OrderedDict([('곡일련번호', '31219546'),\n",
       "              ('순위', '31'),\n",
       "              ('앨범', 'Dingo X Indigo Music'),\n",
       "              ('곡명', 'flex (Prod. By 기리보이)'),\n",
       "              ('가수', '기리보이'),\n",
       "              ('커버이미지_주소',\n",
       "               'https://cdnimg.melon.co.kr/cm/album/images/101/89/965/10189965_500.jpg/melon/resize/120/quality/80/optimize'),\n",
       "              ('좋아요', '72135')]),\n",
       " OrderedDict([('곡일련번호', '31009483'),\n",
       "              ('순위', '32'),\n",
       "              ('앨범', 'Blooming Days - The 2nd Mini Album'),\n",
       "              ('곡명', '花요일 (Blooming Day)'),\n",
       "              ('가수', 'EXO-CBX (첸백시)'),\n",
       "              ('커버이미지_주소',\n",
       "               'https://cdnimg.melon.co.kr/cm/album/images/101/56/597/10156597_500.jpg/melon/resize/120/quality/80/optimize'),\n",
       "              ('좋아요', '110311')]),\n",
       " OrderedDict([('곡일련번호', '31144690'),\n",
       "              ('순위', '33'),\n",
       "              ('앨범', 'IM'),\n",
       "              ('곡명', 'IndiGO'),\n",
       "              ('가수', '저스디스 (JUSTHIS)'),\n",
       "              ('커버이미지_주소',\n",
       "               'https://cdnimg.melon.co.kr/cm/album/images/101/78/566/10178566_500.jpg/melon/resize/120/quality/80/optimize'),\n",
       "              ('좋아요', '46739')]),\n",
       " OrderedDict([('곡일련번호', '31278454'),\n",
       "              ('순위', '34'),\n",
       "              ('앨범', 'Sheep (Alan Walker Relift)'),\n",
       "              ('곡명', 'Sheep (Alan Walker Relift)'),\n",
       "              ('가수', '레이 (LAY)'),\n",
       "              ('커버이미지_주소',\n",
       "               'https://cdnimg.melon.co.kr/cm/album/images/101/99/693/10199693_500.jpg/melon/resize/120/quality/80/optimize'),\n",
       "              ('좋아요', '30411')]),\n",
       " OrderedDict([('곡일련번호', '31131273'),\n",
       "              ('순위', '35'),\n",
       "              ('앨범', 'SQUARE UP'),\n",
       "              ('곡명', '뚜두뚜두 (DDU-DU DDU-DU)'),\n",
       "              ('가수', 'BLACKPINK'),\n",
       "              ('커버이미지_주소',\n",
       "               'https://cdnimg.melon.co.kr/cm/album/images/101/76/415/10176415_500.jpg/melon/resize/120/quality/80/optimize'),\n",
       "              ('좋아요', '192831')]),\n",
       " OrderedDict([('곡일련번호', '30699142'),\n",
       "              ('순위', '36'),\n",
       "              ('앨범', 'About You'),\n",
       "              ('곡명', '지나오다'),\n",
       "              ('가수', '닐로 (Nilo)'),\n",
       "              ('커버이미지_주소',\n",
       "               'https://cdnimg.melon.co.kr/cm/album/images/101/06/853/10106853_500.jpg/melon/resize/120/quality/80/optimize'),\n",
       "              ('좋아요', '178367')]),\n",
       " OrderedDict([('곡일련번호', '31175119'),\n",
       "              ('순위', '37'),\n",
       "              ('앨범', 'Summer Nights'),\n",
       "              ('곡명', 'Dance The Night Away'),\n",
       "              ('가수', 'TWICE (트와이스)'),\n",
       "              ('커버이미지_주소',\n",
       "               'https://cdnimg.melon.co.kr/cm/album/images/101/83/127/10183127_500.jpg/melon/resize/120/quality/80/optimize'),\n",
       "              ('좋아요', '127052')]),\n",
       " OrderedDict([('곡일련번호', '31331750'),\n",
       "              ('순위', '38'),\n",
       "              ('앨범', 'r'),\n",
       "              ('곡명', '나'),\n",
       "              ('가수', '박원'),\n",
       "              ('커버이미지_주소',\n",
       "               'https://cdnimg.melon.co.kr/cm/album/images/102/08/360/10208360_500.jpg/melon/resize/120/quality/80/optimize'),\n",
       "              ('좋아요', '26696')]),\n",
       " OrderedDict([('곡일련번호', '31113240'),\n",
       "              ('순위', '39'),\n",
       "              ('앨범', '1÷χ=1 (UNDIVIDED)'),\n",
       "              ('곡명', '켜줘 (Light)'),\n",
       "              ('가수', 'Wanna One (워너원)'),\n",
       "              ('커버이미지_주소',\n",
       "               'https://cdnimg.melon.co.kr/cm/album/images/101/73/365/10173365_500.jpg/melon/resize/120/quality/80/optimize'),\n",
       "              ('좋아요', '112878')]),\n",
       " OrderedDict([('곡일련번호', '31230093'),\n",
       "              ('순위', '40'),\n",
       "              ('앨범', 'Summer Magic - Summer Mini Album'),\n",
       "              ('곡명', 'Power Up'),\n",
       "              ('가수', 'Red Velvet (레드벨벳)'),\n",
       "              ('커버이미지_주소',\n",
       "               'https://cdnimg.melon.co.kr/cm/album/images/101/91/694/10191694_500.jpg/melon/resize/120/quality/80/optimize'),\n",
       "              ('좋아요', '130949')]),\n",
       " OrderedDict([('곡일련번호', '30568338'),\n",
       "              ('순위', '41'),\n",
       "              ('앨범', '1X1=1(TO BE ONE)'),\n",
       "              ('곡명', '에너제틱 (Energetic)'),\n",
       "              ('가수', 'Wanna One (워너원)'),\n",
       "              ('커버이미지_주소',\n",
       "               'https://cdnimg.melon.co.kr/cm/album/images/100/85/951/10085951_500.jpg/melon/resize/120/quality/80/optimize'),\n",
       "              ('좋아요', '268394')]),\n",
       " OrderedDict([('곡일련번호', '30859584'),\n",
       "              ('순위', '42'),\n",
       "              ('앨범', 'Return'),\n",
       "              ('곡명', '사랑을 했다 (LOVE SCENARIO)'),\n",
       "              ('가수', 'iKON'),\n",
       "              ('커버이미지_주소',\n",
       "               'https://cdnimg.melon.co.kr/cm/album/images/101/32/945/10132945_500.jpg/melon/resize/120/quality/80/optimize'),\n",
       "              ('좋아요', '267692')]),\n",
       " OrderedDict([('곡일련번호', '31304766'),\n",
       "              ('순위', '43'),\n",
       "              ('앨범', '이별하러 가는 길'),\n",
       "              ('곡명', '이별하러 가는 길'),\n",
       "              ('가수', '임한별'),\n",
       "              ('커버이미지_주소',\n",
       "               'https://cdnimg.melon.co.kr/cm/album/images/102/03/965/10203965_500.jpg/melon/resize/120/quality/80/optimize'),\n",
       "              ('좋아요', '25182')]),\n",
       " OrderedDict([('곡일련번호', '30960341'),\n",
       "              ('순위', '44'),\n",
       "              ('앨범', '0+1=1 (I PROMISE YOU)'),\n",
       "              ('곡명', 'BOOMERANG (부메랑)'),\n",
       "              ('가수', 'Wanna One (워너원)'),\n",
       "              ('커버이미지_주소',\n",
       "               'https://cdnimg.melon.co.kr/cm/album/images/101/44/723/10144723_2_500.jpg/melon/resize/120/quality/80/optimize'),\n",
       "              ('좋아요', '124968')]),\n",
       " OrderedDict([('곡일련번호', '30725482'),\n",
       "              ('순위', '45'),\n",
       "              ('앨범', '1-1=0 (NOTHING WITHOUT YOU)'),\n",
       "              ('곡명', 'Beautiful'),\n",
       "              ('가수', 'Wanna One (워너원)'),\n",
       "              ('커버이미지_주소',\n",
       "               'https://cdnimg.melon.co.kr/cm/album/images/101/11/029/10111029_500.jpg/melon/resize/120/quality/80/optimize'),\n",
       "              ('좋아요', '216065')]),\n",
       " OrderedDict([('곡일련번호', '31093710'),\n",
       "              ('순위', '46'),\n",
       "              ('앨범', 'Red Diary Page.2'),\n",
       "              ('곡명', '여행'),\n",
       "              ('가수', '볼빨간사춘기'),\n",
       "              ('커버이미지_주소',\n",
       "               'https://cdnimg.melon.co.kr/cm/album/images/101/70/069/10170069_500.jpg/melon/resize/120/quality/80/optimize'),\n",
       "              ('좋아요', '190489')]),\n",
       " OrderedDict([('곡일련번호', '31113241'),\n",
       "              ('순위', '47'),\n",
       "              ('앨범', '1÷χ=1 (UNDIVIDED)'),\n",
       "              ('곡명', '캥거루 (Kangaroo) (Prod. ZICO)'),\n",
       "              ('가수', 'Wanna One (워너원) - 트리플포지션'),\n",
       "              ('커버이미지_주소',\n",
       "               'https://cdnimg.melon.co.kr/cm/album/images/101/73/365/10173365_500.jpg/melon/resize/120/quality/80/optimize'),\n",
       "              ('좋아요', '104852')]),\n",
       " OrderedDict([('곡일련번호', '31189241'),\n",
       "              ('순위', '48'),\n",
       "              ('앨범', 'RED MOON'),\n",
       "              ('곡명', '너나 해 (Egotistic)'),\n",
       "              ('가수', '마마무(Mamamoo)'),\n",
       "              ('커버이미지_주소',\n",
       "               'https://cdnimg.melon.co.kr/cm/album/images/101/85/416/10185416_500.jpg/melon/resize/120/quality/80/optimize'),\n",
       "              ('좋아요', '94861')]),\n",
       " OrderedDict([('곡일련번호', '30884950'),\n",
       "              ('순위', '49'),\n",
       "              ('앨범', '그때 헤어지면 돼'),\n",
       "              ('곡명', '그때 헤어지면 돼'),\n",
       "              ('가수', '로이킴'),\n",
       "              ('커버이미지_주소',\n",
       "               'https://cdnimg.melon.co.kr/cm/album/images/101/37/574/10137574_500.jpg/melon/resize/120/quality/80/optimize'),\n",
       "              ('좋아요', '176025')]),\n",
       " OrderedDict([('곡일련번호', '30809895'),\n",
       "              ('순위', '50'),\n",
       "              ('앨범', 'inside'),\n",
       "              ('곡명', '미안해'),\n",
       "              ('가수', '양다일'),\n",
       "              ('커버이미지_주소',\n",
       "               'https://cdnimg.melon.co.kr/cm/album/images/101/23/639/10123639_500.jpg/melon/resize/120/quality/80/optimize'),\n",
       "              ('좋아요', '115955')]),\n",
       " OrderedDict([('곡일련번호', '31224316'),\n",
       "              ('순위', '51'),\n",
       "              ('앨범', 'NEW KIDS : CONTINUE'),\n",
       "              ('곡명', '죽겠다 (KILLING ME)'),\n",
       "              ('가수', 'iKON'),\n",
       "              ('커버이미지_주소',\n",
       "               'https://cdnimg.melon.co.kr/cm/album/images/101/90/854/10190854_500.jpg/melon/resize/120/quality/80/optimize'),\n",
       "              ('좋아요', '66253')]),\n",
       " OrderedDict([('곡일련번호', '8235260'),\n",
       "              ('순위', '52'),\n",
       "              ('앨범', '비'),\n",
       "              ('곡명', '비'),\n",
       "              ('가수', '폴킴'),\n",
       "              ('커버이미지_주소',\n",
       "               'https://cdnimg.melon.co.kr/cm/album/images/026/92/501/2692501_500.jpg/melon/resize/120/quality/80/optimize'),\n",
       "              ('좋아요', '156761')]),\n",
       " OrderedDict([('곡일련번호', '30669593'),\n",
       "              ('순위', '53'),\n",
       "              ('앨범', '가을 안부'),\n",
       "              ('곡명', '가을 안부'),\n",
       "              ('가수', '먼데이 키즈 (Monday Kiz)'),\n",
       "              ('커버이미지_주소',\n",
       "               'https://cdnimg.melon.co.kr/cm/album/images/101/02/177/10102177_500.jpg/melon/resize/120/quality/80/optimize'),\n",
       "              ('좋아요', '109447')]),\n",
       " OrderedDict([('곡일련번호', '31133898'),\n",
       "              ('순위', '54'),\n",
       "              ('앨범', 'THIS IS US'),\n",
       "              ('곡명', '너 없인 안 된다'),\n",
       "              ('가수', '비투비'),\n",
       "              ('커버이미지_주소',\n",
       "               'https://cdnimg.melon.co.kr/cm/album/images/101/75/106/10175106_500.jpg/melon/resize/120/quality/80/optimize'),\n",
       "              ('좋아요', '132726')]),\n",
       " OrderedDict([('곡일련번호', '31346039'),\n",
       "              ('순위', '55'),\n",
       "              ('앨범', 'ABOUT ME'),\n",
       "              ('곡명', 'Not A Love'),\n",
       "              ('가수', '바이브'),\n",
       "              ('커버이미지_주소',\n",
       "               'https://cdnimg.melon.co.kr/cm/album/images/102/10/541/10210541_500.jpg/melon/resize/120/quality/80/optimize'),\n",
       "              ('좋아요', '2508')]),\n",
       " OrderedDict([('곡일련번호', '31164090'),\n",
       "              ('순위', '56'),\n",
       "              ('앨범', 'The Fairy Tale'),\n",
       "              ('곡명', '동화'),\n",
       "              ('가수', '멜로망스'),\n",
       "              ('커버이미지_주소',\n",
       "               'https://cdnimg.melon.co.kr/cm/album/images/101/81/438/10181438_500.jpg/melon/resize/120/quality/80/optimize'),\n",
       "              ('좋아요', '81522')]),\n",
       " OrderedDict([('곡일련번호', '31199873'),\n",
       "              ('순위', '57'),\n",
       "              ('앨범', 'THE GREAT SEUNGRI'),\n",
       "              ('곡명', '셋 셀테니 (1, 2, 3!)'),\n",
       "              ('가수', '승리'),\n",
       "              ('커버이미지_주소',\n",
       "               'https://cdnimg.melon.co.kr/cm/album/images/101/87/129/10187129_500.jpg/melon/resize/120/quality/80/optimize'),\n",
       "              ('좋아요', '78381')]),\n",
       " OrderedDict([('곡일련번호', '31161280'),\n",
       "              ('순위', '58'),\n",
       "              ('앨범', 'ONE & SIX'),\n",
       "              ('곡명', '1도 없어'),\n",
       "              ('가수', 'Apink (에이핑크)'),\n",
       "              ('커버이미지_주소',\n",
       "               'https://cdnimg.melon.co.kr/cm/album/images/101/81/013/10181013_500.jpg/melon/resize/120/quality/80/optimize'),\n",
       "              ('좋아요', '88037')]),\n",
       " OrderedDict([('곡일련번호', '30314784'),\n",
       "              ('순위', '59'),\n",
       "              ('앨범', '밤편지'),\n",
       "              ('곡명', '밤편지'),\n",
       "              ('가수', '아이유'),\n",
       "              ('커버이미지_주소',\n",
       "               'https://cdnimg.melon.co.kr/cm/album/images/100/47/890/10047890_500.jpg/melon/resize/120/quality/80/optimize'),\n",
       "              ('좋아요', '283167')]),\n",
       " OrderedDict([('곡일련번호', '31215747'),\n",
       "              ('순위', '60'),\n",
       "              ('앨범', 'SoulMate'),\n",
       "              ('곡명', 'SoulMate (Feat. 아이유)'),\n",
       "              ('가수', '지코 (ZICO)'),\n",
       "              ('커버이미지_주소',\n",
       "               'https://cdnimg.melon.co.kr/cm/album/images/101/89/402/10189402_500.jpg/melon/resize/120/quality/80/optimize'),\n",
       "              ('좋아요', '113443')]),\n",
       " OrderedDict([('곡일련번호', '31189085'),\n",
       "              ('순위', '61'),\n",
       "              ('앨범', 'SEVENTEEN 5TH MINI ALBUM `YOU MAKE MY DAY`'),\n",
       "              ('곡명', '어쩌나'),\n",
       "              ('가수', '세븐틴'),\n",
       "              ('커버이미지_주소',\n",
       "               'https://cdnimg.melon.co.kr/cm/album/images/101/85/387/10185387_500.jpg/melon/resize/120/quality/80/optimize'),\n",
       "              ('좋아요', '64770')]),\n",
       " OrderedDict([('곡일련번호', '31244486'),\n",
       "              ('순위', '62'),\n",
       "              ('앨범', 'A-TEEN Part.3'),\n",
       "              ('곡명', 'A-TEEN'),\n",
       "              ('가수', '세븐틴'),\n",
       "              ('커버이미지_주소',\n",
       "               'https://cdnimg.melon.co.kr/cm/album/images/101/94/044/10194044_500.jpg/melon/resize/120/quality/80/optimize'),\n",
       "              ('좋아요', '75932')]),\n",
       " OrderedDict([('곡일련번호', '30755375'),\n",
       "              ('순위', '63'),\n",
       "              ('앨범', '그날처럼'),\n",
       "              ('곡명', '그날처럼'),\n",
       "              ('가수', '장덕철'),\n",
       "              ('커버이미지_주소',\n",
       "               'https://cdnimg.melon.co.kr/cm/album/images/101/15/186/10115186_500.jpg/melon/resize/120/quality/80/optimize'),\n",
       "              ('좋아요', '208427')]),\n",
       " OrderedDict([('곡일련번호', '31113243'),\n",
       "              ('순위', '64'),\n",
       "              ('앨범', '1÷χ=1 (UNDIVIDED)'),\n",
       "              ('곡명', '모래시계 (Prod. 헤이즈)'),\n",
       "              ('가수', 'Wanna One (워너원) - 더힐'),\n",
       "              ('커버이미지_주소',\n",
       "               'https://cdnimg.melon.co.kr/cm/album/images/101/73/365/10173365_500.jpg/melon/resize/120/quality/80/optimize'),\n",
       "              ('좋아요', '83296')]),\n",
       " OrderedDict([('곡일련번호', '30672529'),\n",
       "              ('순위', '65'),\n",
       "              ('앨범', 'Brother Act.'),\n",
       "              ('곡명', '그리워하다'),\n",
       "              ('가수', '비투비'),\n",
       "              ('커버이미지_주소',\n",
       "               'https://cdnimg.melon.co.kr/cm/album/images/101/02/658/10102658_500.jpg/melon/resize/120/quality/80/optimize'),\n",
       "              ('좋아요', '203463')]),\n",
       " OrderedDict([('곡일련번호', '9642570'),\n",
       "              ('순위', '66'),\n",
       "              ('앨범', '넋두리'),\n",
       "              ('곡명', '넋두리'),\n",
       "              ('가수', '닐로 (Nilo)'),\n",
       "              ('커버이미지_주소',\n",
       "               'https://cdnimg.melon.co.kr/cm/album/images/027/10/553/2710553_500.jpg/melon/resize/120/quality/80/optimize'),\n",
       "              ('좋아요', '81028')]),\n",
       " OrderedDict([('곡일련번호', '30930312'),\n",
       "              ('순위', '67'),\n",
       "              ('앨범', '0+1=1 (I PROMISE YOU)'),\n",
       "              ('곡명', '약속해요 (I.P.U.)'),\n",
       "              ('가수', 'Wanna One (워너원)'),\n",
       "              ('커버이미지_주소',\n",
       "               'https://cdnimg.melon.co.kr/cm/album/images/101/44/723/10144723_2_500.jpg/melon/resize/120/quality/80/optimize'),\n",
       "              ('좋아요', '137141')]),\n",
       " OrderedDict([('곡일련번호', '31263577'),\n",
       "              ('순위', '68'),\n",
       "              ('앨범', '4.1'),\n",
       "              ('곡명', '매트리스'),\n",
       "              ('가수', '10cm'),\n",
       "              ('커버이미지_주소',\n",
       "               'https://cdnimg.melon.co.kr/cm/album/images/101/96/980/10196980_500.jpg/melon/resize/120/quality/80/optimize'),\n",
       "              ('좋아요', '62312')]),\n",
       " OrderedDict([('곡일련번호', '31340983'),\n",
       "              ('순위', '69'),\n",
       "              ('앨범', '쇼미더머니 777 Episode 1'),\n",
       "              ('곡명', '공상과학기술 (Feat. 기리보이, 스윙스)'),\n",
       "              ('가수', 'nafla'),\n",
       "              ('커버이미지_주소',\n",
       "               'https://cdnimg.melon.co.kr/cm/album/images/102/09/647/10209647_500.jpg/melon/resize/120/quality/80/optimize'),\n",
       "              ('좋아요', '13148')]),\n",
       " OrderedDict([('곡일련번호', '31131274'),\n",
       "              ('순위', '70'),\n",
       "              ('앨범', 'SQUARE UP'),\n",
       "              ('곡명', 'Forever Young'),\n",
       "              ('가수', 'BLACKPINK'),\n",
       "              ('커버이미지_주소',\n",
       "               'https://cdnimg.melon.co.kr/cm/album/images/101/76/415/10176415_500.jpg/melon/resize/120/quality/80/optimize'),\n",
       "              ('좋아요', '119422')]),\n",
       " OrderedDict([('곡일련번호', '31246870'),\n",
       "              ('순위', '71'),\n",
       "              ('앨범', '한(一)'),\n",
       "              ('곡명', '한(一)'),\n",
       "              ('가수', '(여자)아이들'),\n",
       "              ('커버이미지_주소',\n",
       "               'https://cdnimg.melon.co.kr/cm/album/images/101/94/362/10194362_500.jpg/melon/resize/120/quality/80/optimize'),\n",
       "              ('좋아요', '69062')]),\n",
       " OrderedDict([('곡일련번호', '31035061'),\n",
       "              ('순위', '72'),\n",
       "              ('앨범', '건반 위의 하이에나 Part.4'),\n",
       "              ('곡명', '주지마'),\n",
       "              ('가수', '로꼬'),\n",
       "              ('커버이미지_주소',\n",
       "               'https://cdnimg.melon.co.kr/cm/album/images/101/60/487/10160487_500.jpg/melon/resize/120/quality/80/optimize'),\n",
       "              ('좋아요', '154263')]),\n",
       " OrderedDict([('곡일련번호', '31147211'),\n",
       "              ('순위', '73'),\n",
       "              ('앨범', 'WHO, YOU'),\n",
       "              ('곡명', 'Dejavu'),\n",
       "              ('가수', '뉴이스트 W'),\n",
       "              ('커버이미지_주소',\n",
       "               'https://cdnimg.melon.co.kr/cm/album/images/101/78/912/10178912_500.jpg/melon/resize/120/quality/80/optimize'),\n",
       "              ('좋아요', '53081')]),\n",
       " OrderedDict([('곡일련번호', '30849733'),\n",
       "              ('순위', '74'),\n",
       "              ('앨범', '투유 프로젝트 - 슈가맨2 Part.2'),\n",
       "              ('곡명', 'You'),\n",
       "              ('가수', '멜로망스'),\n",
       "              ('커버이미지_주소',\n",
       "               'https://cdnimg.melon.co.kr/cm/album/images/101/31/018/10131018_500.jpg/melon/resize/120/quality/80/optimize'),\n",
       "              ('좋아요', '141103')]),\n",
       " OrderedDict([('곡일련번호', '31340984'),\n",
       "              ('순위', '75'),\n",
       "              ('앨범', '쇼미더머니 777 Episode 1'),\n",
       "              ('곡명', '패 (Feat. 넉살, 딥플로우)'),\n",
       "              ('가수', '김효은'),\n",
       "              ('커버이미지_주소',\n",
       "               'https://cdnimg.melon.co.kr/cm/album/images/102/09/647/10209647_500.jpg/melon/resize/120/quality/80/optimize'),\n",
       "              ('좋아요', '10536')]),\n",
       " OrderedDict([('곡일련번호', '31309947'),\n",
       "              ('순위', '76'),\n",
       "              ('앨범', 'A-TEEN Part.4'),\n",
       "              ('곡명', '도망가지마'),\n",
       "              ('가수', '모트 (Motte)'),\n",
       "              ('커버이미지_주소',\n",
       "               'https://cdnimg.melon.co.kr/cm/album/images/102/04/722/10204722_500.jpg/melon/resize/120/quality/80/optimize'),\n",
       "              ('좋아요', '48716')]),\n",
       " OrderedDict([('곡일련번호', '30721801'),\n",
       "              ('순위', '77'),\n",
       "              ('앨범', '돈꽃 OST Part.1'),\n",
       "              ('곡명', 'My Way'),\n",
       "              ('가수', '이수 (엠씨 더 맥스)'),\n",
       "              ('커버이미지_주소',\n",
       "               'https://cdnimg.melon.co.kr/cm/album/images/101/10/396/10110396_500.jpg/melon/resize/120/quality/80/optimize'),\n",
       "              ('좋아요', '119657')]),\n",
       " OrderedDict([('곡일련번호', '30514366'),\n",
       "              ('순위', '78'),\n",
       "              ('앨범', 'Moonlight'),\n",
       "              ('곡명', '선물'),\n",
       "              ('가수', '멜로망스'),\n",
       "              ('커버이미지_주소',\n",
       "               'https://cdnimg.melon.co.kr/cm/album/images/100/78/176/10078176_500.jpg/melon/resize/120/quality/80/optimize'),\n",
       "              ('좋아요', '266869')]),\n",
       " OrderedDict([('곡일련번호', '31227367'),\n",
       "              ('순위', '79'),\n",
       "              ('앨범', '미스터 션샤인 OST Part.5'),\n",
       "              ('곡명', '좋은 날'),\n",
       "              ('가수', '멜로망스'),\n",
       "              ('커버이미지_주소',\n",
       "               'https://cdnimg.melon.co.kr/cm/album/images/101/91/294/10191294_500.jpg/melon/resize/120/quality/80/optimize'),\n",
       "              ('좋아요', '33146')]),\n",
       " OrderedDict([('곡일련번호', '31113242'),\n",
       "              ('순위', '80'),\n",
       "              ('앨범', '1÷χ=1 (UNDIVIDED)'),\n",
       "              ('곡명', '영원+1 (Prod. NELL)'),\n",
       "              ('가수', 'Wanna One (워너원) - 린온미'),\n",
       "              ('커버이미지_주소',\n",
       "               'https://cdnimg.melon.co.kr/cm/album/images/101/73/365/10173365_500.jpg/melon/resize/120/quality/80/optimize'),\n",
       "              ('좋아요', '76313')]),\n",
       " OrderedDict([('곡일련번호', '31266377'),\n",
       "              ('순위', '81'),\n",
       "              ('앨범', '미스터 션샤인 OST Part.10'),\n",
       "              ('곡명', 'AND I'),\n",
       "              ('가수', '뉴이스트 W'),\n",
       "              ('커버이미지_주소',\n",
       "               'https://cdnimg.melon.co.kr/cm/album/images/101/97/500/10197500_500.jpg/melon/resize/120/quality/80/optimize'),\n",
       "              ('좋아요', '20736')]),\n",
       " OrderedDict([('곡일련번호', '31331749'),\n",
       "              ('순위', '82'),\n",
       "              ('앨범', 'I Don’t Care (with 스푼즈)'),\n",
       "              ('곡명', 'I Don’t Care (with 스푼즈)'),\n",
       "              ('가수', '뉴이스트 W'),\n",
       "              ('커버이미지_주소',\n",
       "               'https://cdnimg.melon.co.kr/cm/album/images/102/08/359/10208359_500.jpg/melon/resize/120/quality/80/optimize'),\n",
       "              ('좋아요', '13544')]),\n",
       " OrderedDict([('곡일련번호', '31147212'),\n",
       "              ('순위', '83'),\n",
       "              ('앨범', 'WHO, YOU'),\n",
       "              ('곡명', '북극성 (Polaris)'),\n",
       "              ('가수', '뉴이스트 W'),\n",
       "              ('커버이미지_주소',\n",
       "               'https://cdnimg.melon.co.kr/cm/album/images/101/78/912/10178912_500.jpg/melon/resize/120/quality/80/optimize'),\n",
       "              ('좋아요', '32098')]),\n",
       " OrderedDict([('곡일련번호', '30970444'),\n",
       "              ('순위', '84'),\n",
       "              ('앨범', '소나기 (Feat. 10cm)'),\n",
       "              ('곡명', '소나기 (Feat. 10cm)'),\n",
       "              ('가수', '용준형'),\n",
       "              ('커버이미지_주소',\n",
       "               'https://cdnimg.melon.co.kr/cm/album/images/101/50/572/10150572_500.jpg/melon/resize/120/quality/80/optimize'),\n",
       "              ('좋아요', '130935')]),\n",
       " OrderedDict([('곡일련번호', '31113244'),\n",
       "              ('순위', '85'),\n",
       "              ('앨범', '1÷χ=1 (UNDIVIDED)'),\n",
       "              ('곡명', '11 (Prod. 다이나믹듀오)'),\n",
       "              ('가수', 'Wanna One (워너원) - 남바완'),\n",
       "              ('커버이미지_주소',\n",
       "               'https://cdnimg.melon.co.kr/cm/album/images/101/73/365/10173365_500.jpg/melon/resize/120/quality/80/optimize'),\n",
       "              ('좋아요', '67211')]),\n",
       " OrderedDict([('곡일련번호', '4032981'),\n",
       "              ('순위', '86'),\n",
       "              ('앨범', 'THE SECOND MINI ALBUM `여보세요`'),\n",
       "              ('곡명', '여보세요'),\n",
       "              ('가수', 'NU`EST'),\n",
       "              ('커버이미지_주소',\n",
       "               'https://cdnimg.melon.co.kr/cm/album/images/021/75/137/2175137_500.jpg/melon/resize/120/quality/80/optimize'),\n",
       "              ('좋아요', '126064')]),\n",
       " OrderedDict([('곡일련번호', '31299371'),\n",
       "              ('순위', '87'),\n",
       "              ('앨범', '라이프 OST Part.6'),\n",
       "              ('곡명', '잘 지내요'),\n",
       "              ('가수', '정승환'),\n",
       "              ('커버이미지_주소',\n",
       "               'https://cdnimg.melon.co.kr/cm/album/images/102/02/962/10202962_500.jpg/melon/resize/120/quality/80/optimize'),\n",
       "              ('좋아요', '25169')]),\n",
       " OrderedDict([('곡일련번호', '30806539'),\n",
       "              ('순위', '88'),\n",
       "              ('앨범', 'Universe - 겨울 스페셜 앨범, 2017'),\n",
       "              ('곡명', '지나갈 테니 (Been Through)'),\n",
       "              ('가수', 'EXO'),\n",
       "              ('커버이미지_주소',\n",
       "               'https://cdnimg.melon.co.kr/cm/album/images/101/22/917/10122917_500.jpg/melon/resize/120/quality/80/optimize'),\n",
       "              ('좋아요', '88331')]),\n",
       " OrderedDict([('곡일련번호', '31324696'),\n",
       "              ('순위', '89'),\n",
       "              ('앨범', '연애플레이리스트3 Part.1'),\n",
       "              ('곡명', 'Perfect'),\n",
       "              ('가수', '10cm'),\n",
       "              ('커버이미지_주소',\n",
       "               'https://cdnimg.melon.co.kr/cm/album/images/102/07/153/10207153_500.jpg/melon/resize/120/quality/80/optimize'),\n",
       "              ('좋아요', '24732')]),\n",
       " OrderedDict([('곡일련번호', '8111603'),\n",
       "              ('순위', '90'),\n",
       "              ('앨범', 'Fitz and The Tantrums (Deluxe)'),\n",
       "              ('곡명', 'HandClap'),\n",
       "              ('가수', 'Fitz & The Tantrums'),\n",
       "              ('커버이미지_주소',\n",
       "               'https://cdnimg.melon.co.kr/cm/album/images/026/75/179/2675179_500.jpg/melon/resize/120/quality/80/optimize'),\n",
       "              ('좋아요', '156476')]),\n",
       " OrderedDict([('곡일련번호', '30661885'),\n",
       "              ('순위', '91'),\n",
       "              ('앨범', 'W, HERE'),\n",
       "              ('곡명', 'WHERE YOU AT'),\n",
       "              ('가수', '뉴이스트 W'),\n",
       "              ('커버이미지_주소',\n",
       "               'https://cdnimg.melon.co.kr/cm/album/images/101/00/941/10100941_500.jpg/melon/resize/120/quality/80/optimize'),\n",
       "              ('좋아요', '92753')]),\n",
       " OrderedDict([('곡일련번호', '31006730'),\n",
       "              ('순위', '92'),\n",
       "              ('앨범', 'What is Love?'),\n",
       "              ('곡명', 'What is Love?'),\n",
       "              ('가수', 'TWICE (트와이스)'),\n",
       "              ('커버이미지_주소',\n",
       "               'https://cdnimg.melon.co.kr/cm/album/images/101/56/195/10156195_500.jpg/melon/resize/120/quality/80/optimize'),\n",
       "              ('좋아요', '121530')]),\n",
       " OrderedDict([('곡일련번호', '31052421'),\n",
       "              ('순위', '93'),\n",
       "              ('앨범', \"여자친구 The 6th Mini Album 'Time for the moon night'\"),\n",
       "              ('곡명', '밤 (Time for the moon night)'),\n",
       "              ('가수', '여자친구 (GFRIEND)'),\n",
       "              ('커버이미지_주소',\n",
       "               'https://cdnimg.melon.co.kr/cm/album/images/101/63/106/10163106_500.jpg/melon/resize/120/quality/80/optimize'),\n",
       "              ('좋아요', '125760')]),\n",
       " OrderedDict([('곡일련번호', '31194610'),\n",
       "              ('순위', '94'),\n",
       "              ('앨범', 'Blooming Blue'),\n",
       "              ('곡명', 'Love U'),\n",
       "              ('가수', '청하'),\n",
       "              ('커버이미지_주소',\n",
       "               'https://cdnimg.melon.co.kr/cm/album/images/101/86/254/10186254_500.jpg/melon/resize/120/quality/80/optimize'),\n",
       "              ('좋아요', '61670')]),\n",
       " OrderedDict([('곡일련번호', '31147210'),\n",
       "              ('순위', '95'),\n",
       "              ('앨범', 'WHO, YOU'),\n",
       "              ('곡명', 'Signal'),\n",
       "              ('가수', '뉴이스트 W'),\n",
       "              ('커버이미지_주소',\n",
       "               'https://cdnimg.melon.co.kr/cm/album/images/101/78/912/10178912_500.jpg/melon/resize/120/quality/80/optimize'),\n",
       "              ('좋아요', '27270')]),\n",
       " OrderedDict([('곡일련번호', '30937275'),\n",
       "              ('순위', '96'),\n",
       "              ('앨범', 'Yellow Flower'),\n",
       "              ('곡명', '별이 빛나는 밤'),\n",
       "              ('가수', '마마무(Mamamoo)'),\n",
       "              ('커버이미지_주소',\n",
       "               'https://cdnimg.melon.co.kr/cm/album/images/101/45/303/10145303_500.jpg/melon/resize/120/quality/80/optimize'),\n",
       "              ('좋아요', '145494')]),\n",
       " OrderedDict([('곡일련번호', '31147213'),\n",
       "              ('순위', '97'),\n",
       "              ('앨범', 'WHO, YOU'),\n",
       "              ('곡명', 'ylenoL'),\n",
       "              ('가수', '뉴이스트 W'),\n",
       "              ('커버이미지_주소',\n",
       "               'https://cdnimg.melon.co.kr/cm/album/images/101/78/912/10178912_500.jpg/melon/resize/120/quality/80/optimize'),\n",
       "              ('좋아요', '26136')]),\n",
       " OrderedDict([('곡일련번호', '31288765'),\n",
       "              ('순위', '98'),\n",
       "              ('앨범', '몰랐니 - The 1st Single Album'),\n",
       "              ('곡명', '몰랐니 (Lil` Touch)'),\n",
       "              ('가수', '소녀시대-Oh!GG'),\n",
       "              ('커버이미지_주소',\n",
       "               'https://cdnimg.melon.co.kr/cm/album/images/102/01/272/10201272_500.jpg/melon/resize/120/quality/80/optimize'),\n",
       "              ('좋아요', '42853')]),\n",
       " OrderedDict([('곡일련번호', '31147214'),\n",
       "              ('순위', '99'),\n",
       "              ('앨범', 'WHO, YOU'),\n",
       "              ('곡명', '중력달 (Gravity&Moon;)'),\n",
       "              ('가수', '뉴이스트 W'),\n",
       "              ('커버이미지_주소',\n",
       "               'https://cdnimg.melon.co.kr/cm/album/images/101/78/912/10178912_500.jpg/melon/resize/120/quality/80/optimize'),\n",
       "              ('좋아요', '26091')]),\n",
       " OrderedDict([('곡일련번호', '30806540'),\n",
       "              ('순위', '100'),\n",
       "              ('앨범', 'Universe - 겨울 스페셜 앨범, 2017'),\n",
       "              ('곡명', 'Stay'),\n",
       "              ('가수', 'EXO'),\n",
       "              ('커버이미지_주소',\n",
       "               'https://cdnimg.melon.co.kr/cm/album/images/101/22/917/10122917_500.jpg/melon/resize/120/quality/80/optimize'),\n",
       "              ('좋아요', '81556')])]"
      ]
     },
     "execution_count": 50,
     "metadata": {},
     "output_type": "execute_result"
    }
   ],
   "source": [
    "import csv\n",
    "\n",
    "with open(\"멜론TOP100.csv\", \"rt\", encoding=\"utf8\") as f:\n",
    "    reader = csv.DictReader(f)\n",
    "    멜론_top100_리스트 = list(reader)  # Generator => list\n",
    "    \n",
    "멜론_top100_리스트"
   ]
  },
  {
   "cell_type": "code",
   "execution_count": 51,
   "metadata": {},
   "outputs": [
    {
     "data": {
      "text/plain": [
       "list"
      ]
     },
     "execution_count": 51,
     "metadata": {},
     "output_type": "execute_result"
    }
   ],
   "source": [
    "type(멜론_top100_리스트)"
   ]
  },
  {
   "cell_type": "code",
   "execution_count": 52,
   "metadata": {},
   "outputs": [
    {
     "data": {
      "text/plain": [
       "OrderedDict([('곡일련번호', '31346009'),\n",
       "             ('순위', '1'),\n",
       "             ('앨범', '삐삐'),\n",
       "             ('곡명', '삐삐'),\n",
       "             ('가수', '아이유'),\n",
       "             ('커버이미지_주소',\n",
       "              'https://cdnimg.melon.co.kr/cm/album/images/102/10/535/10210535_500.jpg/melon/resize/120/quality/80/optimize'),\n",
       "             ('좋아요', '61528')])"
      ]
     },
     "execution_count": 52,
     "metadata": {},
     "output_type": "execute_result"
    }
   ],
   "source": [
    "멜론_top100_리스트[0]"
   ]
  },
  {
   "cell_type": "code",
   "execution_count": 55,
   "metadata": {},
   "outputs": [
    {
     "data": {
      "text/plain": [
       "'아이유'"
      ]
     },
     "execution_count": 55,
     "metadata": {},
     "output_type": "execute_result"
    }
   ],
   "source": [
    "멜론_top100_리스트[0]['가수']"
   ]
  },
  {
   "cell_type": "code",
   "execution_count": null,
   "metadata": {},
   "outputs": [],
   "source": []
  },
  {
   "cell_type": "code",
   "execution_count": 60,
   "metadata": {
    "collapsed": true
   },
   "outputs": [
    {
     "name": "stdout",
     "output_type": "stream",
     "text": [
      "1 삐삐 아이유 61528\n",
      "2 시간이 들겠지 (Feat. Colde) 로꼬 48331\n",
      "3 Good Day (Feat. 팔로알토) (Prod. 코드 쿤스트) pH-1 54022\n",
      "4 하루도 그대를 사랑하지 않은 적이 없었다 임창정 97984\n",
      "5 IDOL 방탄소년단 173279\n",
      "6 이별길 (GOODBYE ROAD) iKON 55396\n",
      "7 사임사임 (Feat. CHANGMO) Coogie 27564\n",
      "8 I`m Fine 방탄소년단 132847\n",
      "9 우리 그만하자 로이킴 95771\n",
      "10 FAKE LOVE 방탄소년단 253847\n",
      "11 가을 타나 봐 바이브 28056\n",
      "12 Euphoria 방탄소년단 129017\n",
      "13 헤어지는 중 펀치 (Punch) 77050\n",
      "14 Answer : Love Myself 방탄소년단 108151\n",
      "15 전하지 못한 진심 (Feat. Steve Aoki) 방탄소년단 176653\n",
      "16 Epiphany 방탄소년단 101011\n",
      "17 Trivia 轉 : Seesaw 방탄소년단 98436\n",
      "18 모든 날, 모든 순간 (Every day, Every Moment) 폴킴 185706\n",
      "19 YOUNG 백현 (BAEKHYUN) 91106\n",
      "20 Trivia 起 : Just Dance 방탄소년단 88970\n",
      "21 사이렌 (Siren) 선미 91516\n",
      "22 Trivia 承 : Love 방탄소년단 83610\n",
      "23 열애중 벤 115805\n",
      "24 Way Back Home 숀 (SHAUN) 225308\n",
      "25 Anpanman 방탄소년단 138694\n",
      "26 봄날 방탄소년단 359130\n",
      "27 DNA 방탄소년단 323911\n",
      "28 Airplane pt.2 방탄소년단 127355\n",
      "29 Universe EXO 155809\n",
      "30 We Young 찬열 53852\n",
      "31 flex (Prod. By 기리보이) 기리보이 72135\n",
      "32 花요일 (Blooming Day) EXO-CBX (첸백시) 110311\n",
      "33 IndiGO 저스디스 (JUSTHIS) 46739\n",
      "34 Sheep (Alan Walker Relift) 레이 (LAY) 30411\n",
      "35 뚜두뚜두 (DDU-DU DDU-DU) BLACKPINK 192831\n",
      "36 지나오다 닐로 (Nilo) 178367\n",
      "37 Dance The Night Away TWICE (트와이스) 127052\n",
      "38 나 박원 26696\n",
      "39 켜줘 (Light) Wanna One (워너원) 112878\n",
      "40 Power Up Red Velvet (레드벨벳) 130949\n",
      "41 에너제틱 (Energetic) Wanna One (워너원) 268394\n",
      "42 사랑을 했다 (LOVE SCENARIO) iKON 267692\n",
      "43 이별하러 가는 길 임한별 25182\n",
      "44 BOOMERANG (부메랑) Wanna One (워너원) 124968\n",
      "45 Beautiful Wanna One (워너원) 216065\n",
      "46 여행 볼빨간사춘기 190489\n",
      "47 캥거루 (Kangaroo) (Prod. ZICO) Wanna One (워너원) - 트리플포지션 104852\n",
      "48 너나 해 (Egotistic) 마마무(Mamamoo) 94861\n",
      "49 그때 헤어지면 돼 로이킴 176025\n",
      "50 미안해 양다일 115955\n",
      "51 죽겠다 (KILLING ME) iKON 66253\n",
      "52 비 폴킴 156761\n",
      "53 가을 안부 먼데이 키즈 (Monday Kiz) 109447\n",
      "54 너 없인 안 된다 비투비 132726\n",
      "55 Not A Love 바이브 2508\n",
      "56 동화 멜로망스 81522\n",
      "57 셋 셀테니 (1, 2, 3!) 승리 78381\n",
      "58 1도 없어 Apink (에이핑크) 88037\n",
      "59 밤편지 아이유 283167\n",
      "60 SoulMate (Feat. 아이유) 지코 (ZICO) 113443\n",
      "61 어쩌나 세븐틴 64770\n",
      "62 A-TEEN 세븐틴 75932\n",
      "63 그날처럼 장덕철 208427\n",
      "64 모래시계 (Prod. 헤이즈) Wanna One (워너원) - 더힐 83296\n",
      "65 그리워하다 비투비 203463\n",
      "66 넋두리 닐로 (Nilo) 81028\n",
      "67 약속해요 (I.P.U.) Wanna One (워너원) 137141\n",
      "68 매트리스 10cm 62312\n",
      "69 공상과학기술 (Feat. 기리보이, 스윙스) nafla 13148\n",
      "70 Forever Young BLACKPINK 119422\n",
      "71 한(一) (여자)아이들 69062\n",
      "72 주지마 로꼬 154263\n",
      "73 Dejavu 뉴이스트 W 53081\n",
      "74 You 멜로망스 141103\n",
      "75 패 (Feat. 넉살, 딥플로우) 김효은 10536\n",
      "76 도망가지마 모트 (Motte) 48716\n",
      "77 My Way 이수 (엠씨 더 맥스) 119657\n",
      "78 선물 멜로망스 266869\n",
      "79 좋은 날 멜로망스 33146\n",
      "80 영원+1 (Prod. NELL) Wanna One (워너원) - 린온미 76313\n",
      "81 AND I 뉴이스트 W 20736\n",
      "82 I Don’t Care (with 스푼즈) 뉴이스트 W 13544\n",
      "83 북극성 (Polaris) 뉴이스트 W 32098\n",
      "84 소나기 (Feat. 10cm) 용준형 130935\n",
      "85 11 (Prod. 다이나믹듀오) Wanna One (워너원) - 남바완 67211\n",
      "86 여보세요 NU`EST 126064\n",
      "87 잘 지내요 정승환 25169\n",
      "88 지나갈 테니 (Been Through) EXO 88331\n",
      "89 Perfect 10cm 24732\n",
      "90 HandClap Fitz & The Tantrums 156476\n",
      "91 WHERE YOU AT 뉴이스트 W 92753\n",
      "92 What is Love? TWICE (트와이스) 121530\n",
      "93 밤 (Time for the moon night) 여자친구 (GFRIEND) 125760\n",
      "94 Love U 청하 61670\n",
      "95 Signal 뉴이스트 W 27270\n",
      "96 별이 빛나는 밤 마마무(Mamamoo) 145494\n",
      "97 ylenoL 뉴이스트 W 26136\n",
      "98 몰랐니 (Lil` Touch) 소녀시대-Oh!GG 42853\n",
      "99 중력달 (Gravity&Moon;) 뉴이스트 W 26091\n",
      "100 Stay EXO 81556\n"
     ]
    }
   ],
   "source": [
    "rank = 1\n",
    "for 곡 in 멜론_top100_리스트:\n",
    "    print(rank, 곡['곡명'], 곡['가수'], 곡['좋아요'])\n",
    "    rank += 1"
   ]
  },
  {
   "cell_type": "code",
   "execution_count": 62,
   "metadata": {},
   "outputs": [
    {
     "name": "stdout",
     "output_type": "stream",
     "text": [
      "1 삐삐 아이유 61528\n",
      "2 시간이 들겠지 (Feat. Colde) 로꼬 48331\n",
      "3 Good Day (Feat. 팔로알토) (Prod. 코드 쿤스트) pH-1 54022\n",
      "4 하루도 그대를 사랑하지 않은 적이 없었다 임창정 97984\n",
      "5 IDOL 방탄소년단 173279\n",
      "6 이별길 (GOODBYE ROAD) iKON 55396\n",
      "7 사임사임 (Feat. CHANGMO) Coogie 27564\n",
      "8 I`m Fine 방탄소년단 132847\n",
      "9 우리 그만하자 로이킴 95771\n",
      "10 FAKE LOVE 방탄소년단 253847\n",
      "11 가을 타나 봐 바이브 28056\n",
      "12 Euphoria 방탄소년단 129017\n",
      "13 헤어지는 중 펀치 (Punch) 77050\n",
      "14 Answer : Love Myself 방탄소년단 108151\n",
      "15 전하지 못한 진심 (Feat. Steve Aoki) 방탄소년단 176653\n",
      "16 Epiphany 방탄소년단 101011\n",
      "17 Trivia 轉 : Seesaw 방탄소년단 98436\n",
      "18 모든 날, 모든 순간 (Every day, Every Moment) 폴킴 185706\n",
      "19 YOUNG 백현 (BAEKHYUN) 91106\n",
      "20 Trivia 起 : Just Dance 방탄소년단 88970\n",
      "21 사이렌 (Siren) 선미 91516\n",
      "22 Trivia 承 : Love 방탄소년단 83610\n",
      "23 열애중 벤 115805\n",
      "24 Way Back Home 숀 (SHAUN) 225308\n",
      "25 Anpanman 방탄소년단 138694\n",
      "26 봄날 방탄소년단 359130\n",
      "27 DNA 방탄소년단 323911\n",
      "28 Airplane pt.2 방탄소년단 127355\n",
      "29 Universe EXO 155809\n",
      "30 We Young 찬열 53852\n",
      "31 flex (Prod. By 기리보이) 기리보이 72135\n",
      "32 花요일 (Blooming Day) EXO-CBX (첸백시) 110311\n",
      "33 IndiGO 저스디스 (JUSTHIS) 46739\n",
      "34 Sheep (Alan Walker Relift) 레이 (LAY) 30411\n",
      "35 뚜두뚜두 (DDU-DU DDU-DU) BLACKPINK 192831\n",
      "36 지나오다 닐로 (Nilo) 178367\n",
      "37 Dance The Night Away TWICE (트와이스) 127052\n",
      "38 나 박원 26696\n",
      "39 켜줘 (Light) Wanna One (워너원) 112878\n",
      "40 Power Up Red Velvet (레드벨벳) 130949\n",
      "41 에너제틱 (Energetic) Wanna One (워너원) 268394\n",
      "42 사랑을 했다 (LOVE SCENARIO) iKON 267692\n",
      "43 이별하러 가는 길 임한별 25182\n",
      "44 BOOMERANG (부메랑) Wanna One (워너원) 124968\n",
      "45 Beautiful Wanna One (워너원) 216065\n",
      "46 여행 볼빨간사춘기 190489\n",
      "47 캥거루 (Kangaroo) (Prod. ZICO) Wanna One (워너원) - 트리플포지션 104852\n",
      "48 너나 해 (Egotistic) 마마무(Mamamoo) 94861\n",
      "49 그때 헤어지면 돼 로이킴 176025\n",
      "50 미안해 양다일 115955\n",
      "51 죽겠다 (KILLING ME) iKON 66253\n",
      "52 비 폴킴 156761\n",
      "53 가을 안부 먼데이 키즈 (Monday Kiz) 109447\n",
      "54 너 없인 안 된다 비투비 132726\n",
      "55 Not A Love 바이브 2508\n",
      "56 동화 멜로망스 81522\n",
      "57 셋 셀테니 (1, 2, 3!) 승리 78381\n",
      "58 1도 없어 Apink (에이핑크) 88037\n",
      "59 밤편지 아이유 283167\n",
      "60 SoulMate (Feat. 아이유) 지코 (ZICO) 113443\n",
      "61 어쩌나 세븐틴 64770\n",
      "62 A-TEEN 세븐틴 75932\n",
      "63 그날처럼 장덕철 208427\n",
      "64 모래시계 (Prod. 헤이즈) Wanna One (워너원) - 더힐 83296\n",
      "65 그리워하다 비투비 203463\n",
      "66 넋두리 닐로 (Nilo) 81028\n",
      "67 약속해요 (I.P.U.) Wanna One (워너원) 137141\n",
      "68 매트리스 10cm 62312\n",
      "69 공상과학기술 (Feat. 기리보이, 스윙스) nafla 13148\n",
      "70 Forever Young BLACKPINK 119422\n",
      "71 한(一) (여자)아이들 69062\n",
      "72 주지마 로꼬 154263\n",
      "73 Dejavu 뉴이스트 W 53081\n",
      "74 You 멜로망스 141103\n",
      "75 패 (Feat. 넉살, 딥플로우) 김효은 10536\n",
      "76 도망가지마 모트 (Motte) 48716\n",
      "77 My Way 이수 (엠씨 더 맥스) 119657\n",
      "78 선물 멜로망스 266869\n",
      "79 좋은 날 멜로망스 33146\n",
      "80 영원+1 (Prod. NELL) Wanna One (워너원) - 린온미 76313\n",
      "81 AND I 뉴이스트 W 20736\n",
      "82 I Don’t Care (with 스푼즈) 뉴이스트 W 13544\n",
      "83 북극성 (Polaris) 뉴이스트 W 32098\n",
      "84 소나기 (Feat. 10cm) 용준형 130935\n",
      "85 11 (Prod. 다이나믹듀오) Wanna One (워너원) - 남바완 67211\n",
      "86 여보세요 NU`EST 126064\n",
      "87 잘 지내요 정승환 25169\n",
      "88 지나갈 테니 (Been Through) EXO 88331\n",
      "89 Perfect 10cm 24732\n",
      "90 HandClap Fitz & The Tantrums 156476\n",
      "91 WHERE YOU AT 뉴이스트 W 92753\n",
      "92 What is Love? TWICE (트와이스) 121530\n",
      "93 밤 (Time for the moon night) 여자친구 (GFRIEND) 125760\n",
      "94 Love U 청하 61670\n",
      "95 Signal 뉴이스트 W 27270\n",
      "96 별이 빛나는 밤 마마무(Mamamoo) 145494\n",
      "97 ylenoL 뉴이스트 W 26136\n",
      "98 몰랐니 (Lil` Touch) 소녀시대-Oh!GG 42853\n",
      "99 중력달 (Gravity&Moon;) 뉴이스트 W 26091\n",
      "100 Stay EXO 81556\n"
     ]
    }
   ],
   "source": [
    "for rank, 곡 in enumerate(멜론_top100_리스트, 1):\n",
    "    print(rank, 곡['곡명'], 곡['가수'], 곡['좋아요'])"
   ]
  },
  {
   "cell_type": "markdown",
   "metadata": {},
   "source": [
    "방탄소년단의 노래만 출력"
   ]
  },
  {
   "cell_type": "code",
   "execution_count": 63,
   "metadata": {},
   "outputs": [
    {
     "name": "stdout",
     "output_type": "stream",
     "text": [
      "5 IDOL 방탄소년단 173279\n",
      "8 I`m Fine 방탄소년단 132847\n",
      "10 FAKE LOVE 방탄소년단 253847\n",
      "12 Euphoria 방탄소년단 129017\n",
      "14 Answer : Love Myself 방탄소년단 108151\n",
      "15 전하지 못한 진심 (Feat. Steve Aoki) 방탄소년단 176653\n",
      "16 Epiphany 방탄소년단 101011\n",
      "17 Trivia 轉 : Seesaw 방탄소년단 98436\n",
      "20 Trivia 起 : Just Dance 방탄소년단 88970\n",
      "22 Trivia 承 : Love 방탄소년단 83610\n",
      "25 Anpanman 방탄소년단 138694\n",
      "26 봄날 방탄소년단 359130\n",
      "27 DNA 방탄소년단 323911\n",
      "28 Airplane pt.2 방탄소년단 127355\n"
     ]
    }
   ],
   "source": [
    "for rank, 곡 in enumerate(멜론_top100_리스트, 1):\n",
    "    # java라면, 곡['가수'].equals(\"방탄소년단\")\n",
    "    if 곡['가수'] == '방탄소년단':\n",
    "        print(rank, 곡['곡명'], 곡['가수'], 곡['좋아요'])"
   ]
  },
  {
   "cell_type": "markdown",
   "metadata": {},
   "source": [
    "곡명에 \"가을\"이 들어가는 노래만"
   ]
  },
  {
   "cell_type": "code",
   "execution_count": 64,
   "metadata": {},
   "outputs": [
    {
     "name": "stdout",
     "output_type": "stream",
     "text": [
      "11 가을 타나 봐 바이브 28056\n",
      "53 가을 안부 먼데이 키즈 (Monday Kiz) 109447\n"
     ]
    }
   ],
   "source": [
    "for rank, 곡 in enumerate(멜론_top100_리스트, 1):\n",
    "    # java라면, 곡['곡명'].contains(\"가을\")\n",
    "    if '가을' in 곡['곡명']:\n",
    "        print(rank, 곡['곡명'], 곡['가수'], 곡['좋아요'])"
   ]
  },
  {
   "cell_type": "markdown",
   "metadata": {},
   "source": [
    "\"좋아요\" 수가 20000이 넘는 노래만"
   ]
  },
  {
   "cell_type": "code",
   "execution_count": 68,
   "metadata": {},
   "outputs": [
    {
     "name": "stdout",
     "output_type": "stream",
     "text": [
      "10 FAKE LOVE 방탄소년단 253847\n",
      "24 Way Back Home 숀 (SHAUN) 225308\n",
      "26 봄날 방탄소년단 359130\n",
      "27 DNA 방탄소년단 323911\n",
      "41 에너제틱 (Energetic) Wanna One (워너원) 268394\n",
      "42 사랑을 했다 (LOVE SCENARIO) iKON 267692\n",
      "45 Beautiful Wanna One (워너원) 216065\n",
      "59 밤편지 아이유 283167\n",
      "63 그날처럼 장덕철 208427\n",
      "65 그리워하다 비투비 203463\n",
      "78 선물 멜로망스 266869\n"
     ]
    }
   ],
   "source": [
    "for rank, 곡 in enumerate(멜론_top100_리스트, 1):\n",
    "    if int(곡['좋아요']) > 200000:\n",
    "        print(rank, 곡['곡명'], 곡['가수'], 곡['좋아요'])"
   ]
  },
  {
   "cell_type": "markdown",
   "metadata": {},
   "source": [
    "가수별 곡수를 출력해보세요."
   ]
  },
  {
   "cell_type": "code",
   "execution_count": 73,
   "metadata": {},
   "outputs": [],
   "source": [
    "가수별_곡수 = {}\n",
    "\n",
    "for 곡 in 멜론_top100_리스트:\n",
    "    가수 = 곡['가수']\n",
    "    if 가수 not in 가수별_곡수:  # key 멤버쉽 체크\n",
    "        가수별_곡수[가수] = 0\n",
    "    가수별_곡수[가수] += 1\n",
    "    \n",
    "# 가수별_곡수"
   ]
  },
  {
   "cell_type": "code",
   "execution_count": 75,
   "metadata": {},
   "outputs": [
    {
     "data": {
      "text/plain": [
       "[]"
      ]
     },
     "execution_count": 75,
     "metadata": {},
     "output_type": "execute_result"
    }
   ],
   "source": [
    "list()"
   ]
  },
  {
   "cell_type": "code",
   "execution_count": 76,
   "metadata": {},
   "outputs": [
    {
     "data": {
      "text/plain": [
       "()"
      ]
     },
     "execution_count": 76,
     "metadata": {},
     "output_type": "execute_result"
    }
   ],
   "source": [
    "tuple()"
   ]
  },
  {
   "cell_type": "code",
   "execution_count": 77,
   "metadata": {},
   "outputs": [
    {
     "data": {
      "text/plain": [
       "''"
      ]
     },
     "execution_count": 77,
     "metadata": {},
     "output_type": "execute_result"
    }
   ],
   "source": [
    "str()"
   ]
  },
  {
   "cell_type": "code",
   "execution_count": 78,
   "metadata": {},
   "outputs": [
    {
     "data": {
      "text/plain": [
       "0"
      ]
     },
     "execution_count": 78,
     "metadata": {},
     "output_type": "execute_result"
    }
   ],
   "source": [
    "int()"
   ]
  },
  {
   "cell_type": "code",
   "execution_count": 80,
   "metadata": {},
   "outputs": [],
   "source": [
    "from collections import defaultdict\n",
    "\n",
    "가수별_곡수 = defaultdict(int)  # 호출가능한 객체 -> 함수\n",
    "\n",
    "for 곡 in 멜론_top100_리스트:\n",
    "    가수 = 곡['가수']\n",
    "    가수별_곡수[가수] += 1\n",
    "    \n",
    "# 가수별_곡수"
   ]
  },
  {
   "cell_type": "code",
   "execution_count": 81,
   "metadata": {},
   "outputs": [
    {
     "data": {
      "text/plain": [
       "defaultdict(list,\n",
       "            {'아이유': ['삐삐', '밤편지'],\n",
       "             '로꼬': ['시간이 들겠지 (Feat. Colde)', '주지마'],\n",
       "             'pH-1': ['Good Day (Feat. 팔로알토) (Prod. 코드 쿤스트)'],\n",
       "             '임창정': ['하루도 그대를 사랑하지 않은 적이 없었다'],\n",
       "             '방탄소년단': ['IDOL',\n",
       "              'I`m Fine',\n",
       "              'FAKE LOVE',\n",
       "              'Euphoria',\n",
       "              'Answer : Love Myself',\n",
       "              '전하지 못한 진심 (Feat. Steve Aoki)',\n",
       "              'Epiphany',\n",
       "              'Trivia 轉 : Seesaw',\n",
       "              'Trivia 起 : Just Dance',\n",
       "              'Trivia 承 : Love',\n",
       "              'Anpanman',\n",
       "              '봄날',\n",
       "              'DNA',\n",
       "              'Airplane pt.2'],\n",
       "             'iKON': ['이별길 (GOODBYE ROAD)',\n",
       "              '사랑을 했다 (LOVE SCENARIO)',\n",
       "              '죽겠다 (KILLING ME)'],\n",
       "             'Coogie': ['사임사임 (Feat. CHANGMO)'],\n",
       "             '로이킴': ['우리 그만하자', '그때 헤어지면 돼'],\n",
       "             '바이브': ['가을 타나 봐', 'Not A Love'],\n",
       "             '펀치 (Punch)': ['헤어지는 중'],\n",
       "             '폴킴': ['모든 날, 모든 순간 (Every day, Every Moment)', '비'],\n",
       "             '백현 (BAEKHYUN)': ['YOUNG'],\n",
       "             '선미': ['사이렌 (Siren)'],\n",
       "             '벤': ['열애중'],\n",
       "             '숀 (SHAUN)': ['Way Back Home'],\n",
       "             'EXO': ['Universe', '지나갈 테니 (Been Through)', 'Stay'],\n",
       "             '찬열': ['We Young'],\n",
       "             '기리보이': ['flex (Prod. By 기리보이)'],\n",
       "             'EXO-CBX (첸백시)': ['花요일 (Blooming Day)'],\n",
       "             '저스디스 (JUSTHIS)': ['IndiGO'],\n",
       "             '레이 (LAY)': ['Sheep (Alan Walker Relift)'],\n",
       "             'BLACKPINK': ['뚜두뚜두 (DDU-DU DDU-DU)', 'Forever Young'],\n",
       "             '닐로 (Nilo)': ['지나오다', '넋두리'],\n",
       "             'TWICE (트와이스)': ['Dance The Night Away', 'What is Love?'],\n",
       "             '박원': ['나'],\n",
       "             'Wanna One (워너원)': ['켜줘 (Light)',\n",
       "              '에너제틱 (Energetic)',\n",
       "              'BOOMERANG (부메랑)',\n",
       "              'Beautiful',\n",
       "              '약속해요 (I.P.U.)'],\n",
       "             'Red Velvet (레드벨벳)': ['Power Up'],\n",
       "             '임한별': ['이별하러 가는 길'],\n",
       "             '볼빨간사춘기': ['여행'],\n",
       "             'Wanna One (워너원) - 트리플포지션': ['캥거루 (Kangaroo) (Prod. ZICO)'],\n",
       "             '마마무(Mamamoo)': ['너나 해 (Egotistic)', '별이 빛나는 밤'],\n",
       "             '양다일': ['미안해'],\n",
       "             '먼데이 키즈 (Monday Kiz)': ['가을 안부'],\n",
       "             '비투비': ['너 없인 안 된다', '그리워하다'],\n",
       "             '멜로망스': ['동화', 'You', '선물', '좋은 날'],\n",
       "             '승리': ['셋 셀테니 (1, 2, 3!)'],\n",
       "             'Apink (에이핑크)': ['1도 없어'],\n",
       "             '지코 (ZICO)': ['SoulMate (Feat. 아이유)'],\n",
       "             '세븐틴': ['어쩌나', 'A-TEEN'],\n",
       "             '장덕철': ['그날처럼'],\n",
       "             'Wanna One (워너원) - 더힐': ['모래시계 (Prod. 헤이즈)'],\n",
       "             '10cm': ['매트리스', 'Perfect'],\n",
       "             'nafla': ['공상과학기술 (Feat. 기리보이, 스윙스)'],\n",
       "             '(여자)아이들': ['한(一)'],\n",
       "             '뉴이스트 W': ['Dejavu',\n",
       "              'AND I',\n",
       "              'I Don’t Care (with 스푼즈)',\n",
       "              '북극성 (Polaris)',\n",
       "              'WHERE YOU AT',\n",
       "              'Signal',\n",
       "              'ylenoL',\n",
       "              '중력달 (Gravity&Moon;)'],\n",
       "             '김효은': ['패 (Feat. 넉살, 딥플로우)'],\n",
       "             '모트 (Motte)': ['도망가지마'],\n",
       "             '이수 (엠씨 더 맥스)': ['My Way'],\n",
       "             'Wanna One (워너원) - 린온미': ['영원+1 (Prod. NELL)'],\n",
       "             '용준형': ['소나기 (Feat. 10cm)'],\n",
       "             'Wanna One (워너원) - 남바완': ['11 (Prod. 다이나믹듀오)'],\n",
       "             'NU`EST': ['여보세요'],\n",
       "             '정승환': ['잘 지내요'],\n",
       "             'Fitz & The Tantrums': ['HandClap'],\n",
       "             '여자친구 (GFRIEND)': ['밤 (Time for the moon night)'],\n",
       "             '청하': ['Love U'],\n",
       "             '소녀시대-Oh!GG': ['몰랐니 (Lil` Touch)']})"
      ]
     },
     "execution_count": 81,
     "metadata": {},
     "output_type": "execute_result"
    }
   ],
   "source": [
    "from collections import defaultdict\n",
    "\n",
    "가수별_곡수 = defaultdict(list)  # 호출가능한 객체 -> 함수\n",
    "\n",
    "for 곡 in 멜론_top100_리스트:\n",
    "    가수 = 곡['가수']\n",
    "    가수별_곡수[가수].append(곡['곡명'])\n",
    "    \n",
    "가수별_곡수"
   ]
  },
  {
   "cell_type": "code",
   "execution_count": null,
   "metadata": {},
   "outputs": [],
   "source": []
  }
 ],
 "metadata": {
  "kernelspec": {
   "display_name": "Python 3",
   "language": "python",
   "name": "python3"
  },
  "language_info": {
   "codemirror_mode": {
    "name": "ipython",
    "version": 3
   },
   "file_extension": ".py",
   "mimetype": "text/x-python",
   "name": "python",
   "nbconvert_exporter": "python",
   "pygments_lexer": "ipython3",
   "version": "3.7.0"
  }
 },
 "nbformat": 4,
 "nbformat_minor": 2
}
